{
 "cells": [
  {
   "cell_type": "markdown",
   "id": "1999d71d",
   "metadata": {},
   "source": [
    "### Import des librairies"
   ]
  },
  {
   "cell_type": "code",
   "execution_count": 1,
   "id": "6b9a176c",
   "metadata": {},
   "outputs": [],
   "source": [
    "import pandas as pd \n",
    "import numpy as np\n",
    "import matplotlib.pyplot as plt\n",
    "%matplotlib inline\n",
    "import matplotlib.lines as mlines\n",
    "import seaborn as sns\n",
    "import scipy.stats as st\n",
    "from scipy.stats import pearsonr\n",
    "import datetime"
   ]
  },
  {
   "cell_type": "markdown",
   "id": "1785ddbc",
   "metadata": {},
   "source": [
    "## Import des données et prétraitement"
   ]
  },
  {
   "cell_type": "markdown",
   "id": "90ae5f22",
   "metadata": {},
   "source": [
    "Import du fichier \"transactions\""
   ]
  },
  {
   "cell_type": "code",
   "execution_count": 2,
   "id": "a0044883",
   "metadata": {
    "scrolled": true
   },
   "outputs": [
    {
     "data": {
      "text/html": [
       "<div>\n",
       "<style scoped>\n",
       "    .dataframe tbody tr th:only-of-type {\n",
       "        vertical-align: middle;\n",
       "    }\n",
       "\n",
       "    .dataframe tbody tr th {\n",
       "        vertical-align: top;\n",
       "    }\n",
       "\n",
       "    .dataframe thead th {\n",
       "        text-align: right;\n",
       "    }\n",
       "</style>\n",
       "<table border=\"1\" class=\"dataframe\">\n",
       "  <thead>\n",
       "    <tr style=\"text-align: right;\">\n",
       "      <th></th>\n",
       "      <th>id_prod</th>\n",
       "      <th>date</th>\n",
       "      <th>session_id</th>\n",
       "      <th>client_id</th>\n",
       "    </tr>\n",
       "  </thead>\n",
       "  <tbody>\n",
       "    <tr>\n",
       "      <th>0</th>\n",
       "      <td>0_1518</td>\n",
       "      <td>2022-05-20 13:21:29.043970</td>\n",
       "      <td>s_211425</td>\n",
       "      <td>c_103</td>\n",
       "    </tr>\n",
       "    <tr>\n",
       "      <th>1</th>\n",
       "      <td>1_251</td>\n",
       "      <td>2022-02-02 07:55:19.149409</td>\n",
       "      <td>s_158752</td>\n",
       "      <td>c_8534</td>\n",
       "    </tr>\n",
       "    <tr>\n",
       "      <th>2</th>\n",
       "      <td>0_1277</td>\n",
       "      <td>2022-06-18 15:44:33.155329</td>\n",
       "      <td>s_225667</td>\n",
       "      <td>c_6714</td>\n",
       "    </tr>\n",
       "    <tr>\n",
       "      <th>3</th>\n",
       "      <td>2_209</td>\n",
       "      <td>2021-06-24 04:19:29.835891</td>\n",
       "      <td>s_52962</td>\n",
       "      <td>c_6941</td>\n",
       "    </tr>\n",
       "    <tr>\n",
       "      <th>4</th>\n",
       "      <td>0_1509</td>\n",
       "      <td>2023-01-11 08:22:08.194479</td>\n",
       "      <td>s_325227</td>\n",
       "      <td>c_4232</td>\n",
       "    </tr>\n",
       "  </tbody>\n",
       "</table>\n",
       "</div>"
      ],
      "text/plain": [
       "  id_prod                        date session_id client_id\n",
       "0  0_1518  2022-05-20 13:21:29.043970   s_211425     c_103\n",
       "1   1_251  2022-02-02 07:55:19.149409   s_158752    c_8534\n",
       "2  0_1277  2022-06-18 15:44:33.155329   s_225667    c_6714\n",
       "3   2_209  2021-06-24 04:19:29.835891    s_52962    c_6941\n",
       "4  0_1509  2023-01-11 08:22:08.194479   s_325227    c_4232"
      ]
     },
     "execution_count": 2,
     "metadata": {},
     "output_type": "execute_result"
    }
   ],
   "source": [
    "transactions = pd.read_csv(r'C:\\Users\\serha\\Desktop\\Formation Data Analyste\\P6_Kus_Serhat V\\transactions.csv')\n",
    "transactions.head()"
   ]
  },
  {
   "cell_type": "code",
   "execution_count": 3,
   "id": "991735c3",
   "metadata": {},
   "outputs": [
    {
     "name": "stdout",
     "output_type": "stream",
     "text": [
      "<class 'pandas.core.frame.DataFrame'>\n",
      "RangeIndex: 679532 entries, 0 to 679531\n",
      "Data columns (total 4 columns):\n",
      " #   Column      Non-Null Count   Dtype \n",
      "---  ------      --------------   ----- \n",
      " 0   id_prod     679532 non-null  object\n",
      " 1   date        679532 non-null  object\n",
      " 2   session_id  679532 non-null  object\n",
      " 3   client_id   679532 non-null  object\n",
      "dtypes: object(4)\n",
      "memory usage: 20.7+ MB\n"
     ]
    }
   ],
   "source": [
    "transactions.info()"
   ]
  },
  {
   "cell_type": "code",
   "execution_count": 4,
   "id": "eb5a0f08",
   "metadata": {
    "scrolled": true
   },
   "outputs": [
    {
     "name": "stdout",
     "output_type": "stream",
     "text": [
      "id_prod       0\n",
      "date          0\n",
      "session_id    0\n",
      "client_id     0\n",
      "dtype: int64\n"
     ]
    }
   ],
   "source": [
    "#voir si il y'a des NAn\n",
    "print(transactions.isnull().sum())"
   ]
  },
  {
   "cell_type": "markdown",
   "id": "edf40170",
   "metadata": {},
   "source": [
    "On peut voir qu'il n'y a pas de NAn pour chaque colonne de \"transactions\""
   ]
  },
  {
   "cell_type": "markdown",
   "id": "b7b180e1",
   "metadata": {},
   "source": [
    "Import du fichier \"products\""
   ]
  },
  {
   "cell_type": "code",
   "execution_count": 5,
   "id": "632d93b3",
   "metadata": {
    "scrolled": false
   },
   "outputs": [
    {
     "data": {
      "text/html": [
       "<div>\n",
       "<style scoped>\n",
       "    .dataframe tbody tr th:only-of-type {\n",
       "        vertical-align: middle;\n",
       "    }\n",
       "\n",
       "    .dataframe tbody tr th {\n",
       "        vertical-align: top;\n",
       "    }\n",
       "\n",
       "    .dataframe thead th {\n",
       "        text-align: right;\n",
       "    }\n",
       "</style>\n",
       "<table border=\"1\" class=\"dataframe\">\n",
       "  <thead>\n",
       "    <tr style=\"text-align: right;\">\n",
       "      <th></th>\n",
       "      <th>id_prod</th>\n",
       "      <th>price</th>\n",
       "      <th>categ</th>\n",
       "    </tr>\n",
       "  </thead>\n",
       "  <tbody>\n",
       "    <tr>\n",
       "      <th>0</th>\n",
       "      <td>0_1421</td>\n",
       "      <td>19.99</td>\n",
       "      <td>0</td>\n",
       "    </tr>\n",
       "    <tr>\n",
       "      <th>1</th>\n",
       "      <td>0_1368</td>\n",
       "      <td>5.13</td>\n",
       "      <td>0</td>\n",
       "    </tr>\n",
       "    <tr>\n",
       "      <th>2</th>\n",
       "      <td>0_731</td>\n",
       "      <td>17.99</td>\n",
       "      <td>0</td>\n",
       "    </tr>\n",
       "    <tr>\n",
       "      <th>3</th>\n",
       "      <td>1_587</td>\n",
       "      <td>4.99</td>\n",
       "      <td>1</td>\n",
       "    </tr>\n",
       "    <tr>\n",
       "      <th>4</th>\n",
       "      <td>0_1507</td>\n",
       "      <td>3.99</td>\n",
       "      <td>0</td>\n",
       "    </tr>\n",
       "  </tbody>\n",
       "</table>\n",
       "</div>"
      ],
      "text/plain": [
       "  id_prod  price  categ\n",
       "0  0_1421  19.99      0\n",
       "1  0_1368   5.13      0\n",
       "2   0_731  17.99      0\n",
       "3   1_587   4.99      1\n",
       "4  0_1507   3.99      0"
      ]
     },
     "execution_count": 5,
     "metadata": {},
     "output_type": "execute_result"
    }
   ],
   "source": [
    "products = pd.read_csv(r'C:\\Users\\serha\\Desktop\\Formation Data Analyste\\P6_Kus_Serhat V\\products.csv')\n",
    "products.head()"
   ]
  },
  {
   "cell_type": "code",
   "execution_count": 6,
   "id": "269222c1",
   "metadata": {},
   "outputs": [
    {
     "name": "stdout",
     "output_type": "stream",
     "text": [
      "<class 'pandas.core.frame.DataFrame'>\n",
      "RangeIndex: 3287 entries, 0 to 3286\n",
      "Data columns (total 3 columns):\n",
      " #   Column   Non-Null Count  Dtype  \n",
      "---  ------   --------------  -----  \n",
      " 0   id_prod  3287 non-null   object \n",
      " 1   price    3287 non-null   float64\n",
      " 2   categ    3287 non-null   int64  \n",
      "dtypes: float64(1), int64(1), object(1)\n",
      "memory usage: 77.2+ KB\n"
     ]
    }
   ],
   "source": [
    "products.info()"
   ]
  },
  {
   "cell_type": "code",
   "execution_count": 7,
   "id": "49213eec",
   "metadata": {
    "scrolled": true
   },
   "outputs": [
    {
     "name": "stdout",
     "output_type": "stream",
     "text": [
      "id_prod    0\n",
      "price      0\n",
      "categ      0\n",
      "dtype: int64\n"
     ]
    }
   ],
   "source": [
    "print(products.isnull().sum())"
   ]
  },
  {
   "cell_type": "markdown",
   "id": "50a6470f",
   "metadata": {},
   "source": [
    "Il n'y a pas de NAn pour chaque colonne de \"products\""
   ]
  },
  {
   "cell_type": "markdown",
   "id": "dfceb1f7",
   "metadata": {},
   "source": [
    "Import du fichier \"customers\""
   ]
  },
  {
   "cell_type": "code",
   "execution_count": 8,
   "id": "462740b1",
   "metadata": {
    "scrolled": false
   },
   "outputs": [
    {
     "data": {
      "text/html": [
       "<div>\n",
       "<style scoped>\n",
       "    .dataframe tbody tr th:only-of-type {\n",
       "        vertical-align: middle;\n",
       "    }\n",
       "\n",
       "    .dataframe tbody tr th {\n",
       "        vertical-align: top;\n",
       "    }\n",
       "\n",
       "    .dataframe thead th {\n",
       "        text-align: right;\n",
       "    }\n",
       "</style>\n",
       "<table border=\"1\" class=\"dataframe\">\n",
       "  <thead>\n",
       "    <tr style=\"text-align: right;\">\n",
       "      <th></th>\n",
       "      <th>client_id</th>\n",
       "      <th>sex</th>\n",
       "      <th>birth</th>\n",
       "    </tr>\n",
       "  </thead>\n",
       "  <tbody>\n",
       "    <tr>\n",
       "      <th>0</th>\n",
       "      <td>c_4410</td>\n",
       "      <td>f</td>\n",
       "      <td>1967</td>\n",
       "    </tr>\n",
       "    <tr>\n",
       "      <th>1</th>\n",
       "      <td>c_7839</td>\n",
       "      <td>f</td>\n",
       "      <td>1975</td>\n",
       "    </tr>\n",
       "    <tr>\n",
       "      <th>2</th>\n",
       "      <td>c_1699</td>\n",
       "      <td>f</td>\n",
       "      <td>1984</td>\n",
       "    </tr>\n",
       "    <tr>\n",
       "      <th>3</th>\n",
       "      <td>c_5961</td>\n",
       "      <td>f</td>\n",
       "      <td>1962</td>\n",
       "    </tr>\n",
       "    <tr>\n",
       "      <th>4</th>\n",
       "      <td>c_5320</td>\n",
       "      <td>m</td>\n",
       "      <td>1943</td>\n",
       "    </tr>\n",
       "  </tbody>\n",
       "</table>\n",
       "</div>"
      ],
      "text/plain": [
       "  client_id sex  birth\n",
       "0    c_4410   f   1967\n",
       "1    c_7839   f   1975\n",
       "2    c_1699   f   1984\n",
       "3    c_5961   f   1962\n",
       "4    c_5320   m   1943"
      ]
     },
     "execution_count": 8,
     "metadata": {},
     "output_type": "execute_result"
    }
   ],
   "source": [
    "customers = customers = pd.read_csv(r'C:\\Users\\serha\\Desktop\\Formation Data Analyste\\P6_Kus_Serhat V\\customers.csv')\n",
    "customers.head()"
   ]
  },
  {
   "cell_type": "code",
   "execution_count": 9,
   "id": "1286ea70",
   "metadata": {},
   "outputs": [
    {
     "name": "stdout",
     "output_type": "stream",
     "text": [
      "<class 'pandas.core.frame.DataFrame'>\n",
      "RangeIndex: 8623 entries, 0 to 8622\n",
      "Data columns (total 3 columns):\n",
      " #   Column     Non-Null Count  Dtype \n",
      "---  ------     --------------  ----- \n",
      " 0   client_id  8623 non-null   object\n",
      " 1   sex        8623 non-null   object\n",
      " 2   birth      8623 non-null   int64 \n",
      "dtypes: int64(1), object(2)\n",
      "memory usage: 202.2+ KB\n"
     ]
    }
   ],
   "source": [
    "customers.info()"
   ]
  },
  {
   "cell_type": "code",
   "execution_count": 10,
   "id": "d9f0b053",
   "metadata": {
    "scrolled": true
   },
   "outputs": [
    {
     "name": "stdout",
     "output_type": "stream",
     "text": [
      "client_id    0\n",
      "sex          0\n",
      "birth        0\n",
      "dtype: int64\n"
     ]
    }
   ],
   "source": [
    "print(customers.isnull().sum())"
   ]
  },
  {
   "cell_type": "markdown",
   "id": "5bdfd3bf",
   "metadata": {},
   "source": [
    "Il n'y a pas de NAn pour chaque colonne de \"customers\""
   ]
  },
  {
   "cell_type": "markdown",
   "id": "2a691823",
   "metadata": {},
   "source": [
    "## Détéction des outliers "
   ]
  },
  {
   "cell_type": "markdown",
   "id": "ee03d71e",
   "metadata": {},
   "source": [
    "Ici on va détécter les outliers des prix de la dataframe \"products\""
   ]
  },
  {
   "cell_type": "code",
   "execution_count": 11,
   "id": "08d7ee09",
   "metadata": {},
   "outputs": [],
   "source": [
    "#Code pour avoir la liste des prix\n",
    "price = products['price']\n",
    "price = sorted(price)"
   ]
  },
  {
   "cell_type": "code",
   "execution_count": 12,
   "id": "1719b304",
   "metadata": {},
   "outputs": [
    {
     "data": {
      "text/plain": [
       "(6.99, 22.99)"
      ]
     },
     "execution_count": 12,
     "metadata": {},
     "output_type": "execute_result"
    }
   ],
   "source": [
    "q1,q3 = np.percentile(price,[25,75])\n",
    "q1,q3"
   ]
  },
  {
   "cell_type": "code",
   "execution_count": 13,
   "id": "24842cfa",
   "metadata": {},
   "outputs": [
    {
     "data": {
      "text/plain": [
       "15.999999999999998"
      ]
     },
     "execution_count": 13,
     "metadata": {},
     "output_type": "execute_result"
    }
   ],
   "source": [
    "interq = q3-q1\n",
    "interq"
   ]
  },
  {
   "cell_type": "code",
   "execution_count": 14,
   "id": "1daed91d",
   "metadata": {},
   "outputs": [
    {
     "data": {
      "text/plain": [
       "300.0"
      ]
     },
     "execution_count": 14,
     "metadata": {},
     "output_type": "execute_result"
    }
   ],
   "source": [
    "val_max = max(price)\n",
    "val_max"
   ]
  },
  {
   "cell_type": "code",
   "execution_count": 15,
   "id": "94fa6915",
   "metadata": {
    "scrolled": false
   },
   "outputs": [
    {
     "data": {
      "text/plain": [
       "-1.0"
      ]
     },
     "execution_count": 15,
     "metadata": {},
     "output_type": "execute_result"
    }
   ],
   "source": [
    "val_min = min(price)\n",
    "val_min"
   ]
  },
  {
   "cell_type": "markdown",
   "id": "e92f5b83",
   "metadata": {},
   "source": [
    "Ici on peut voir qu'il y'a une valeur négative, alors qu'on est censé avoir des prix, or un prix ne peut être négatif\n",
    "On va verifier ces calculs avec les calculs des bornes "
   ]
  },
  {
   "cell_type": "code",
   "execution_count": 16,
   "id": "a46080f2",
   "metadata": {},
   "outputs": [
    {
     "data": {
      "text/plain": [
       "46.989999999999995"
      ]
     },
     "execution_count": 16,
     "metadata": {},
     "output_type": "execute_result"
    }
   ],
   "source": [
    "upper_bound = q3 + (1.5 * interq)\n",
    "upper_bound"
   ]
  },
  {
   "cell_type": "code",
   "execution_count": 17,
   "id": "ad120ea4",
   "metadata": {},
   "outputs": [
    {
     "data": {
      "text/plain": [
       "-17.009999999999998"
      ]
     },
     "execution_count": 17,
     "metadata": {},
     "output_type": "execute_result"
    }
   ],
   "source": [
    "lower_bound = q1 - (1.5 * interq)\n",
    "lower_bound"
   ]
  },
  {
   "cell_type": "code",
   "execution_count": 18,
   "id": "7f5bbec5",
   "metadata": {},
   "outputs": [
    {
     "name": "stdout",
     "output_type": "stream",
     "text": [
      "Il y a  302 outliers \n"
     ]
    }
   ],
   "source": [
    "outliers = [x for x in price if x >= upper_bound or x <= lower_bound]\n",
    "print(\"Il y a \", len(outliers),\"outliers \")"
   ]
  },
  {
   "cell_type": "markdown",
   "id": "e00166fb",
   "metadata": {},
   "source": [
    "Représentons ces outliers sur une boîte à moustache"
   ]
  },
  {
   "cell_type": "code",
   "execution_count": 19,
   "id": "9f62a102",
   "metadata": {
    "scrolled": true
   },
   "outputs": [
    {
     "data": {
      "text/plain": [
       "{'whiskers': [<matplotlib.lines.Line2D at 0x1699af09a00>,\n",
       "  <matplotlib.lines.Line2D at 0x1699af09d60>],\n",
       " 'caps': [<matplotlib.lines.Line2D at 0x1699b4a6100>,\n",
       "  <matplotlib.lines.Line2D at 0x1699b4a6460>],\n",
       " 'boxes': [<matplotlib.lines.Line2D at 0x1699af096a0>],\n",
       " 'medians': [<matplotlib.lines.Line2D at 0x1699b4a67c0>],\n",
       " 'fliers': [<matplotlib.lines.Line2D at 0x1699b4a6b20>],\n",
       " 'means': []}"
      ]
     },
     "execution_count": 19,
     "metadata": {},
     "output_type": "execute_result"
    },
    {
     "data": {
      "image/png": "[encoded data removed]",
      "text/plain": [
       "<Figure size 432x288 with 1 Axes>"
      ]
     },
     "metadata": {
      "needs_background": "light"
     },
     "output_type": "display_data"
    }
   ],
   "source": [
    "plt.xlim(-10,300)\n",
    "plt.title(\"Boîte à moustache des prix avec les outliers\")\n",
    "plt.boxplot(outliers, sym='b+', vert = False)"
   ]
  },
  {
   "cell_type": "markdown",
   "id": "3f3df9ed",
   "metadata": {},
   "source": [
    "On voit donc les valeurs supérieurs à la borne supérieur ici, mais on ne peut pas les supprimer car ce sont peut être de grandes valeurs, mais elles ne sont pas fausses.\n",
    "\n",
    "Il n'y a pas de valeurs inférieur à la borne inférieur, cependant il y'a une valeur négative qui est fausse (valeur mini). On va s'approcher de cette valeur"
   ]
  },
  {
   "cell_type": "code",
   "execution_count": 20,
   "id": "9e0e63a5",
   "metadata": {
    "scrolled": true
   },
   "outputs": [
    {
     "data": {
      "text/html": [
       "<div>\n",
       "<style scoped>\n",
       "    .dataframe tbody tr th:only-of-type {\n",
       "        vertical-align: middle;\n",
       "    }\n",
       "\n",
       "    .dataframe tbody tr th {\n",
       "        vertical-align: top;\n",
       "    }\n",
       "\n",
       "    .dataframe thead th {\n",
       "        text-align: right;\n",
       "    }\n",
       "</style>\n",
       "<table border=\"1\" class=\"dataframe\">\n",
       "  <thead>\n",
       "    <tr style=\"text-align: right;\">\n",
       "      <th></th>\n",
       "      <th>id_prod</th>\n",
       "      <th>price</th>\n",
       "      <th>categ</th>\n",
       "    </tr>\n",
       "  </thead>\n",
       "  <tbody>\n",
       "    <tr>\n",
       "      <th>731</th>\n",
       "      <td>T_0</td>\n",
       "      <td>-1.0</td>\n",
       "      <td>0</td>\n",
       "    </tr>\n",
       "  </tbody>\n",
       "</table>\n",
       "</div>"
      ],
      "text/plain": [
       "    id_prod  price  categ\n",
       "731     T_0   -1.0      0"
      ]
     },
     "execution_count": 20,
     "metadata": {},
     "output_type": "execute_result"
    }
   ],
   "source": [
    "val_negative=products[products['price'] < 0]\n",
    "val_negative"
   ]
  },
  {
   "cell_type": "code",
   "execution_count": 21,
   "id": "9b6b72d2",
   "metadata": {},
   "outputs": [
    {
     "data": {
      "text/plain": [
       "(3287, 3)"
      ]
     },
     "execution_count": 21,
     "metadata": {},
     "output_type": "execute_result"
    }
   ],
   "source": [
    "products.shape"
   ]
  },
  {
   "cell_type": "markdown",
   "id": "b73e240a",
   "metadata": {},
   "source": [
    "Ici on a donc la ligne où l'id_prod est T_0 qui est sûrement une donnée test fait par les développeurs. Grâce au prix négatif\n",
    "on peut donc supprimer cette ligne."
   ]
  },
  {
   "cell_type": "code",
   "execution_count": 22,
   "id": "cce26d24",
   "metadata": {},
   "outputs": [],
   "source": [
    "products.drop(731,inplace= True)"
   ]
  },
  {
   "cell_type": "code",
   "execution_count": 23,
   "id": "927ab3fd",
   "metadata": {},
   "outputs": [
    {
     "data": {
      "text/plain": [
       "(3286, 3)"
      ]
     },
     "execution_count": 23,
     "metadata": {},
     "output_type": "execute_result"
    }
   ],
   "source": [
    "products.shape"
   ]
  },
  {
   "cell_type": "markdown",
   "id": "4689afdd",
   "metadata": {},
   "source": [
    "La ligne est donc bien supprimée.\n",
    "\n",
    "J'ai remarqué qu'il y'a des lignes \"test\" dans la table transactions, je vais m'en approcher"
   ]
  },
  {
   "cell_type": "code",
   "execution_count": 24,
   "id": "23812459",
   "metadata": {},
   "outputs": [
    {
     "data": {
      "text/plain": [
       "(679532, 4)"
      ]
     },
     "execution_count": 24,
     "metadata": {},
     "output_type": "execute_result"
    }
   ],
   "source": [
    "transactions.shape"
   ]
  },
  {
   "cell_type": "code",
   "execution_count": 25,
   "id": "345908aa",
   "metadata": {
    "scrolled": true
   },
   "outputs": [
    {
     "data": {
      "text/html": [
       "<div>\n",
       "<style scoped>\n",
       "    .dataframe tbody tr th:only-of-type {\n",
       "        vertical-align: middle;\n",
       "    }\n",
       "\n",
       "    .dataframe tbody tr th {\n",
       "        vertical-align: top;\n",
       "    }\n",
       "\n",
       "    .dataframe thead th {\n",
       "        text-align: right;\n",
       "    }\n",
       "</style>\n",
       "<table border=\"1\" class=\"dataframe\">\n",
       "  <thead>\n",
       "    <tr style=\"text-align: right;\">\n",
       "      <th></th>\n",
       "      <th>id_prod</th>\n",
       "      <th>date</th>\n",
       "      <th>session_id</th>\n",
       "      <th>client_id</th>\n",
       "    </tr>\n",
       "  </thead>\n",
       "  <tbody>\n",
       "    <tr>\n",
       "      <th>3019</th>\n",
       "      <td>T_0</td>\n",
       "      <td>test_2021-03-01 02:30:02.237419</td>\n",
       "      <td>s_0</td>\n",
       "      <td>ct_0</td>\n",
       "    </tr>\n",
       "    <tr>\n",
       "      <th>5138</th>\n",
       "      <td>T_0</td>\n",
       "      <td>test_2021-03-01 02:30:02.237425</td>\n",
       "      <td>s_0</td>\n",
       "      <td>ct_0</td>\n",
       "    </tr>\n",
       "    <tr>\n",
       "      <th>9668</th>\n",
       "      <td>T_0</td>\n",
       "      <td>test_2021-03-01 02:30:02.237437</td>\n",
       "      <td>s_0</td>\n",
       "      <td>ct_1</td>\n",
       "    </tr>\n",
       "    <tr>\n",
       "      <th>10728</th>\n",
       "      <td>T_0</td>\n",
       "      <td>test_2021-03-01 02:30:02.237436</td>\n",
       "      <td>s_0</td>\n",
       "      <td>ct_0</td>\n",
       "    </tr>\n",
       "    <tr>\n",
       "      <th>15292</th>\n",
       "      <td>T_0</td>\n",
       "      <td>test_2021-03-01 02:30:02.237430</td>\n",
       "      <td>s_0</td>\n",
       "      <td>ct_0</td>\n",
       "    </tr>\n",
       "    <tr>\n",
       "      <th>...</th>\n",
       "      <td>...</td>\n",
       "      <td>...</td>\n",
       "      <td>...</td>\n",
       "      <td>...</td>\n",
       "    </tr>\n",
       "    <tr>\n",
       "      <th>657830</th>\n",
       "      <td>T_0</td>\n",
       "      <td>test_2021-03-01 02:30:02.237417</td>\n",
       "      <td>s_0</td>\n",
       "      <td>ct_0</td>\n",
       "    </tr>\n",
       "    <tr>\n",
       "      <th>662081</th>\n",
       "      <td>T_0</td>\n",
       "      <td>test_2021-03-01 02:30:02.237427</td>\n",
       "      <td>s_0</td>\n",
       "      <td>ct_1</td>\n",
       "    </tr>\n",
       "    <tr>\n",
       "      <th>670680</th>\n",
       "      <td>T_0</td>\n",
       "      <td>test_2021-03-01 02:30:02.237449</td>\n",
       "      <td>s_0</td>\n",
       "      <td>ct_1</td>\n",
       "    </tr>\n",
       "    <tr>\n",
       "      <th>671647</th>\n",
       "      <td>T_0</td>\n",
       "      <td>test_2021-03-01 02:30:02.237424</td>\n",
       "      <td>s_0</td>\n",
       "      <td>ct_1</td>\n",
       "    </tr>\n",
       "    <tr>\n",
       "      <th>679180</th>\n",
       "      <td>T_0</td>\n",
       "      <td>test_2021-03-01 02:30:02.237425</td>\n",
       "      <td>s_0</td>\n",
       "      <td>ct_1</td>\n",
       "    </tr>\n",
       "  </tbody>\n",
       "</table>\n",
       "<p>200 rows × 4 columns</p>\n",
       "</div>"
      ],
      "text/plain": [
       "       id_prod                             date session_id client_id\n",
       "3019       T_0  test_2021-03-01 02:30:02.237419        s_0      ct_0\n",
       "5138       T_0  test_2021-03-01 02:30:02.237425        s_0      ct_0\n",
       "9668       T_0  test_2021-03-01 02:30:02.237437        s_0      ct_1\n",
       "10728      T_0  test_2021-03-01 02:30:02.237436        s_0      ct_0\n",
       "15292      T_0  test_2021-03-01 02:30:02.237430        s_0      ct_0\n",
       "...        ...                              ...        ...       ...\n",
       "657830     T_0  test_2021-03-01 02:30:02.237417        s_0      ct_0\n",
       "662081     T_0  test_2021-03-01 02:30:02.237427        s_0      ct_1\n",
       "670680     T_0  test_2021-03-01 02:30:02.237449        s_0      ct_1\n",
       "671647     T_0  test_2021-03-01 02:30:02.237424        s_0      ct_1\n",
       "679180     T_0  test_2021-03-01 02:30:02.237425        s_0      ct_1\n",
       "\n",
       "[200 rows x 4 columns]"
      ]
     },
     "execution_count": 25,
     "metadata": {},
     "output_type": "execute_result"
    }
   ],
   "source": [
    "lignes_test = transactions[transactions['id_prod'] == 'T_0']\n",
    "lignes_test"
   ]
  },
  {
   "cell_type": "markdown",
   "id": "238acc2e",
   "metadata": {},
   "source": [
    "Ici nous avons donc toutes les lignes test dans la table transactions, je les juges inutile donc je vais les supprimer.\n",
    "\n",
    "En passant l'id_prod en index, c'est plus simple de supprimer les données \"test\"."
   ]
  },
  {
   "cell_type": "code",
   "execution_count": 26,
   "id": "ce39580d",
   "metadata": {
    "scrolled": true
   },
   "outputs": [],
   "source": [
    "transactions.set_index(\"id_prod\", inplace= True)"
   ]
  },
  {
   "cell_type": "code",
   "execution_count": 27,
   "id": "c8c5a2fa",
   "metadata": {},
   "outputs": [],
   "source": [
    "transactions.drop(index=\"T_0\", inplace= True)"
   ]
  },
  {
   "cell_type": "markdown",
   "id": "90962825",
   "metadata": {},
   "source": [
    "Il y'a bien 200 lignes d'écart entre le moment où j'ai enlevé les lignes test et juste avant les avoir supprimées"
   ]
  },
  {
   "cell_type": "code",
   "execution_count": 28,
   "id": "b22afc14",
   "metadata": {
    "scrolled": true
   },
   "outputs": [
    {
     "name": "stdout",
     "output_type": "stream",
     "text": [
      "<class 'pandas.core.frame.DataFrame'>\n",
      "Index: 679332 entries, 0_1518 to 1_523\n",
      "Data columns (total 3 columns):\n",
      " #   Column      Non-Null Count   Dtype \n",
      "---  ------      --------------   ----- \n",
      " 0   date        679332 non-null  object\n",
      " 1   session_id  679332 non-null  object\n",
      " 2   client_id   679332 non-null  object\n",
      "dtypes: object(3)\n",
      "memory usage: 20.7+ MB\n"
     ]
    }
   ],
   "source": [
    "transactions.info()"
   ]
  },
  {
   "cell_type": "markdown",
   "id": "1b1250a1",
   "metadata": {},
   "source": [
    "On peut voir que la colonne \"date\" est de type objet, il faut le mettre en format date"
   ]
  },
  {
   "cell_type": "code",
   "execution_count": 29,
   "id": "c5cc217c",
   "metadata": {},
   "outputs": [],
   "source": [
    "transactions['date'] = pd.to_datetime(transactions['date'])"
   ]
  },
  {
   "cell_type": "code",
   "execution_count": 30,
   "id": "267f5e71",
   "metadata": {},
   "outputs": [
    {
     "data": {
      "text/html": [
       "<div>\n",
       "<style scoped>\n",
       "    .dataframe tbody tr th:only-of-type {\n",
       "        vertical-align: middle;\n",
       "    }\n",
       "\n",
       "    .dataframe tbody tr th {\n",
       "        vertical-align: top;\n",
       "    }\n",
       "\n",
       "    .dataframe thead th {\n",
       "        text-align: right;\n",
       "    }\n",
       "</style>\n",
       "<table border=\"1\" class=\"dataframe\">\n",
       "  <thead>\n",
       "    <tr style=\"text-align: right;\">\n",
       "      <th></th>\n",
       "      <th>date</th>\n",
       "      <th>session_id</th>\n",
       "      <th>client_id</th>\n",
       "    </tr>\n",
       "    <tr>\n",
       "      <th>id_prod</th>\n",
       "      <th></th>\n",
       "      <th></th>\n",
       "      <th></th>\n",
       "    </tr>\n",
       "  </thead>\n",
       "  <tbody>\n",
       "    <tr>\n",
       "      <th>0_1518</th>\n",
       "      <td>2022-05-20 13:21:29.043970</td>\n",
       "      <td>s_211425</td>\n",
       "      <td>c_103</td>\n",
       "    </tr>\n",
       "    <tr>\n",
       "      <th>1_251</th>\n",
       "      <td>2022-02-02 07:55:19.149409</td>\n",
       "      <td>s_158752</td>\n",
       "      <td>c_8534</td>\n",
       "    </tr>\n",
       "    <tr>\n",
       "      <th>0_1277</th>\n",
       "      <td>2022-06-18 15:44:33.155329</td>\n",
       "      <td>s_225667</td>\n",
       "      <td>c_6714</td>\n",
       "    </tr>\n",
       "    <tr>\n",
       "      <th>2_209</th>\n",
       "      <td>2021-06-24 04:19:29.835891</td>\n",
       "      <td>s_52962</td>\n",
       "      <td>c_6941</td>\n",
       "    </tr>\n",
       "    <tr>\n",
       "      <th>0_1509</th>\n",
       "      <td>2023-01-11 08:22:08.194479</td>\n",
       "      <td>s_325227</td>\n",
       "      <td>c_4232</td>\n",
       "    </tr>\n",
       "    <tr>\n",
       "      <th>...</th>\n",
       "      <td>...</td>\n",
       "      <td>...</td>\n",
       "      <td>...</td>\n",
       "    </tr>\n",
       "    <tr>\n",
       "      <th>0_1551</th>\n",
       "      <td>2022-01-15 13:05:06.246925</td>\n",
       "      <td>s_150195</td>\n",
       "      <td>c_8489</td>\n",
       "    </tr>\n",
       "    <tr>\n",
       "      <th>1_639</th>\n",
       "      <td>2022-03-19 16:03:23.429229</td>\n",
       "      <td>s_181434</td>\n",
       "      <td>c_4370</td>\n",
       "    </tr>\n",
       "    <tr>\n",
       "      <th>0_1425</th>\n",
       "      <td>2022-12-20 04:33:37.584749</td>\n",
       "      <td>s_314704</td>\n",
       "      <td>c_304</td>\n",
       "    </tr>\n",
       "    <tr>\n",
       "      <th>0_1994</th>\n",
       "      <td>2021-07-16 20:36:35.350579</td>\n",
       "      <td>s_63204</td>\n",
       "      <td>c_2227</td>\n",
       "    </tr>\n",
       "    <tr>\n",
       "      <th>1_523</th>\n",
       "      <td>2022-09-28 01:12:01.973763</td>\n",
       "      <td>s_274568</td>\n",
       "      <td>c_3873</td>\n",
       "    </tr>\n",
       "  </tbody>\n",
       "</table>\n",
       "<p>679332 rows × 3 columns</p>\n",
       "</div>"
      ],
      "text/plain": [
       "                              date session_id client_id\n",
       "id_prod                                                \n",
       "0_1518  2022-05-20 13:21:29.043970   s_211425     c_103\n",
       "1_251   2022-02-02 07:55:19.149409   s_158752    c_8534\n",
       "0_1277  2022-06-18 15:44:33.155329   s_225667    c_6714\n",
       "2_209   2021-06-24 04:19:29.835891    s_52962    c_6941\n",
       "0_1509  2023-01-11 08:22:08.194479   s_325227    c_4232\n",
       "...                            ...        ...       ...\n",
       "0_1551  2022-01-15 13:05:06.246925   s_150195    c_8489\n",
       "1_639   2022-03-19 16:03:23.429229   s_181434    c_4370\n",
       "0_1425  2022-12-20 04:33:37.584749   s_314704     c_304\n",
       "0_1994  2021-07-16 20:36:35.350579    s_63204    c_2227\n",
       "1_523   2022-09-28 01:12:01.973763   s_274568    c_3873\n",
       "\n",
       "[679332 rows x 3 columns]"
      ]
     },
     "execution_count": 30,
     "metadata": {},
     "output_type": "execute_result"
    }
   ],
   "source": [
    "transactions"
   ]
  },
  {
   "cell_type": "markdown",
   "id": "54ba2544",
   "metadata": {},
   "source": [
    "Les client_id \"ct_0\" et \"ct_1\" étant des clients test je vais les supprimer de la table customers en passant la colonne client_id en index"
   ]
  },
  {
   "cell_type": "code",
   "execution_count": 31,
   "id": "6818e911",
   "metadata": {
    "scrolled": true
   },
   "outputs": [],
   "source": [
    "customers.set_index(\"client_id\", inplace = True)"
   ]
  },
  {
   "cell_type": "code",
   "execution_count": 32,
   "id": "842f0b63",
   "metadata": {},
   "outputs": [
    {
     "data": {
      "text/plain": [
       "(8623, 2)"
      ]
     },
     "execution_count": 32,
     "metadata": {},
     "output_type": "execute_result"
    }
   ],
   "source": [
    "customers.shape"
   ]
  },
  {
   "cell_type": "code",
   "execution_count": 33,
   "id": "9fda6912",
   "metadata": {
    "scrolled": true
   },
   "outputs": [
    {
     "data": {
      "text/html": [
       "<div>\n",
       "<style scoped>\n",
       "    .dataframe tbody tr th:only-of-type {\n",
       "        vertical-align: middle;\n",
       "    }\n",
       "\n",
       "    .dataframe tbody tr th {\n",
       "        vertical-align: top;\n",
       "    }\n",
       "\n",
       "    .dataframe thead th {\n",
       "        text-align: right;\n",
       "    }\n",
       "</style>\n",
       "<table border=\"1\" class=\"dataframe\">\n",
       "  <thead>\n",
       "    <tr style=\"text-align: right;\">\n",
       "      <th></th>\n",
       "      <th>sex</th>\n",
       "      <th>birth</th>\n",
       "    </tr>\n",
       "    <tr>\n",
       "      <th>client_id</th>\n",
       "      <th></th>\n",
       "      <th></th>\n",
       "    </tr>\n",
       "  </thead>\n",
       "  <tbody>\n",
       "    <tr>\n",
       "      <th>c_4410</th>\n",
       "      <td>f</td>\n",
       "      <td>1967</td>\n",
       "    </tr>\n",
       "    <tr>\n",
       "      <th>c_7839</th>\n",
       "      <td>f</td>\n",
       "      <td>1975</td>\n",
       "    </tr>\n",
       "    <tr>\n",
       "      <th>c_1699</th>\n",
       "      <td>f</td>\n",
       "      <td>1984</td>\n",
       "    </tr>\n",
       "    <tr>\n",
       "      <th>c_5961</th>\n",
       "      <td>f</td>\n",
       "      <td>1962</td>\n",
       "    </tr>\n",
       "    <tr>\n",
       "      <th>c_5320</th>\n",
       "      <td>m</td>\n",
       "      <td>1943</td>\n",
       "    </tr>\n",
       "    <tr>\n",
       "      <th>...</th>\n",
       "      <td>...</td>\n",
       "      <td>...</td>\n",
       "    </tr>\n",
       "    <tr>\n",
       "      <th>c_7920</th>\n",
       "      <td>m</td>\n",
       "      <td>1956</td>\n",
       "    </tr>\n",
       "    <tr>\n",
       "      <th>c_7403</th>\n",
       "      <td>f</td>\n",
       "      <td>1970</td>\n",
       "    </tr>\n",
       "    <tr>\n",
       "      <th>c_5119</th>\n",
       "      <td>m</td>\n",
       "      <td>1974</td>\n",
       "    </tr>\n",
       "    <tr>\n",
       "      <th>c_5643</th>\n",
       "      <td>f</td>\n",
       "      <td>1968</td>\n",
       "    </tr>\n",
       "    <tr>\n",
       "      <th>c_84</th>\n",
       "      <td>f</td>\n",
       "      <td>1982</td>\n",
       "    </tr>\n",
       "  </tbody>\n",
       "</table>\n",
       "<p>8621 rows × 2 columns</p>\n",
       "</div>"
      ],
      "text/plain": [
       "          sex  birth\n",
       "client_id           \n",
       "c_4410      f   1967\n",
       "c_7839      f   1975\n",
       "c_1699      f   1984\n",
       "c_5961      f   1962\n",
       "c_5320      m   1943\n",
       "...        ..    ...\n",
       "c_7920      m   1956\n",
       "c_7403      f   1970\n",
       "c_5119      m   1974\n",
       "c_5643      f   1968\n",
       "c_84        f   1982\n",
       "\n",
       "[8621 rows x 2 columns]"
      ]
     },
     "execution_count": 33,
     "metadata": {},
     "output_type": "execute_result"
    }
   ],
   "source": [
    "customers.drop(index = (['ct_0','ct_1']))"
   ]
  },
  {
   "cell_type": "markdown",
   "id": "5a7c4535",
   "metadata": {},
   "source": [
    "Les 2 clients test sont donc supprimées"
   ]
  },
  {
   "cell_type": "markdown",
   "id": "e19edd64",
   "metadata": {},
   "source": [
    "## Demandes d'Antoine"
   ]
  },
  {
   "cell_type": "markdown",
   "id": "1ec617ce",
   "metadata": {},
   "source": [
    "### Jointures"
   ]
  },
  {
   "cell_type": "code",
   "execution_count": 34,
   "id": "8992c1c6",
   "metadata": {},
   "outputs": [
    {
     "data": {
      "text/plain": [
       "['both', 'left_only', 'right_only']\n",
       "Categories (3, object): ['both', 'left_only', 'right_only']"
      ]
     },
     "execution_count": 34,
     "metadata": {},
     "output_type": "execute_result"
    }
   ],
   "source": [
    "transaction_product_out = pd.merge(transactions, products, on='id_prod',how = 'outer', indicator= True)\n",
    "transaction_product_out['_merge'].unique()"
   ]
  },
  {
   "cell_type": "code",
   "execution_count": 35,
   "id": "425dfea7",
   "metadata": {},
   "outputs": [
    {
     "data": {
      "text/plain": [
       "['both']\n",
       "Categories (1, object): ['both']"
      ]
     },
     "execution_count": 35,
     "metadata": {},
     "output_type": "execute_result"
    }
   ],
   "source": [
    "transaction_product_inn = pd.merge(transactions, products, on='id_prod',how = 'inner', indicator= True)\n",
    "transaction_product_inn['_merge'].unique()"
   ]
  },
  {
   "cell_type": "code",
   "execution_count": 36,
   "id": "8c2a39c3",
   "metadata": {},
   "outputs": [
    {
     "data": {
      "text/plain": [
       "['both', 'left_only']\n",
       "Categories (2, object): ['both', 'left_only']"
      ]
     },
     "execution_count": 36,
     "metadata": {},
     "output_type": "execute_result"
    }
   ],
   "source": [
    "transaction_product_left = pd.merge(transactions, products, on='id_prod',how = 'left', indicator= True)\n",
    "transaction_product_left['_merge'].unique()"
   ]
  },
  {
   "cell_type": "code",
   "execution_count": 37,
   "id": "63201950",
   "metadata": {
    "scrolled": true
   },
   "outputs": [
    {
     "data": {
      "text/plain": [
       "['both', 'right_only']\n",
       "Categories (2, object): ['both', 'right_only']"
      ]
     },
     "execution_count": 37,
     "metadata": {},
     "output_type": "execute_result"
    }
   ],
   "source": [
    "transaction_product_right = pd.merge(transactions, products, on='id_prod',how = 'right', indicator= True)\n",
    "transaction_product_right['_merge'].unique()"
   ]
  },
  {
   "cell_type": "code",
   "execution_count": 38,
   "id": "279654cd",
   "metadata": {},
   "outputs": [],
   "source": [
    "transaction_product = pd.merge(transactions, products, on='id_prod',how = 'inner')"
   ]
  },
  {
   "cell_type": "markdown",
   "id": "14c9a09d",
   "metadata": {},
   "source": [
    "Après avoir tester tous les types de jointures, on peut voir que la seule jointure avec \"both\" pour chaque \"_merge\" est le inner, je vais donc utiliser ce type de jointure pour avoir une bonne table. On prend uniquement les produits déjà achetés"
   ]
  },
  {
   "cell_type": "code",
   "execution_count": 39,
   "id": "95b99610",
   "metadata": {},
   "outputs": [
    {
     "data": {
      "text/html": [
       "<div>\n",
       "<style scoped>\n",
       "    .dataframe tbody tr th:only-of-type {\n",
       "        vertical-align: middle;\n",
       "    }\n",
       "\n",
       "    .dataframe tbody tr th {\n",
       "        vertical-align: top;\n",
       "    }\n",
       "\n",
       "    .dataframe thead th {\n",
       "        text-align: right;\n",
       "    }\n",
       "</style>\n",
       "<table border=\"1\" class=\"dataframe\">\n",
       "  <thead>\n",
       "    <tr style=\"text-align: right;\">\n",
       "      <th></th>\n",
       "      <th>id_prod</th>\n",
       "      <th>date</th>\n",
       "      <th>session_id</th>\n",
       "      <th>client_id</th>\n",
       "      <th>price</th>\n",
       "      <th>categ</th>\n",
       "    </tr>\n",
       "  </thead>\n",
       "  <tbody>\n",
       "    <tr>\n",
       "      <th>0</th>\n",
       "      <td>0_1518</td>\n",
       "      <td>2022-05-20 13:21:29.043970</td>\n",
       "      <td>s_211425</td>\n",
       "      <td>c_103</td>\n",
       "      <td>4.18</td>\n",
       "      <td>0</td>\n",
       "    </tr>\n",
       "    <tr>\n",
       "      <th>1</th>\n",
       "      <td>0_1518</td>\n",
       "      <td>2021-09-26 12:37:29.780414</td>\n",
       "      <td>s_95811</td>\n",
       "      <td>c_6197</td>\n",
       "      <td>4.18</td>\n",
       "      <td>0</td>\n",
       "    </tr>\n",
       "    <tr>\n",
       "      <th>2</th>\n",
       "      <td>0_1518</td>\n",
       "      <td>2021-05-06 17:14:43.117440</td>\n",
       "      <td>s_30782</td>\n",
       "      <td>c_682</td>\n",
       "      <td>4.18</td>\n",
       "      <td>0</td>\n",
       "    </tr>\n",
       "    <tr>\n",
       "      <th>3</th>\n",
       "      <td>0_1518</td>\n",
       "      <td>2022-03-16 18:57:10.420103</td>\n",
       "      <td>s_180057</td>\n",
       "      <td>c_5932</td>\n",
       "      <td>4.18</td>\n",
       "      <td>0</td>\n",
       "    </tr>\n",
       "    <tr>\n",
       "      <th>4</th>\n",
       "      <td>0_1518</td>\n",
       "      <td>2022-11-12 18:58:10.574853</td>\n",
       "      <td>s_296584</td>\n",
       "      <td>c_7217</td>\n",
       "      <td>4.18</td>\n",
       "      <td>0</td>\n",
       "    </tr>\n",
       "  </tbody>\n",
       "</table>\n",
       "</div>"
      ],
      "text/plain": [
       "  id_prod                       date session_id client_id  price  categ\n",
       "0  0_1518 2022-05-20 13:21:29.043970   s_211425     c_103   4.18      0\n",
       "1  0_1518 2021-09-26 12:37:29.780414    s_95811    c_6197   4.18      0\n",
       "2  0_1518 2021-05-06 17:14:43.117440    s_30782     c_682   4.18      0\n",
       "3  0_1518 2022-03-16 18:57:10.420103   s_180057    c_5932   4.18      0\n",
       "4  0_1518 2022-11-12 18:58:10.574853   s_296584    c_7217   4.18      0"
      ]
     },
     "execution_count": 39,
     "metadata": {},
     "output_type": "execute_result"
    }
   ],
   "source": [
    "transaction_product.head()"
   ]
  },
  {
   "cell_type": "code",
   "execution_count": 40,
   "id": "fd1a4ee1",
   "metadata": {},
   "outputs": [
    {
     "data": {
      "text/plain": [
       "['both', 'right_only']\n",
       "Categories (2, object): ['both', 'right_only']"
      ]
     },
     "execution_count": 40,
     "metadata": {},
     "output_type": "execute_result"
    }
   ],
   "source": [
    "transaction_final_out = pd.merge(transaction_product, customers, on='client_id',how = 'outer', indicator= True)\n",
    "transaction_final_out['_merge'].unique()"
   ]
  },
  {
   "cell_type": "code",
   "execution_count": 41,
   "id": "bfe3e125",
   "metadata": {},
   "outputs": [
    {
     "data": {
      "text/plain": [
       "['both']\n",
       "Categories (1, object): ['both']"
      ]
     },
     "execution_count": 41,
     "metadata": {},
     "output_type": "execute_result"
    }
   ],
   "source": [
    "transaction_final_inn = pd.merge(transaction_product, customers, on='client_id',how = 'inner', indicator= True)\n",
    "transaction_final_inn['_merge'].unique()"
   ]
  },
  {
   "cell_type": "code",
   "execution_count": 42,
   "id": "ff1d61eb",
   "metadata": {},
   "outputs": [
    {
     "data": {
      "text/plain": [
       "['both', 'right_only']\n",
       "Categories (2, object): ['both', 'right_only']"
      ]
     },
     "execution_count": 42,
     "metadata": {},
     "output_type": "execute_result"
    }
   ],
   "source": [
    "transaction_final_right = pd.merge(transaction_product, customers, on='client_id',how = 'right', indicator= True)\n",
    "transaction_final_right['_merge'].unique()"
   ]
  },
  {
   "cell_type": "code",
   "execution_count": 43,
   "id": "fa089ff7",
   "metadata": {},
   "outputs": [
    {
     "data": {
      "text/plain": [
       "['both']\n",
       "Categories (1, object): ['both']"
      ]
     },
     "execution_count": 43,
     "metadata": {},
     "output_type": "execute_result"
    }
   ],
   "source": [
    "transaction_final_left = pd.merge(transaction_product, customers, on='client_id',how = 'left', indicator= True)\n",
    "transaction_final_left['_merge'].unique()"
   ]
  },
  {
   "cell_type": "code",
   "execution_count": 44,
   "id": "790e76da",
   "metadata": {},
   "outputs": [],
   "source": [
    "transaction_final = pd.merge(transaction_product, customers, on='client_id',how = 'inner')"
   ]
  },
  {
   "cell_type": "code",
   "execution_count": 45,
   "id": "85833745",
   "metadata": {},
   "outputs": [
    {
     "data": {
      "text/html": [
       "<div>\n",
       "<style scoped>\n",
       "    .dataframe tbody tr th:only-of-type {\n",
       "        vertical-align: middle;\n",
       "    }\n",
       "\n",
       "    .dataframe tbody tr th {\n",
       "        vertical-align: top;\n",
       "    }\n",
       "\n",
       "    .dataframe thead th {\n",
       "        text-align: right;\n",
       "    }\n",
       "</style>\n",
       "<table border=\"1\" class=\"dataframe\">\n",
       "  <thead>\n",
       "    <tr style=\"text-align: right;\">\n",
       "      <th></th>\n",
       "      <th>id_prod</th>\n",
       "      <th>date</th>\n",
       "      <th>session_id</th>\n",
       "      <th>client_id</th>\n",
       "      <th>price</th>\n",
       "      <th>categ</th>\n",
       "      <th>sex</th>\n",
       "      <th>birth</th>\n",
       "    </tr>\n",
       "  </thead>\n",
       "  <tbody>\n",
       "    <tr>\n",
       "      <th>0</th>\n",
       "      <td>0_1518</td>\n",
       "      <td>2022-05-20 13:21:29.043970</td>\n",
       "      <td>s_211425</td>\n",
       "      <td>c_103</td>\n",
       "      <td>4.18</td>\n",
       "      <td>0</td>\n",
       "      <td>f</td>\n",
       "      <td>1986</td>\n",
       "    </tr>\n",
       "    <tr>\n",
       "      <th>1</th>\n",
       "      <td>0_1518</td>\n",
       "      <td>2021-07-20 13:21:29.043970</td>\n",
       "      <td>s_64849</td>\n",
       "      <td>c_103</td>\n",
       "      <td>4.18</td>\n",
       "      <td>0</td>\n",
       "      <td>f</td>\n",
       "      <td>1986</td>\n",
       "    </tr>\n",
       "    <tr>\n",
       "      <th>2</th>\n",
       "      <td>0_1518</td>\n",
       "      <td>2022-08-20 13:21:29.043970</td>\n",
       "      <td>s_255965</td>\n",
       "      <td>c_103</td>\n",
       "      <td>4.18</td>\n",
       "      <td>0</td>\n",
       "      <td>f</td>\n",
       "      <td>1986</td>\n",
       "    </tr>\n",
       "    <tr>\n",
       "      <th>3</th>\n",
       "      <td>0_1418</td>\n",
       "      <td>2022-06-18 01:49:37.823274</td>\n",
       "      <td>s_225411</td>\n",
       "      <td>c_103</td>\n",
       "      <td>8.57</td>\n",
       "      <td>0</td>\n",
       "      <td>f</td>\n",
       "      <td>1986</td>\n",
       "    </tr>\n",
       "    <tr>\n",
       "      <th>4</th>\n",
       "      <td>0_1418</td>\n",
       "      <td>2021-08-18 01:49:37.823274</td>\n",
       "      <td>s_77214</td>\n",
       "      <td>c_103</td>\n",
       "      <td>8.57</td>\n",
       "      <td>0</td>\n",
       "      <td>f</td>\n",
       "      <td>1986</td>\n",
       "    </tr>\n",
       "  </tbody>\n",
       "</table>\n",
       "</div>"
      ],
      "text/plain": [
       "  id_prod                       date session_id client_id  price  categ sex  \\\n",
       "0  0_1518 2022-05-20 13:21:29.043970   s_211425     c_103   4.18      0   f   \n",
       "1  0_1518 2021-07-20 13:21:29.043970    s_64849     c_103   4.18      0   f   \n",
       "2  0_1518 2022-08-20 13:21:29.043970   s_255965     c_103   4.18      0   f   \n",
       "3  0_1418 2022-06-18 01:49:37.823274   s_225411     c_103   8.57      0   f   \n",
       "4  0_1418 2021-08-18 01:49:37.823274    s_77214     c_103   8.57      0   f   \n",
       "\n",
       "   birth  \n",
       "0   1986  \n",
       "1   1986  \n",
       "2   1986  \n",
       "3   1986  \n",
       "4   1986  "
      ]
     },
     "execution_count": 45,
     "metadata": {},
     "output_type": "execute_result"
    }
   ],
   "source": [
    "transaction_final.head()"
   ]
  },
  {
   "cell_type": "markdown",
   "id": "320d36bc",
   "metadata": {},
   "source": [
    "Dans un premier temps on aura le chiffre d'affaire moyen par catégorie avec le graphique qui va avec. Ensuite on aura l'évolution du chiffre d'affaire dans le temps avec la décomposition en moyenne mobile, les tops et les flops des références ainsi que la répartition par catégorie, et pour finir la répartition du chiffre d'affaire entre les clients. "
   ]
  },
  {
   "cell_type": "markdown",
   "id": "c9632adf",
   "metadata": {},
   "source": [
    "### Chiffre d'affaire par catégorie"
   ]
  },
  {
   "cell_type": "markdown",
   "id": "46b9adb1",
   "metadata": {},
   "source": [
    "Pour chaque chiffre d'affaire j'ai utilisé un groupby"
   ]
  },
  {
   "cell_type": "code",
   "execution_count": 46,
   "id": "fe54cd3f",
   "metadata": {},
   "outputs": [
    {
     "name": "stdout",
     "output_type": "stream",
     "text": [
      "11853728.680000007\n"
     ]
    }
   ],
   "source": [
    "chiffre_affaire_tot = transaction_final['price'].sum()\n",
    "print(chiffre_affaire_tot)"
   ]
  },
  {
   "cell_type": "code",
   "execution_count": 47,
   "id": "7865dc21",
   "metadata": {},
   "outputs": [
    {
     "data": {
      "text/html": [
       "<div>\n",
       "<style scoped>\n",
       "    .dataframe tbody tr th:only-of-type {\n",
       "        vertical-align: middle;\n",
       "    }\n",
       "\n",
       "    .dataframe tbody tr th {\n",
       "        vertical-align: top;\n",
       "    }\n",
       "\n",
       "    .dataframe thead th {\n",
       "        text-align: right;\n",
       "    }\n",
       "</style>\n",
       "<table border=\"1\" class=\"dataframe\">\n",
       "  <thead>\n",
       "    <tr style=\"text-align: right;\">\n",
       "      <th></th>\n",
       "      <th>price</th>\n",
       "    </tr>\n",
       "    <tr>\n",
       "      <th>categ</th>\n",
       "      <th></th>\n",
       "    </tr>\n",
       "  </thead>\n",
       "  <tbody>\n",
       "    <tr>\n",
       "      <th>2</th>\n",
       "      <td>2780275</td>\n",
       "    </tr>\n",
       "    <tr>\n",
       "      <th>1</th>\n",
       "      <td>4653723</td>\n",
       "    </tr>\n",
       "    <tr>\n",
       "      <th>0</th>\n",
       "      <td>4419731</td>\n",
       "    </tr>\n",
       "  </tbody>\n",
       "</table>\n",
       "</div>"
      ],
      "text/plain": [
       "        price\n",
       "categ        \n",
       "2     2780275\n",
       "1     4653723\n",
       "0     4419731"
      ]
     },
     "execution_count": 47,
     "metadata": {},
     "output_type": "execute_result"
    }
   ],
   "source": [
    "pd.set_option('display.float_format', lambda x: '%0.0f' % x)\n",
    "ca_cat = transaction_final[['price','categ']].groupby('categ').sum()\n",
    "ca_cat.sort_values(by='categ', ascending=False).head()"
   ]
  },
  {
   "cell_type": "code",
   "execution_count": 48,
   "id": "d449b190",
   "metadata": {
    "scrolled": true
   },
   "outputs": [
    {
     "data": {
      "text/plain": [
       "<AxesSubplot:ylabel='price'>"
      ]
     },
     "execution_count": 48,
     "metadata": {},
     "output_type": "execute_result"
    },
    {
     "data": {
      "image/png": "[encoded data removed]",
      "text/plain": [
       "<Figure size 432x288 with 1 Axes>"
      ]
     },
     "metadata": {},
     "output_type": "display_data"
    }
   ],
   "source": [
    "ca_cat.plot(kind='pie', y='price',autopct='%1.0f%%')"
   ]
  },
  {
   "cell_type": "markdown",
   "id": "09c85016",
   "metadata": {},
   "source": [
    "On peut voir ici que la catégorie 0 et la catégorie 1 sont celles avec les plus gros chiffre d'affaire des 3 caégories, la catégorie 1 est quant à elle supérieur (de peu) à la catégorie 0 et  supérieur à la catégorie 2(qui est sûrement la plus chère)"
   ]
  },
  {
   "cell_type": "markdown",
   "id": "b9beda5f",
   "metadata": {},
   "source": [
    "### Chiffre d'affaire par genre"
   ]
  },
  {
   "cell_type": "code",
   "execution_count": 49,
   "id": "764114b9",
   "metadata": {
    "scrolled": true
   },
   "outputs": [
    {
     "data": {
      "text/html": [
       "<div>\n",
       "<style scoped>\n",
       "    .dataframe tbody tr th:only-of-type {\n",
       "        vertical-align: middle;\n",
       "    }\n",
       "\n",
       "    .dataframe tbody tr th {\n",
       "        vertical-align: top;\n",
       "    }\n",
       "\n",
       "    .dataframe thead th {\n",
       "        text-align: right;\n",
       "    }\n",
       "</style>\n",
       "<table border=\"1\" class=\"dataframe\">\n",
       "  <thead>\n",
       "    <tr style=\"text-align: right;\">\n",
       "      <th></th>\n",
       "      <th>price</th>\n",
       "    </tr>\n",
       "    <tr>\n",
       "      <th>sex</th>\n",
       "      <th></th>\n",
       "    </tr>\n",
       "  </thead>\n",
       "  <tbody>\n",
       "    <tr>\n",
       "      <th>m</th>\n",
       "      <td>2042926568633</td>\n",
       "    </tr>\n",
       "    <tr>\n",
       "      <th>f</th>\n",
       "      <td>1982242907640</td>\n",
       "    </tr>\n",
       "  </tbody>\n",
       "</table>\n",
       "</div>"
      ],
      "text/plain": [
       "            price\n",
       "sex              \n",
       "m   2042926568633\n",
       "f   1982242907640"
      ]
     },
     "execution_count": 49,
     "metadata": {},
     "output_type": "execute_result"
    }
   ],
   "source": [
    "ca_genre = round(transaction_final[['price','sex']].groupby('sex').sum()*transaction_final[['price','sex']].groupby('sex').count())\n",
    "ca_genre.sort_values(by='sex', ascending=False).head()"
   ]
  },
  {
   "cell_type": "code",
   "execution_count": 50,
   "id": "7a25cf8b",
   "metadata": {
    "scrolled": true
   },
   "outputs": [
    {
     "data": {
      "image/png": "[encoded data removed]",
      "text/plain": [
       "<Figure size 432x288 with 1 Axes>"
      ]
     },
     "metadata": {},
     "output_type": "display_data"
    }
   ],
   "source": [
    "ca_genre.plot(kind = 'pie', subplots = True, autopct='%1.0f%%')\n",
    "plt.axis('equal')\n",
    "plt.show()"
   ]
  },
  {
   "cell_type": "markdown",
   "id": "ef4bd149",
   "metadata": {},
   "source": [
    "Ici, il y'a une légère différence entre le chiffre d'affaire des hommes et des femmes, on voit que le chiffre d'affaire des hommes est un tout petit peu au dessus "
   ]
  },
  {
   "cell_type": "markdown",
   "id": "1ee46ff0",
   "metadata": {},
   "source": [
    "### Chiffre d'affaire par âge"
   ]
  },
  {
   "cell_type": "markdown",
   "id": "08e8cb01",
   "metadata": {},
   "source": [
    "Pour avoir l'âge il faut tout simplement soustraire l'année actulle et l'année de naissance"
   ]
  },
  {
   "cell_type": "code",
   "execution_count": 51,
   "id": "6e500932",
   "metadata": {},
   "outputs": [
    {
     "data": {
      "text/html": [
       "<div>\n",
       "<style scoped>\n",
       "    .dataframe tbody tr th:only-of-type {\n",
       "        vertical-align: middle;\n",
       "    }\n",
       "\n",
       "    .dataframe tbody tr th {\n",
       "        vertical-align: top;\n",
       "    }\n",
       "\n",
       "    .dataframe thead th {\n",
       "        text-align: right;\n",
       "    }\n",
       "</style>\n",
       "<table border=\"1\" class=\"dataframe\">\n",
       "  <thead>\n",
       "    <tr style=\"text-align: right;\">\n",
       "      <th></th>\n",
       "      <th>id_prod</th>\n",
       "      <th>date</th>\n",
       "      <th>session_id</th>\n",
       "      <th>client_id</th>\n",
       "      <th>price</th>\n",
       "      <th>categ</th>\n",
       "      <th>sex</th>\n",
       "      <th>birth</th>\n",
       "      <th>age</th>\n",
       "    </tr>\n",
       "  </thead>\n",
       "  <tbody>\n",
       "    <tr>\n",
       "      <th>0</th>\n",
       "      <td>0_1518</td>\n",
       "      <td>2022-05-20 13:21:29.043970</td>\n",
       "      <td>s_211425</td>\n",
       "      <td>c_103</td>\n",
       "      <td>4</td>\n",
       "      <td>0</td>\n",
       "      <td>f</td>\n",
       "      <td>1986</td>\n",
       "      <td>36</td>\n",
       "    </tr>\n",
       "    <tr>\n",
       "      <th>1</th>\n",
       "      <td>0_1518</td>\n",
       "      <td>2021-07-20 13:21:29.043970</td>\n",
       "      <td>s_64849</td>\n",
       "      <td>c_103</td>\n",
       "      <td>4</td>\n",
       "      <td>0</td>\n",
       "      <td>f</td>\n",
       "      <td>1986</td>\n",
       "      <td>36</td>\n",
       "    </tr>\n",
       "    <tr>\n",
       "      <th>2</th>\n",
       "      <td>0_1518</td>\n",
       "      <td>2022-08-20 13:21:29.043970</td>\n",
       "      <td>s_255965</td>\n",
       "      <td>c_103</td>\n",
       "      <td>4</td>\n",
       "      <td>0</td>\n",
       "      <td>f</td>\n",
       "      <td>1986</td>\n",
       "      <td>36</td>\n",
       "    </tr>\n",
       "    <tr>\n",
       "      <th>3</th>\n",
       "      <td>0_1418</td>\n",
       "      <td>2022-06-18 01:49:37.823274</td>\n",
       "      <td>s_225411</td>\n",
       "      <td>c_103</td>\n",
       "      <td>9</td>\n",
       "      <td>0</td>\n",
       "      <td>f</td>\n",
       "      <td>1986</td>\n",
       "      <td>36</td>\n",
       "    </tr>\n",
       "    <tr>\n",
       "      <th>4</th>\n",
       "      <td>0_1418</td>\n",
       "      <td>2021-08-18 01:49:37.823274</td>\n",
       "      <td>s_77214</td>\n",
       "      <td>c_103</td>\n",
       "      <td>9</td>\n",
       "      <td>0</td>\n",
       "      <td>f</td>\n",
       "      <td>1986</td>\n",
       "      <td>36</td>\n",
       "    </tr>\n",
       "  </tbody>\n",
       "</table>\n",
       "</div>"
      ],
      "text/plain": [
       "  id_prod                       date session_id client_id  price  categ sex  \\\n",
       "0  0_1518 2022-05-20 13:21:29.043970   s_211425     c_103      4      0   f   \n",
       "1  0_1518 2021-07-20 13:21:29.043970    s_64849     c_103      4      0   f   \n",
       "2  0_1518 2022-08-20 13:21:29.043970   s_255965     c_103      4      0   f   \n",
       "3  0_1418 2022-06-18 01:49:37.823274   s_225411     c_103      9      0   f   \n",
       "4  0_1418 2021-08-18 01:49:37.823274    s_77214     c_103      9      0   f   \n",
       "\n",
       "   birth  age  \n",
       "0   1986   36  \n",
       "1   1986   36  \n",
       "2   1986   36  \n",
       "3   1986   36  \n",
       "4   1986   36  "
      ]
     },
     "execution_count": 51,
     "metadata": {},
     "output_type": "execute_result"
    }
   ],
   "source": [
    "transaction_final['age'] = 2022 - transaction_final['birth']\n",
    "transaction_final.head()"
   ]
  },
  {
   "cell_type": "code",
   "execution_count": 52,
   "id": "4459f761",
   "metadata": {
    "scrolled": true
   },
   "outputs": [
    {
     "data": {
      "text/html": [
       "<div>\n",
       "<style scoped>\n",
       "    .dataframe tbody tr th:only-of-type {\n",
       "        vertical-align: middle;\n",
       "    }\n",
       "\n",
       "    .dataframe tbody tr th {\n",
       "        vertical-align: top;\n",
       "    }\n",
       "\n",
       "    .dataframe thead th {\n",
       "        text-align: right;\n",
       "    }\n",
       "</style>\n",
       "<table border=\"1\" class=\"dataframe\">\n",
       "  <thead>\n",
       "    <tr style=\"text-align: right;\">\n",
       "      <th></th>\n",
       "      <th>price</th>\n",
       "    </tr>\n",
       "    <tr>\n",
       "      <th>age</th>\n",
       "      <th></th>\n",
       "    </tr>\n",
       "  </thead>\n",
       "  <tbody>\n",
       "    <tr>\n",
       "      <th>18</th>\n",
       "      <td>9225948390</td>\n",
       "    </tr>\n",
       "    <tr>\n",
       "      <th>19</th>\n",
       "      <td>778893754</td>\n",
       "    </tr>\n",
       "    <tr>\n",
       "      <th>20</th>\n",
       "      <td>844268972</td>\n",
       "    </tr>\n",
       "    <tr>\n",
       "      <th>21</th>\n",
       "      <td>758972220</td>\n",
       "    </tr>\n",
       "    <tr>\n",
       "      <th>22</th>\n",
       "      <td>728180216</td>\n",
       "    </tr>\n",
       "  </tbody>\n",
       "</table>\n",
       "</div>"
      ],
      "text/plain": [
       "         price\n",
       "age           \n",
       "18  9225948390\n",
       "19   778893754\n",
       "20   844268972\n",
       "21   758972220\n",
       "22   728180216"
      ]
     },
     "execution_count": 52,
     "metadata": {},
     "output_type": "execute_result"
    }
   ],
   "source": [
    "ca_age = (transaction_final[['price','age']].groupby('age').sum()*transaction_final[['price','age']].groupby('age').count())\n",
    "ca_age.sort_values(by='age', ascending=True).head()"
   ]
  },
  {
   "cell_type": "code",
   "execution_count": 53,
   "id": "a672c7d7",
   "metadata": {
    "scrolled": false
   },
   "outputs": [
    {
     "data": {
      "text/plain": [
       "<AxesSubplot:title={'center':'CA par age'}, xlabel='age'>"
      ]
     },
     "execution_count": 53,
     "metadata": {},
     "output_type": "execute_result"
    },
    {
     "data": {
      "image/png": "[encoded data removed]",
      "text/plain": [
       "<Figure size 432x288 with 1 Axes>"
      ]
     },
     "metadata": {
      "needs_background": "light"
     },
     "output_type": "display_data"
    }
   ],
   "source": [
    "ca_age.plot(title = 'CA par age')"
   ]
  },
  {
   "cell_type": "markdown",
   "id": "4ec7d9ed",
   "metadata": {},
   "source": [
    "Ici, on voit bien l'évolution du chiffre d'affaire, on peut surtout voir que les meilleurs chiffres se font entre 40 et 45 ans.\n",
    "On voit un pic d'évolution vers 41 ans."
   ]
  },
  {
   "cell_type": "markdown",
   "id": "08bf7b1a",
   "metadata": {},
   "source": [
    "### Chiffre d'affaire dans le  temps"
   ]
  },
  {
   "cell_type": "code",
   "execution_count": 54,
   "id": "c42f4b64",
   "metadata": {},
   "outputs": [
    {
     "name": "stdout",
     "output_type": "stream",
     "text": [
      "Requirement already satisfied: plotly in c:\\users\\serha\\anaconda3\\lib\\site-packages (5.8.0)\n",
      "Requirement already satisfied: tenacity>=6.2.0 in c:\\users\\serha\\anaconda3\\lib\\site-packages (from plotly) (8.0.1)\n",
      "Note: you may need to restart the kernel to use updated packages.\n"
     ]
    }
   ],
   "source": [
    "pip install plotly"
   ]
  },
  {
   "cell_type": "code",
   "execution_count": 55,
   "id": "8eb72643",
   "metadata": {
    "scrolled": true
   },
   "outputs": [],
   "source": [
    "import plotly.express as px\n",
    "\n",
    "transaction_group=transaction_final.groupby([\"price\",pd.Grouper(key='date', freq='M')]).sum()\n",
    "\n",
    "transaction_group=transaction_group.reset_index()"
   ]
  },
  {
   "cell_type": "code",
   "execution_count": 56,
   "id": "1f7bf37f",
   "metadata": {
    "scrolled": true
   },
   "outputs": [
    {
     "data": {
      "text/html": [
       "<div>\n",
       "<style scoped>\n",
       "    .dataframe tbody tr th:only-of-type {\n",
       "        vertical-align: middle;\n",
       "    }\n",
       "\n",
       "    .dataframe tbody tr th {\n",
       "        vertical-align: top;\n",
       "    }\n",
       "\n",
       "    .dataframe thead th {\n",
       "        text-align: right;\n",
       "    }\n",
       "</style>\n",
       "<table border=\"1\" class=\"dataframe\">\n",
       "  <thead>\n",
       "    <tr style=\"text-align: right;\">\n",
       "      <th></th>\n",
       "      <th>price</th>\n",
       "      <th>date</th>\n",
       "      <th>categ</th>\n",
       "      <th>birth</th>\n",
       "      <th>age</th>\n",
       "      <th>7day_rolling_avg</th>\n",
       "    </tr>\n",
       "  </thead>\n",
       "  <tbody>\n",
       "    <tr>\n",
       "      <th>0</th>\n",
       "      <td>1</td>\n",
       "      <td>2021-03-31</td>\n",
       "      <td>0</td>\n",
       "      <td>1976</td>\n",
       "      <td>46</td>\n",
       "      <td>NaN</td>\n",
       "    </tr>\n",
       "    <tr>\n",
       "      <th>1</th>\n",
       "      <td>1</td>\n",
       "      <td>2021-04-30</td>\n",
       "      <td>0</td>\n",
       "      <td>1975</td>\n",
       "      <td>47</td>\n",
       "      <td>NaN</td>\n",
       "    </tr>\n",
       "    <tr>\n",
       "      <th>2</th>\n",
       "      <td>1</td>\n",
       "      <td>2021-05-31</td>\n",
       "      <td>0</td>\n",
       "      <td>5880</td>\n",
       "      <td>186</td>\n",
       "      <td>NaN</td>\n",
       "    </tr>\n",
       "    <tr>\n",
       "      <th>3</th>\n",
       "      <td>1</td>\n",
       "      <td>2021-06-30</td>\n",
       "      <td>0</td>\n",
       "      <td>3977</td>\n",
       "      <td>67</td>\n",
       "      <td>NaN</td>\n",
       "    </tr>\n",
       "    <tr>\n",
       "      <th>4</th>\n",
       "      <td>1</td>\n",
       "      <td>2021-08-31</td>\n",
       "      <td>0</td>\n",
       "      <td>1984</td>\n",
       "      <td>38</td>\n",
       "      <td>NaN</td>\n",
       "    </tr>\n",
       "    <tr>\n",
       "      <th>5</th>\n",
       "      <td>1</td>\n",
       "      <td>2021-10-31</td>\n",
       "      <td>0</td>\n",
       "      <td>7920</td>\n",
       "      <td>168</td>\n",
       "      <td>NaN</td>\n",
       "    </tr>\n",
       "    <tr>\n",
       "      <th>6</th>\n",
       "      <td>1</td>\n",
       "      <td>2022-01-31</td>\n",
       "      <td>0</td>\n",
       "      <td>3972</td>\n",
       "      <td>72</td>\n",
       "      <td>1</td>\n",
       "    </tr>\n",
       "    <tr>\n",
       "      <th>7</th>\n",
       "      <td>1</td>\n",
       "      <td>2022-06-30</td>\n",
       "      <td>0</td>\n",
       "      <td>1988</td>\n",
       "      <td>34</td>\n",
       "      <td>1</td>\n",
       "    </tr>\n",
       "    <tr>\n",
       "      <th>8</th>\n",
       "      <td>1</td>\n",
       "      <td>2022-08-31</td>\n",
       "      <td>0</td>\n",
       "      <td>1959</td>\n",
       "      <td>63</td>\n",
       "      <td>1</td>\n",
       "    </tr>\n",
       "    <tr>\n",
       "      <th>9</th>\n",
       "      <td>1</td>\n",
       "      <td>2022-09-30</td>\n",
       "      <td>0</td>\n",
       "      <td>1975</td>\n",
       "      <td>47</td>\n",
       "      <td>1</td>\n",
       "    </tr>\n",
       "  </tbody>\n",
       "</table>\n",
       "</div>"
      ],
      "text/plain": [
       "   price       date  categ  birth  age  7day_rolling_avg\n",
       "0      1 2021-03-31      0   1976   46               NaN\n",
       "1      1 2021-04-30      0   1975   47               NaN\n",
       "2      1 2021-05-31      0   5880  186               NaN\n",
       "3      1 2021-06-30      0   3977   67               NaN\n",
       "4      1 2021-08-31      0   1984   38               NaN\n",
       "5      1 2021-10-31      0   7920  168               NaN\n",
       "6      1 2022-01-31      0   3972   72                 1\n",
       "7      1 2022-06-30      0   1988   34                 1\n",
       "8      1 2022-08-31      0   1959   63                 1\n",
       "9      1 2022-09-30      0   1975   47                 1"
      ]
     },
     "execution_count": 56,
     "metadata": {},
     "output_type": "execute_result"
    }
   ],
   "source": [
    "transaction_group[ '7day_rolling_avg' ] = transaction_group.price.rolling( 7).mean() \n",
    "transaction_group.head(10)"
   ]
  },
  {
   "cell_type": "code",
   "execution_count": 57,
   "id": "38944edb",
   "metadata": {
    "scrolled": true
   },
   "outputs": [
    {
     "data": {
      "image/png": "[encoded data removed]",
      "text/plain": [
       "<Figure size 864x360 with 1 Axes>"
      ]
     },
     "metadata": {
      "needs_background": "light"
     },
     "output_type": "display_data"
    }
   ],
   "source": [
    "plt.figure( figsize = ( 12, 5)) \n",
    "  \n",
    "sns.lineplot( x = 'date', \n",
    "             y = 'price', \n",
    "             data =transaction_group, \n",
    "             label = \"chiffre d'affaire en fontion du temps par mois\") \n",
    "  \n",
    "sns.lineplot( x = 'date', \n",
    "             y = '7day_rolling_avg', \n",
    "             data = transaction_group, \n",
    "             label = 'Moyenne mobile') \n",
    "  \n",
    "plt.xlabel('date') \n",
    "plt.ylabel(\"chiffre d'affaire\") \n",
    "plt.show()"
   ]
  },
  {
   "cell_type": "markdown",
   "id": "910e5ffb",
   "metadata": {},
   "source": [
    "Sur ce graphique on peut voir les pics, et surtout que le chiffre d'affaire a baissé en octobre 2021"
   ]
  },
  {
   "cell_type": "code",
   "execution_count": 58,
   "id": "332c7eab",
   "metadata": {},
   "outputs": [],
   "source": [
    "transaction_group=transaction_final.groupby([\"price\",pd.Grouper(key='date', freq='D')]).sum()\n",
    "\n",
    "transaction_group=transaction_group.reset_index()"
   ]
  },
  {
   "cell_type": "code",
   "execution_count": 59,
   "id": "5a9994c8",
   "metadata": {
    "scrolled": true
   },
   "outputs": [
    {
     "data": {
      "image/png": "[encoded data removed]",
      "text/plain": [
       "<Figure size 864x360 with 1 Axes>"
      ]
     },
     "metadata": {
      "needs_background": "light"
     },
     "output_type": "display_data"
    }
   ],
   "source": [
    "transaction_group[ 'day_rolling_avg' ] = transaction_group.price.rolling(1).mean() \n",
    "\n",
    "plt.figure( figsize = ( 12, 5)) \n",
    "  \n",
    "sns.lineplot( x = 'date', \n",
    "             y = 'price', \n",
    "             data =transaction_group, \n",
    "             label = 'chiffre d affaire en fonction du temps par jour') \n",
    "  \n",
    "sns.lineplot( x = 'date', \n",
    "             y = 'day_rolling_avg', \n",
    "             data = transaction_group, \n",
    "             label = 'Rollingavg') \n",
    "  \n",
    "plt.xlabel('date') \n",
    "  \n",
    "\n",
    "  \n",
    "plt.ylabel('chiffre affaire') \n",
    "plt.show()"
   ]
  },
  {
   "cell_type": "markdown",
   "id": "fb8ec53d",
   "metadata": {},
   "source": [
    "Ici, ce graphique est plus précis que le précédent, comme on fait la moyenne mobile sur les jours et non sur les mois"
   ]
  },
  {
   "cell_type": "markdown",
   "id": "3e0104e5",
   "metadata": {},
   "source": [
    "### Précisions sur le mois d'octobre 2021"
   ]
  },
  {
   "cell_type": "markdown",
   "id": "1b8a61f3",
   "metadata": {},
   "source": [
    "Nous allons voir de plus près le chiffre d'affaire d'octobre"
   ]
  },
  {
   "cell_type": "code",
   "execution_count": 60,
   "id": "92d4cad4",
   "metadata": {},
   "outputs": [],
   "source": [
    "transaction_final.reset_index(inplace=True)"
   ]
  },
  {
   "cell_type": "code",
   "execution_count": 61,
   "id": "52adb7f3",
   "metadata": {},
   "outputs": [],
   "source": [
    "transaction_final['Date/mois'] = transaction_final['date'].dt.to_period('M')"
   ]
  },
  {
   "cell_type": "code",
   "execution_count": 62,
   "id": "c17cd250",
   "metadata": {},
   "outputs": [],
   "source": [
    "mask = (transaction_final['Date/mois'] == '2021-10')"
   ]
  },
  {
   "cell_type": "code",
   "execution_count": 63,
   "id": "17c3696f",
   "metadata": {},
   "outputs": [],
   "source": [
    "octobre2021=transaction_final[mask]"
   ]
  },
  {
   "cell_type": "code",
   "execution_count": 64,
   "id": "0c0e965b",
   "metadata": {
    "scrolled": false
   },
   "outputs": [
    {
     "data": {
      "text/html": [
       "<div>\n",
       "<style scoped>\n",
       "    .dataframe tbody tr th:only-of-type {\n",
       "        vertical-align: middle;\n",
       "    }\n",
       "\n",
       "    .dataframe tbody tr th {\n",
       "        vertical-align: top;\n",
       "    }\n",
       "\n",
       "    .dataframe thead th {\n",
       "        text-align: right;\n",
       "    }\n",
       "</style>\n",
       "<table border=\"1\" class=\"dataframe\">\n",
       "  <thead>\n",
       "    <tr style=\"text-align: right;\">\n",
       "      <th></th>\n",
       "      <th>count</th>\n",
       "    </tr>\n",
       "    <tr>\n",
       "      <th>categ</th>\n",
       "      <th></th>\n",
       "    </tr>\n",
       "  </thead>\n",
       "  <tbody>\n",
       "    <tr>\n",
       "      <th>2</th>\n",
       "      <td>1171</td>\n",
       "    </tr>\n",
       "    <tr>\n",
       "      <th>1</th>\n",
       "      <td>1666</td>\n",
       "    </tr>\n",
       "    <tr>\n",
       "      <th>0</th>\n",
       "      <td>18762</td>\n",
       "    </tr>\n",
       "  </tbody>\n",
       "</table>\n",
       "</div>"
      ],
      "text/plain": [
       "       count\n",
       "categ       \n",
       "2       1171\n",
       "1       1666\n",
       "0      18762"
      ]
     },
     "execution_count": 64,
     "metadata": {},
     "output_type": "execute_result"
    }
   ],
   "source": [
    "oct_ca= (octobre2021[['price','categ']].groupby('categ').count())\n",
    "oct_ca.rename(columns={'price':'count'}, inplace=True)\n",
    "oct_ca.sort_values(by='categ', ascending=False).head()"
   ]
  },
  {
   "cell_type": "markdown",
   "id": "1e16773d",
   "metadata": {},
   "source": [
    "On voit dans ce group by qu'il n'y a pas eu beaucoup de ventes pour les catégories 1 et 2"
   ]
  },
  {
   "cell_type": "code",
   "execution_count": 65,
   "id": "4a8f6a8b",
   "metadata": {},
   "outputs": [
    {
     "data": {
      "text/html": [
       "<div>\n",
       "<style scoped>\n",
       "    .dataframe tbody tr th:only-of-type {\n",
       "        vertical-align: middle;\n",
       "    }\n",
       "\n",
       "    .dataframe tbody tr th {\n",
       "        vertical-align: top;\n",
       "    }\n",
       "\n",
       "    .dataframe thead th {\n",
       "        text-align: right;\n",
       "    }\n",
       "</style>\n",
       "<table border=\"1\" class=\"dataframe\">\n",
       "  <thead>\n",
       "    <tr style=\"text-align: right;\">\n",
       "      <th></th>\n",
       "      <th>price</th>\n",
       "    </tr>\n",
       "    <tr>\n",
       "      <th>categ</th>\n",
       "      <th></th>\n",
       "    </tr>\n",
       "  </thead>\n",
       "  <tbody>\n",
       "    <tr>\n",
       "      <th>2</th>\n",
       "      <td>102796926</td>\n",
       "    </tr>\n",
       "    <tr>\n",
       "      <th>1</th>\n",
       "      <td>56248025</td>\n",
       "    </tr>\n",
       "    <tr>\n",
       "      <th>0</th>\n",
       "      <td>3738344072</td>\n",
       "    </tr>\n",
       "  </tbody>\n",
       "</table>\n",
       "</div>"
      ],
      "text/plain": [
       "           price\n",
       "categ           \n",
       "2      102796926\n",
       "1       56248025\n",
       "0     3738344072"
      ]
     },
     "execution_count": 65,
     "metadata": {},
     "output_type": "execute_result"
    }
   ],
   "source": [
    "oct_ca= (octobre2021[['price','categ']].groupby('categ').sum()*octobre2021[['price','categ']].groupby('categ').count())\n",
    "oct_ca.sort_values(by='categ', ascending=False).head()"
   ]
  },
  {
   "cell_type": "code",
   "execution_count": 66,
   "id": "65692c4f",
   "metadata": {
    "scrolled": true
   },
   "outputs": [
    {
     "data": {
      "image/png": "[encoded data removed]",
      "text/plain": [
       "<Figure size 432x288 with 1 Axes>"
      ]
     },
     "metadata": {},
     "output_type": "display_data"
    }
   ],
   "source": [
    "oct_ca.plot(kind = 'pie', subplots = True, title = 'Répartition du CA par catégorie')\n",
    "plt.axis('equal')\n",
    "plt.show()"
   ]
  },
  {
   "cell_type": "markdown",
   "id": "671b91bb",
   "metadata": {},
   "source": [
    "Sur ce piechart on voit clairement que la répartition est inégale et que la catégorie 0 est bien au dessus en octobre 2021.\n",
    "\n",
    "On va donc analyser l'évolution du chiffre d'affaire de la catégorie 1 dans le temps."
   ]
  },
  {
   "cell_type": "code",
   "execution_count": 67,
   "id": "08d4655d",
   "metadata": {},
   "outputs": [],
   "source": [
    "cat1 = transaction_final.query('categ == 1')"
   ]
  },
  {
   "cell_type": "code",
   "execution_count": 68,
   "id": "73860712",
   "metadata": {
    "scrolled": true
   },
   "outputs": [
    {
     "data": {
      "text/html": [
       "<div>\n",
       "<style scoped>\n",
       "    .dataframe tbody tr th:only-of-type {\n",
       "        vertical-align: middle;\n",
       "    }\n",
       "\n",
       "    .dataframe tbody tr th {\n",
       "        vertical-align: top;\n",
       "    }\n",
       "\n",
       "    .dataframe thead th {\n",
       "        text-align: right;\n",
       "    }\n",
       "</style>\n",
       "<table border=\"1\" class=\"dataframe\">\n",
       "  <thead>\n",
       "    <tr style=\"text-align: right;\">\n",
       "      <th></th>\n",
       "      <th>price</th>\n",
       "    </tr>\n",
       "    <tr>\n",
       "      <th>Date/mois</th>\n",
       "      <th></th>\n",
       "    </tr>\n",
       "  </thead>\n",
       "  <tbody>\n",
       "    <tr>\n",
       "      <th>2021-03</th>\n",
       "      <td>1707822069</td>\n",
       "    </tr>\n",
       "    <tr>\n",
       "      <th>2021-04</th>\n",
       "      <td>1183372555</td>\n",
       "    </tr>\n",
       "    <tr>\n",
       "      <th>2021-05</th>\n",
       "      <td>1344897794</td>\n",
       "    </tr>\n",
       "    <tr>\n",
       "      <th>2021-06</th>\n",
       "      <td>1752397139</td>\n",
       "    </tr>\n",
       "    <tr>\n",
       "      <th>2021-07</th>\n",
       "      <td>1728569863</td>\n",
       "    </tr>\n",
       "  </tbody>\n",
       "</table>\n",
       "</div>"
      ],
      "text/plain": [
       "               price\n",
       "Date/mois           \n",
       "2021-03   1707822069\n",
       "2021-04   1183372555\n",
       "2021-05   1344897794\n",
       "2021-06   1752397139\n",
       "2021-07   1728569863"
      ]
     },
     "execution_count": 68,
     "metadata": {},
     "output_type": "execute_result"
    }
   ],
   "source": [
    "cat1_evolution = cat1[['Date/mois','price',]].groupby('Date/mois').sum()*cat1[['Date/mois','price']].groupby('Date/mois').count()\n",
    "cat1_evolution.sort_values(by='Date/mois', ascending=True).head()"
   ]
  },
  {
   "cell_type": "code",
   "execution_count": 69,
   "id": "f8d86aac",
   "metadata": {
    "scrolled": true
   },
   "outputs": [
    {
     "data": {
      "text/plain": [
       "Text(0.5, 1.0, \"Evolution du chiffre d'affaire de la catégorie 1 par rapport au temps par mois\")"
      ]
     },
     "execution_count": 69,
     "metadata": {},
     "output_type": "execute_result"
    },
    {
     "data": {
      "image/png": "[encoded data removed]",
      "text/plain": [
       "<Figure size 432x288 with 1 Axes>"
      ]
     },
     "metadata": {
      "needs_background": "light"
     },
     "output_type": "display_data"
    }
   ],
   "source": [
    "cat1_evolution.plot()\n",
    "plt.title(\"Evolution du chiffre d'affaire de la catégorie 1 par rapport au temps par mois\")"
   ]
  },
  {
   "cell_type": "markdown",
   "id": "254cbe02",
   "metadata": {},
   "source": [
    "On voit donc qu’en octobre 2021, Il y’a une grosse baisse du CA, mais celui-ci augmente juste après pour 3.0 et rebaisse encore une fois. Cela peut-être dû à plusieurs choses : \n",
    "\n",
    "-Le fait qu’ils n’ont peut-être pas pris en compte les ventes de cette catégorie en octobre \n",
    "\n",
    "-Moins de mise en vente de cette catégorie\n"
   ]
  },
  {
   "cell_type": "markdown",
   "id": "ee1d88f5",
   "metadata": {},
   "source": [
    "### La courbe de Lorenz"
   ]
  },
  {
   "cell_type": "markdown",
   "id": "76c2db6b",
   "metadata": {},
   "source": [
    "La courbe de Lorenz est une représentation graphique de la distribution d'une variable(ici le chiffre d'affaire) au sein d'une population(ici les clients)"
   ]
  },
  {
   "cell_type": "code",
   "execution_count": 70,
   "id": "f69e6d90",
   "metadata": {
    "scrolled": false
   },
   "outputs": [
    {
     "data": {
      "image/png": "[encoded data removed]",
      "text/plain": [
       "<Figure size 432x288 with 1 Axes>"
      ]
     },
     "metadata": {
      "needs_background": "light"
     },
     "output_type": "display_data"
    },
    {
     "data": {
      "text/plain": [
       "[<matplotlib.lines.Line2D at 0x1699ced5e80>]"
      ]
     },
     "execution_count": 70,
     "metadata": {},
     "output_type": "execute_result"
    },
    {
     "data": {
      "image/png": "[encoded data removed]",
      "text/plain": [
       "<Figure size 432x288 with 1 Axes>"
      ]
     },
     "metadata": {
      "needs_background": "light"
     },
     "output_type": "display_data"
    }
   ],
   "source": [
    "ca=transaction_final['price'].sort_values()\n",
    "n=len(ca)\n",
    "lorenz = np.cumsum(np.sort(ca)) / ca.sum()\n",
    "lorenz = np.append([0],lorenz)# La courbe de Lorenz commence à 0\n",
    "xaxis=np.linspace(0-1/n,1+1/n,len(lorenz))\n",
    "plt.plot(xaxis,lorenz,drawstyle='steps-post')\n",
    "plt.xlabel(\"client\")\n",
    "plt.ylabel(\"chiffre affaire\")\n",
    "plt.title(\"la courbe de lorenz\")\n",
    "plt.show()\n",
    "plt.plot([0,1],[0,1],color='k')"
   ]
  },
  {
   "cell_type": "markdown",
   "id": "9219b6c9",
   "metadata": {},
   "source": [
    "Ici on voit que la courbe de Lorenz est différente de la droite qui  fait la diagonale, ce qui montre une inégalité au sein des clients sur le chiffre d'affaire. La personne qui a le salaire médian est située à 0,5 sur l'axe x."
   ]
  },
  {
   "cell_type": "markdown",
   "id": "80c32f22",
   "metadata": {},
   "source": [
    "## Demandes de Julie"
   ]
  },
  {
   "cell_type": "markdown",
   "id": "dc7e0dfa",
   "metadata": {},
   "source": [
    "### Genre du client et la catégorie des livres achetés"
   ]
  },
  {
   "cell_type": "markdown",
   "id": "f2ce7c03",
   "metadata": {},
   "source": [
    "Ici pour le test d'indépendence du chi-2, il faut faire le tableau de contingence"
   ]
  },
  {
   "cell_type": "code",
   "execution_count": 71,
   "id": "ea31b568",
   "metadata": {
    "scrolled": true
   },
   "outputs": [
    {
     "data": {
      "text/html": [
       "<div>\n",
       "<style scoped>\n",
       "    .dataframe tbody tr th:only-of-type {\n",
       "        vertical-align: middle;\n",
       "    }\n",
       "\n",
       "    .dataframe tbody tr th {\n",
       "        vertical-align: top;\n",
       "    }\n",
       "\n",
       "    .dataframe thead th {\n",
       "        text-align: right;\n",
       "    }\n",
       "</style>\n",
       "<table border=\"1\" class=\"dataframe\">\n",
       "  <thead>\n",
       "    <tr style=\"text-align: right;\">\n",
       "      <th>categ</th>\n",
       "      <th>0</th>\n",
       "      <th>1</th>\n",
       "      <th>2</th>\n",
       "    </tr>\n",
       "    <tr>\n",
       "      <th>sex</th>\n",
       "      <th></th>\n",
       "      <th></th>\n",
       "      <th></th>\n",
       "    </tr>\n",
       "  </thead>\n",
       "  <tbody>\n",
       "    <tr>\n",
       "      <th>f</th>\n",
       "      <td>206103</td>\n",
       "      <td>114899</td>\n",
       "      <td>17283</td>\n",
       "    </tr>\n",
       "    <tr>\n",
       "      <th>m</th>\n",
       "      <td>209356</td>\n",
       "      <td>112270</td>\n",
       "      <td>19200</td>\n",
       "    </tr>\n",
       "  </tbody>\n",
       "</table>\n",
       "</div>"
      ],
      "text/plain": [
       "categ       0       1      2\n",
       "sex                         \n",
       "f      206103  114899  17283\n",
       "m      209356  112270  19200"
      ]
     },
     "execution_count": 71,
     "metadata": {},
     "output_type": "execute_result"
    }
   ],
   "source": [
    "X = \"sex\"\n",
    "Y = \"categ\"\n",
    "\n",
    "cont = transaction_final[[X,Y]].pivot_table(index=X,columns=Y,aggfunc=len)\n",
    "cont.head()"
   ]
  },
  {
   "cell_type": "markdown",
   "id": "bb56e4a2",
   "metadata": {},
   "source": [
    "Ici le code affichant la heatmap(carte de chaleur)"
   ]
  },
  {
   "cell_type": "code",
   "execution_count": 72,
   "id": "62e8617d",
   "metadata": {
    "scrolled": false
   },
   "outputs": [
    {
     "data": {
      "text/plain": [
       "<AxesSubplot:xlabel='categ', ylabel='sex'>"
      ]
     },
     "execution_count": 72,
     "metadata": {},
     "output_type": "execute_result"
    },
    {
     "data": {
      "image/png": "[encoded data removed]",
      "text/plain": [
       "<Figure size 432x288 with 2 Axes>"
      ]
     },
     "metadata": {
      "needs_background": "light"
     },
     "output_type": "display_data"
    }
   ],
   "source": [
    "X = \"sex\"#qualitative\n",
    "Y = \"categ\"#qualitative\n",
    "dt_pivot=transaction_final[[\"sex\",\"categ\",\"price\"]]\n",
    "# pandas pivot\n",
    "heatmap1_data = pd.pivot_table(dt_pivot, values='price',\n",
    "                     index=[\"sex\"], \n",
    "                     columns='categ')\n",
    "sns.heatmap(heatmap1_data, cmap=\"YlGnBu\")"
   ]
  },
  {
   "cell_type": "markdown",
   "id": "9c9cdb1d",
   "metadata": {},
   "source": [
    "On voit sur cette heatmap qu'il y'a une faible corrélation entre l'âge et la catégorie 0 et 1 mais il y'a une forte corrélation entre la catégorie 2 et le sex"
   ]
  },
  {
   "cell_type": "markdown",
   "id": "4b3fbd53",
   "metadata": {},
   "source": [
    "Si on a une p-value inférieur à 5% alors les valeurs ne sont pas indépendantes sinon elles sont dépendantes"
   ]
  },
  {
   "cell_type": "code",
   "execution_count": 73,
   "id": "91a89dbb",
   "metadata": {},
   "outputs": [
    {
     "data": {
      "text/plain": [
       "1.1310980597090762e-32"
      ]
     },
     "execution_count": 73,
     "metadata": {},
     "output_type": "execute_result"
    }
   ],
   "source": [
    "from scipy.stats import chi2_contingency\n",
    "Khi2_obs, p_value, ddl, effectif_theorique = chi2_contingency(cont)\n",
    "p_value"
   ]
  },
  {
   "cell_type": "markdown",
   "id": "b9a0c2dd",
   "metadata": {},
   "source": [
    "Les variables ne sont donc pas indépendantes car on a une p-value inférieur à 5%"
   ]
  },
  {
   "cell_type": "markdown",
   "id": "7776c63b",
   "metadata": {},
   "source": [
    "### Âge des clients et montant total des achats"
   ]
  },
  {
   "cell_type": "markdown",
   "id": "9c9b9319",
   "metadata": {},
   "source": [
    "Avant d'effectuer tout test, il faut vérifier si la normalité entre les 2 variables est vérifiée ou non avec le test de  kolmogorov-smirnov :\n",
    "\n",
    "-Si la normalité est vérifiée, alors on doit effectuer le test de Pearson : si c'est une valeur positive alors les 2 varaiables vont dans le même sens, sinon elles ne vont pas dans le même sens\n",
    "\n",
    "-Si la normalité n'est pas vérifiée, alors on doit effectuer le test de Spearman qui est l'équivalent du test de Pearson "
   ]
  },
  {
   "cell_type": "code",
   "execution_count": 74,
   "id": "5b0234dc",
   "metadata": {},
   "outputs": [],
   "source": [
    "import scipy.stats as st"
   ]
  },
  {
   "cell_type": "code",
   "execution_count": 75,
   "id": "689fb180",
   "metadata": {
    "scrolled": false
   },
   "outputs": [
    {
     "data": {
      "text/plain": [
       "Text(0.5, 1.0, \"le chiffre d'affaire en fonction d'age\")"
      ]
     },
     "execution_count": 75,
     "metadata": {},
     "output_type": "execute_result"
    },
    {
     "data": {
      "image/png": "[encoded data removed]",
      "text/plain": [
       "<Figure size 432x288 with 1 Axes>"
      ]
     },
     "metadata": {
      "needs_background": "light"
     },
     "output_type": "display_data"
    }
   ],
   "source": [
    "X = \"age\"#quantitative\n",
    "Y = \"price\"#quantitative\n",
    "transaction_final.plot.scatter(x = 'age', y = 'price', s = 100)\n",
    "plt.title(\"le chiffre d'affaire en fonction d'age\")"
   ]
  },
  {
   "cell_type": "markdown",
   "id": "2e421dab",
   "metadata": {},
   "source": [
    "Ici on voit que les jeunes dépensent plus que les personnes agées"
   ]
  },
  {
   "cell_type": "markdown",
   "id": "82b0fc9c",
   "metadata": {},
   "source": [
    "##### Test de kolmogorov-smirnov"
   ]
  },
  {
   "cell_type": "code",
   "execution_count": 76,
   "id": "b74b8237",
   "metadata": {},
   "outputs": [
    {
     "name": "stdout",
     "output_type": "stream",
     "text": [
      "0.0\n",
      "0.0\n"
     ]
    }
   ],
   "source": [
    "X = \"age\" # qualitative\n",
    "Y= \"price\" # quantitative\n",
    "from scipy.stats import kstest\n",
    "X=transaction_final[X]\n",
    "Y=transaction_final[Y]\n",
    "X, pval1 = kstest(X,'norm')\n",
    "\n",
    "Y, pval2 = kstest(Y,'norm')\n",
    "\n",
    "print(pval1)\n",
    "\n",
    "print(pval2)"
   ]
  },
  {
   "cell_type": "markdown",
   "id": "f067cf4c",
   "metadata": {},
   "source": [
    "Ici, la p-value est inférieur à 0.05 , donc on ne peut pas utilisé le test de Pearson mais de Spearman.\n",
    "\n",
    "Donc pour toutes les corrélations à faire avec l'âge se fera avec le test de Spearman car une seule variable qui ne suit pas la loi Normale suffit."
   ]
  },
  {
   "cell_type": "markdown",
   "id": "b224b32a",
   "metadata": {},
   "source": [
    "Le coefficient de corrélation de Spearman est le degré de dépendance entre 2 variables quantitatives"
   ]
  },
  {
   "cell_type": "code",
   "execution_count": 77,
   "id": "1dab23f8",
   "metadata": {
    "scrolled": true
   },
   "outputs": [
    {
     "data": {
      "text/plain": [
       "SpearmanrResult(correlation=0.054915338071853136, pvalue=0.0)"
      ]
     },
     "execution_count": 77,
     "metadata": {},
     "output_type": "execute_result"
    }
   ],
   "source": [
    "list1=transaction_final[\"age\"]\n",
    "list2=-transaction_final[\"price\"]\n",
    "st.spearmanr(list1, list2)"
   ]
  },
  {
   "cell_type": "markdown",
   "id": "39b22f4b",
   "metadata": {},
   "source": [
    "La p-value est inférieur à 0,05 donc il y'a une corrélation entre l'âge et le prix"
   ]
  },
  {
   "cell_type": "code",
   "execution_count": 78,
   "id": "00c1804e",
   "metadata": {},
   "outputs": [
    {
     "data": {
      "text/html": [
       "<div>\n",
       "<style scoped>\n",
       "    .dataframe tbody tr th:only-of-type {\n",
       "        vertical-align: middle;\n",
       "    }\n",
       "\n",
       "    .dataframe tbody tr th {\n",
       "        vertical-align: top;\n",
       "    }\n",
       "\n",
       "    .dataframe thead th {\n",
       "        text-align: right;\n",
       "    }\n",
       "</style>\n",
       "<table border=\"1\" class=\"dataframe\">\n",
       "  <thead>\n",
       "    <tr style=\"text-align: right;\">\n",
       "      <th></th>\n",
       "      <th>client_id</th>\n",
       "      <th>age</th>\n",
       "      <th>montant_achats_tot</th>\n",
       "    </tr>\n",
       "  </thead>\n",
       "  <tbody>\n",
       "    <tr>\n",
       "      <th>0</th>\n",
       "      <td>c_1</td>\n",
       "      <td>67</td>\n",
       "      <td>558</td>\n",
       "    </tr>\n",
       "    <tr>\n",
       "      <th>1</th>\n",
       "      <td>c_10</td>\n",
       "      <td>66</td>\n",
       "      <td>1354</td>\n",
       "    </tr>\n",
       "    <tr>\n",
       "      <th>2</th>\n",
       "      <td>c_100</td>\n",
       "      <td>30</td>\n",
       "      <td>255</td>\n",
       "    </tr>\n",
       "    <tr>\n",
       "      <th>3</th>\n",
       "      <td>c_1000</td>\n",
       "      <td>56</td>\n",
       "      <td>2262</td>\n",
       "    </tr>\n",
       "    <tr>\n",
       "      <th>4</th>\n",
       "      <td>c_1001</td>\n",
       "      <td>40</td>\n",
       "      <td>1813</td>\n",
       "    </tr>\n",
       "  </tbody>\n",
       "</table>\n",
       "</div>"
      ],
      "text/plain": [
       "  client_id  age  montant_achats_tot\n",
       "0       c_1   67                 558\n",
       "1      c_10   66                1354\n",
       "2     c_100   30                 255\n",
       "3    c_1000   56                2262\n",
       "4    c_1001   40                1813"
      ]
     },
     "execution_count": 78,
     "metadata": {},
     "output_type": "execute_result"
    }
   ],
   "source": [
    "age_montant = transaction_final.groupby(['client_id','age'])['price'].sum().reset_index(name=\"montant_achats_tot\")\n",
    "age_montant.head()"
   ]
  },
  {
   "cell_type": "code",
   "execution_count": 79,
   "id": "a89170dc",
   "metadata": {
    "scrolled": false
   },
   "outputs": [
    {
     "data": {
      "text/plain": [
       "Text(0.5, 1.0, \"montant total des achats en fonction de l'age\")"
      ]
     },
     "execution_count": 79,
     "metadata": {},
     "output_type": "execute_result"
    },
    {
     "data": {
      "image/png": "[encoded data removed]",
      "text/plain": [
       "<Figure size 432x288 with 1 Axes>"
      ]
     },
     "metadata": {
      "needs_background": "light"
     },
     "output_type": "display_data"
    }
   ],
   "source": [
    "x=\"age\"  #quantitatives\n",
    "y=\"montant_achats_tot\" #quantitatives\n",
    "age_montant.plot.scatter(x = 'age', y = \"montant_achats_tot\",edgecolor='red', s = 100)\n",
    "plt.title(\"montant total des achats en fonction de l'age\")"
   ]
  },
  {
   "cell_type": "markdown",
   "id": "8d763aeb",
   "metadata": {},
   "source": [
    "Hors-mis les 4 clients qui ont fait des grands achats, le montant total d'achats est stable pour l'age"
   ]
  },
  {
   "cell_type": "markdown",
   "id": "c0e2a49e",
   "metadata": {},
   "source": [
    "Comme l'âge ne suit pas la loi Normale, on utilise le test de Spearman"
   ]
  },
  {
   "cell_type": "code",
   "execution_count": 80,
   "id": "8212c92e",
   "metadata": {
    "scrolled": true
   },
   "outputs": [
    {
     "data": {
      "text/plain": [
       "SpearmanrResult(correlation=-0.18497826030250145, pvalue=4.6077756608265514e-67)"
      ]
     },
     "execution_count": 80,
     "metadata": {},
     "output_type": "execute_result"
    }
   ],
   "source": [
    "list1=age_montant[\"montant_achats_tot\"]\n",
    "list2=age_montant[\"age\"]\n",
    "st.spearmanr(list1, list2) "
   ]
  },
  {
   "cell_type": "markdown",
   "id": "04d3bdcc",
   "metadata": {},
   "source": [
    "La p-value est inférieur à 0,05 donc il y'a une corrélation entre les deux variables"
   ]
  },
  {
   "cell_type": "markdown",
   "id": "eb3f0811",
   "metadata": {},
   "source": [
    "### Âge des clients et montant moyen du panier"
   ]
  },
  {
   "cell_type": "code",
   "execution_count": 81,
   "id": "1cdab0ec",
   "metadata": {
    "scrolled": false
   },
   "outputs": [
    {
     "data": {
      "text/html": [
       "<div>\n",
       "<style scoped>\n",
       "    .dataframe tbody tr th:only-of-type {\n",
       "        vertical-align: middle;\n",
       "    }\n",
       "\n",
       "    .dataframe tbody tr th {\n",
       "        vertical-align: top;\n",
       "    }\n",
       "\n",
       "    .dataframe thead th {\n",
       "        text-align: right;\n",
       "    }\n",
       "</style>\n",
       "<table border=\"1\" class=\"dataframe\">\n",
       "  <thead>\n",
       "    <tr style=\"text-align: right;\">\n",
       "      <th></th>\n",
       "      <th>client_id</th>\n",
       "      <th>age</th>\n",
       "      <th>panier_moyen</th>\n",
       "    </tr>\n",
       "  </thead>\n",
       "  <tbody>\n",
       "    <tr>\n",
       "      <th>0</th>\n",
       "      <td>c_1</td>\n",
       "      <td>67</td>\n",
       "      <td>14</td>\n",
       "    </tr>\n",
       "    <tr>\n",
       "      <th>1</th>\n",
       "      <td>c_10</td>\n",
       "      <td>66</td>\n",
       "      <td>23</td>\n",
       "    </tr>\n",
       "    <tr>\n",
       "      <th>2</th>\n",
       "      <td>c_100</td>\n",
       "      <td>30</td>\n",
       "      <td>32</td>\n",
       "    </tr>\n",
       "    <tr>\n",
       "      <th>3</th>\n",
       "      <td>c_1000</td>\n",
       "      <td>56</td>\n",
       "      <td>18</td>\n",
       "    </tr>\n",
       "    <tr>\n",
       "      <th>4</th>\n",
       "      <td>c_1001</td>\n",
       "      <td>40</td>\n",
       "      <td>18</td>\n",
       "    </tr>\n",
       "  </tbody>\n",
       "</table>\n",
       "</div>"
      ],
      "text/plain": [
       "  client_id  age  panier_moyen\n",
       "0       c_1   67            14\n",
       "1      c_10   66            23\n",
       "2     c_100   30            32\n",
       "3    c_1000   56            18\n",
       "4    c_1001   40            18"
      ]
     },
     "execution_count": 81,
     "metadata": {},
     "output_type": "execute_result"
    }
   ],
   "source": [
    "age_pan = transaction_final.groupby(['client_id','age'])['price'].mean().reset_index(name=\"panier_moyen\")\n",
    "age_pan.head()"
   ]
  },
  {
   "cell_type": "code",
   "execution_count": 82,
   "id": "11e998ab",
   "metadata": {},
   "outputs": [
    {
     "data": {
      "text/plain": [
       "Text(0.5, 1.0, \"l'age en fonction du panier moyen\")"
      ]
     },
     "execution_count": 82,
     "metadata": {},
     "output_type": "execute_result"
    },
    {
     "data": {
      "image/png": "[encoded data removed]",
      "text/plain": [
       "<Figure size 432x288 with 1 Axes>"
      ]
     },
     "metadata": {
      "needs_background": "light"
     },
     "output_type": "display_data"
    }
   ],
   "source": [
    "x=\"age\"  #quantitatives\n",
    "y=\"panier_moyen\" #quantitatives\n",
    "\n",
    "age_pan.plot.scatter(x = 'age', y= \"panier_moyen\" , s = 100)\n",
    "plt.title(\"l'age en fonction du panier moyen\")"
   ]
  },
  {
   "cell_type": "markdown",
   "id": "5f3154d1",
   "metadata": {},
   "source": [
    "Ici, sur ce nuage de points, on peut voir que le panier moyen entre 18 et 30 est élevé (jusqu'à 125 en moyenne) et de 30 à 90 ans le panier moyen est aux alentours de 30 "
   ]
  },
  {
   "cell_type": "code",
   "execution_count": 83,
   "id": "9b302790",
   "metadata": {
    "scrolled": true
   },
   "outputs": [
    {
     "data": {
      "text/plain": [
       "SpearmanrResult(correlation=-0.32613573988642663, pvalue=2.8805728389199945e-212)"
      ]
     },
     "execution_count": 83,
     "metadata": {},
     "output_type": "execute_result"
    }
   ],
   "source": [
    "from scipy.stats import pearsonr \n",
    "list1=age_pan[\"panier_moyen\"]\n",
    "list2=age_pan[\"age\"]\n",
    "st.spearmanr(list1, list2) "
   ]
  },
  {
   "cell_type": "markdown",
   "id": "ec8d8a43",
   "metadata": {},
   "source": [
    "La p-value est inférieur à 0,05 donc il y'a une corrélation entre les deux variables"
   ]
  },
  {
   "cell_type": "markdown",
   "id": "e5d94405",
   "metadata": {},
   "source": [
    "### Âge des clients et fréquence d'achat"
   ]
  },
  {
   "cell_type": "code",
   "execution_count": 84,
   "id": "52ec2213",
   "metadata": {
    "scrolled": true
   },
   "outputs": [
    {
     "data": {
      "text/html": [
       "<div>\n",
       "<style scoped>\n",
       "    .dataframe tbody tr th:only-of-type {\n",
       "        vertical-align: middle;\n",
       "    }\n",
       "\n",
       "    .dataframe tbody tr th {\n",
       "        vertical-align: top;\n",
       "    }\n",
       "\n",
       "    .dataframe thead th {\n",
       "        text-align: right;\n",
       "    }\n",
       "</style>\n",
       "<table border=\"1\" class=\"dataframe\">\n",
       "  <thead>\n",
       "    <tr style=\"text-align: right;\">\n",
       "      <th></th>\n",
       "      <th>age</th>\n",
       "      <th>fréquence</th>\n",
       "    </tr>\n",
       "  </thead>\n",
       "  <tbody>\n",
       "    <tr>\n",
       "      <th>0</th>\n",
       "      <td>18</td>\n",
       "      <td>15149</td>\n",
       "    </tr>\n",
       "    <tr>\n",
       "      <th>1</th>\n",
       "      <td>19</td>\n",
       "      <td>4371</td>\n",
       "    </tr>\n",
       "    <tr>\n",
       "      <th>2</th>\n",
       "      <td>20</td>\n",
       "      <td>4584</td>\n",
       "    </tr>\n",
       "    <tr>\n",
       "      <th>3</th>\n",
       "      <td>21</td>\n",
       "      <td>4252</td>\n",
       "    </tr>\n",
       "    <tr>\n",
       "      <th>4</th>\n",
       "      <td>22</td>\n",
       "      <td>4413</td>\n",
       "    </tr>\n",
       "  </tbody>\n",
       "</table>\n",
       "</div>"
      ],
      "text/plain": [
       "   age  fréquence\n",
       "0   18      15149\n",
       "1   19       4371\n",
       "2   20       4584\n",
       "3   21       4252\n",
       "4   22       4413"
      ]
     },
     "execution_count": 84,
     "metadata": {},
     "output_type": "execute_result"
    }
   ],
   "source": [
    "age_freq=transaction_final[\"client_id\"].groupby(transaction_final[\"age\"]).count().reset_index(name=\"fréquence\")\n",
    "age_freq.head()"
   ]
  },
  {
   "cell_type": "code",
   "execution_count": 85,
   "id": "b47f0978",
   "metadata": {},
   "outputs": [
    {
     "data": {
      "text/plain": [
       "Text(0.5, 1.0, \"fréquence d'achat en fonction d'age\")"
      ]
     },
     "execution_count": 85,
     "metadata": {},
     "output_type": "execute_result"
    },
    {
     "data": {
      "image/png": "[encoded data removed]",
      "text/plain": [
       "<Figure size 432x288 with 1 Axes>"
      ]
     },
     "metadata": {
      "needs_background": "light"
     },
     "output_type": "display_data"
    }
   ],
   "source": [
    "age_freq.plot.scatter(x = 'age', y = \"fréquence\",edgecolor='red', s = 100)\n",
    "plt.title(\"fréquence d'achat en fonction d'age\")"
   ]
  },
  {
   "cell_type": "markdown",
   "id": "ec39d0f8",
   "metadata": {},
   "source": [
    "On peut voir ici que la fréquence d'achat est élevé entre 30 et 50 ans "
   ]
  },
  {
   "cell_type": "code",
   "execution_count": 86,
   "id": "95956f90",
   "metadata": {
    "scrolled": true
   },
   "outputs": [
    {
     "data": {
      "text/plain": [
       "SpearmanrResult(correlation=-0.6845979808634354, pvalue=9.17297066447968e-12)"
      ]
     },
     "execution_count": 86,
     "metadata": {},
     "output_type": "execute_result"
    }
   ],
   "source": [
    "from scipy.stats import pearsonr \n",
    "list1=age_freq[\"fréquence\"]\n",
    "list2=age_freq[\"age\"]\n",
    "st.spearmanr(list1, list2) "
   ]
  },
  {
   "cell_type": "markdown",
   "id": "01fba15b",
   "metadata": {},
   "source": [
    "La p-value est inférieur à 0,05 donc il y'a une corrélation entre les deux variables"
   ]
  },
  {
   "cell_type": "markdown",
   "id": "8c5cfe0c",
   "metadata": {},
   "source": [
    "### Âge et catégorie"
   ]
  },
  {
   "cell_type": "code",
   "execution_count": 87,
   "id": "be4ebca3",
   "metadata": {},
   "outputs": [
    {
     "data": {
      "image/png": "[encoded data removed]",
      "text/plain": [
       "<Figure size 432x288 with 1 Axes>"
      ]
     },
     "metadata": {
      "needs_background": "light"
     },
     "output_type": "display_data"
    }
   ],
   "source": [
    "X2 = \"categ\" # qualitative\n",
    "Y2= \"age\" # quantitative\n",
    "\n",
    "modalites = transaction_final[X2].unique()\n",
    "groupes = []\n",
    "for m in modalites:\n",
    "    groupes.append(transaction_final[transaction_final[X2]==m][Y2])\n",
    "\n",
    "medianprops = {'color':\"black\"}\n",
    "meanprops = {'marker':'o', 'markeredgecolor':'black',\n",
    "            'markerfacecolor':'firebrick'}\n",
    "    \n",
    "plt.boxplot(groupes,labels=modalites, showfliers=False, medianprops=medianprops, \n",
    "            vert=False, patch_artist=True, showmeans=True, meanprops=meanprops)\n",
    "plt.title(\"Âge des clients et catégorie de produits achetés\")\n",
    "plt.show()\n",
    "\n",
    "\n"
   ]
  },
  {
   "cell_type": "markdown",
   "id": "a206fc8f",
   "metadata": {},
   "source": [
    "Sur ce boxplot on voit que la catégorie 1 est plutôt dispersé entre les âges(jeunes ou agés). Cependant en ce qui concerne la catégorie 2 on voit qu'il y'a davantage de jeunes qui achètent sur cette même catégorie"
   ]
  },
  {
   "cell_type": "markdown",
   "id": "24d09a8a",
   "metadata": {},
   "source": [
    "#### Le rapport de corrélation "
   ]
  },
  {
   "cell_type": "markdown",
   "id": "6c2b8b58",
   "metadata": {},
   "source": [
    "Comme l'âge ne suit pas la loi Normale, on va utilisé le test de kruskall-wallis"
   ]
  },
  {
   "cell_type": "code",
   "execution_count": 88,
   "id": "df4e2a9b",
   "metadata": {},
   "outputs": [
    {
     "data": {
      "text/plain": [
       "KruskalResult(statistic=1053898.035431653, pvalue=0.0)"
      ]
     },
     "execution_count": 88,
     "metadata": {},
     "output_type": "execute_result"
    }
   ],
   "source": [
    "list1=transaction_final[\"age\"]\n",
    "list2=transaction_final[\"categ\"]\n",
    "st.kruskal(list1, list2) "
   ]
  },
  {
   "cell_type": "markdown",
   "id": "80985946",
   "metadata": {},
   "source": [
    "La p-value est inférieur à 0,05 donc il y'a une corrélation entre les deux variables "
   ]
  }
 ],
 "metadata": {
  "kernelspec": {
   "display_name": "Python 3",
   "language": "python",
   "name": "python3"
  },
  "language_info": {
   "codemirror_mode": {
    "name": "ipython",
    "version": 3
   },
   "file_extension": ".py",
   "mimetype": "text/x-python",
   "name": "python",
   "nbconvert_exporter": "python",
   "pygments_lexer": "ipython3",
   "version": "3.8.8"
  }
 },
 "nbformat": 4,
 "nbformat_minor": 5
}
