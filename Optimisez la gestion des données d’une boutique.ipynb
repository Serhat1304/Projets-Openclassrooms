{
 "cells": [
  {
   "cell_type": "markdown",
   "id": "35e10790",
   "metadata": {},
   "source": [
    "### Import des librairies"
   ]
  },
  {
   "cell_type": "code",
   "execution_count": 1,
   "id": "1d6381aa",
   "metadata": {},
   "outputs": [],
   "source": [
    "import numpy as np\n",
    "import pandas as pd\n",
    "import matplotlib.pyplot as plt"
   ]
  },
  {
   "cell_type": "markdown",
   "id": "afc2096a",
   "metadata": {},
   "source": [
    "### Import de données "
   ]
  },
  {
   "cell_type": "code",
   "execution_count": 2,
   "id": "d77c19e8",
   "metadata": {
    "scrolled": false
   },
   "outputs": [
    {
     "data": {
      "text/html": [
       "<div>\n",
       "<style scoped>\n",
       "    .dataframe tbody tr th:only-of-type {\n",
       "        vertical-align: middle;\n",
       "    }\n",
       "\n",
       "    .dataframe tbody tr th {\n",
       "        vertical-align: top;\n",
       "    }\n",
       "\n",
       "    .dataframe thead th {\n",
       "        text-align: right;\n",
       "    }\n",
       "</style>\n",
       "<table border=\"1\" class=\"dataframe\">\n",
       "  <thead>\n",
       "    <tr style=\"text-align: right;\">\n",
       "      <th></th>\n",
       "      <th>product_id</th>\n",
       "      <th>onsale_web</th>\n",
       "      <th>price</th>\n",
       "      <th>stock_quantity</th>\n",
       "      <th>stock_status</th>\n",
       "    </tr>\n",
       "  </thead>\n",
       "  <tbody>\n",
       "    <tr>\n",
       "      <th>0</th>\n",
       "      <td>3847</td>\n",
       "      <td>1</td>\n",
       "      <td>24.2</td>\n",
       "      <td>0</td>\n",
       "      <td>outofstock</td>\n",
       "    </tr>\n",
       "    <tr>\n",
       "      <th>1</th>\n",
       "      <td>3849</td>\n",
       "      <td>1</td>\n",
       "      <td>34.3</td>\n",
       "      <td>0</td>\n",
       "      <td>outofstock</td>\n",
       "    </tr>\n",
       "    <tr>\n",
       "      <th>2</th>\n",
       "      <td>3850</td>\n",
       "      <td>1</td>\n",
       "      <td>20.8</td>\n",
       "      <td>0</td>\n",
       "      <td>outofstock</td>\n",
       "    </tr>\n",
       "    <tr>\n",
       "      <th>3</th>\n",
       "      <td>4032</td>\n",
       "      <td>1</td>\n",
       "      <td>14.1</td>\n",
       "      <td>0</td>\n",
       "      <td>outofstock</td>\n",
       "    </tr>\n",
       "    <tr>\n",
       "      <th>4</th>\n",
       "      <td>4039</td>\n",
       "      <td>1</td>\n",
       "      <td>46.0</td>\n",
       "      <td>0</td>\n",
       "      <td>outofstock</td>\n",
       "    </tr>\n",
       "  </tbody>\n",
       "</table>\n",
       "</div>"
      ],
      "text/plain": [
       "   product_id  onsale_web  price  stock_quantity stock_status\n",
       "0        3847           1   24.2               0   outofstock\n",
       "1        3849           1   34.3               0   outofstock\n",
       "2        3850           1   20.8               0   outofstock\n",
       "3        4032           1   14.1               0   outofstock\n",
       "4        4039           1   46.0               0   outofstock"
      ]
     },
     "execution_count": 2,
     "metadata": {},
     "output_type": "execute_result"
    }
   ],
   "source": [
    "#Import de la table erp\n",
    "erp=pd.read_csv(r'C:\\Users\\serha\\Desktop\\Formation Data Analyste\\P5_Kus_Serhat V\\erp.csv',sep=\";\")\n",
    "erp.head()"
   ]
  },
  {
   "cell_type": "markdown",
   "id": "3a404d33",
   "metadata": {},
   "source": [
    "Définition d'une fonction \"testcle\" pour permettre de vérifier si une clé peut être utilisé comme clé primaire"
   ]
  },
  {
   "cell_type": "code",
   "execution_count": 3,
   "id": "85d8e51c",
   "metadata": {},
   "outputs": [],
   "source": [
    "def testcle(df, colonnes):\n",
    "    \"\"\"Fonction qui prend en arguments un dataframe et les colonnes qui composent la clé primaire à tester.\"\"\"\n",
    "\n",
    "    # On compare la taille du dataframe avant et après dédoublonnage\n",
    "    if df.size == df.drop_duplicates(colonnes).size :\n",
    "        print(\"La clé n'est pas présente plusieurs fois dans le dataframe, et peut donc être utiliser comme clé primaire\")\n",
    "    else :\n",
    "        print(\"La clé est présente plusieurs fois dans le dataframe, et ne peut donc pas être utiliser comme clé primaire\")\n",
    "    \n",
    "    # On renvoie également le comptage\n",
    "    print(\"Le dataframe est de la forme : \" + str(df.shape) + \" (lignes, colonnes)\")"
   ]
  },
  {
   "cell_type": "code",
   "execution_count": 4,
   "id": "6abf5092",
   "metadata": {
    "scrolled": false
   },
   "outputs": [
    {
     "name": "stdout",
     "output_type": "stream",
     "text": [
      "La clé n'est pas présente plusieurs fois dans le dataframe, et peut donc être utiliser comme clé primaire\n",
      "Le dataframe est de la forme : (825, 5) (lignes, colonnes)\n"
     ]
    }
   ],
   "source": [
    "testcle(erp, \"product_id\")"
   ]
  },
  {
   "cell_type": "markdown",
   "id": "c9f8e253",
   "metadata": {},
   "source": [
    "On vérifie maintenant si il y'a des nulls dans la dataframe erp"
   ]
  },
  {
   "cell_type": "code",
   "execution_count": 5,
   "id": "89c04403",
   "metadata": {
    "scrolled": true
   },
   "outputs": [
    {
     "name": "stdout",
     "output_type": "stream",
     "text": [
      "product_id        0\n",
      "onsale_web        0\n",
      "price             0\n",
      "stock_quantity    0\n",
      "stock_status      0\n",
      "dtype: int64\n"
     ]
    }
   ],
   "source": [
    "#voir si il y a des valeurs manquantes\n",
    "print(erp.isnull().sum())"
   ]
  },
  {
   "cell_type": "code",
   "execution_count": 6,
   "id": "3208c06e",
   "metadata": {},
   "outputs": [
    {
     "data": {
      "text/html": [
       "<div>\n",
       "<style scoped>\n",
       "    .dataframe tbody tr th:only-of-type {\n",
       "        vertical-align: middle;\n",
       "    }\n",
       "\n",
       "    .dataframe tbody tr th {\n",
       "        vertical-align: top;\n",
       "    }\n",
       "\n",
       "    .dataframe thead th {\n",
       "        text-align: right;\n",
       "    }\n",
       "</style>\n",
       "<table border=\"1\" class=\"dataframe\">\n",
       "  <thead>\n",
       "    <tr style=\"text-align: right;\">\n",
       "      <th></th>\n",
       "      <th>product_id</th>\n",
       "      <th>id_web</th>\n",
       "    </tr>\n",
       "  </thead>\n",
       "  <tbody>\n",
       "    <tr>\n",
       "      <th>0</th>\n",
       "      <td>3847</td>\n",
       "      <td>15298</td>\n",
       "    </tr>\n",
       "    <tr>\n",
       "      <th>1</th>\n",
       "      <td>3849</td>\n",
       "      <td>15296</td>\n",
       "    </tr>\n",
       "    <tr>\n",
       "      <th>2</th>\n",
       "      <td>3850</td>\n",
       "      <td>15300</td>\n",
       "    </tr>\n",
       "    <tr>\n",
       "      <th>3</th>\n",
       "      <td>4032</td>\n",
       "      <td>19814</td>\n",
       "    </tr>\n",
       "    <tr>\n",
       "      <th>4</th>\n",
       "      <td>4039</td>\n",
       "      <td>19815</td>\n",
       "    </tr>\n",
       "  </tbody>\n",
       "</table>\n",
       "</div>"
      ],
      "text/plain": [
       "   product_id id_web\n",
       "0        3847  15298\n",
       "1        3849  15296\n",
       "2        3850  15300\n",
       "3        4032  19814\n",
       "4        4039  19815"
      ]
     },
     "execution_count": 6,
     "metadata": {},
     "output_type": "execute_result"
    }
   ],
   "source": [
    "#Import de la table liaison\n",
    "liaison=pd.read_csv(r'C:\\Users\\serha\\Desktop\\Formation Data Analyste\\P5_Kus_Serhat V\\liaison.csv',sep=\";\")\n",
    "liaison.head()"
   ]
  },
  {
   "cell_type": "markdown",
   "id": "d99a3f1b",
   "metadata": {},
   "source": [
    "On veut vérifier ici si il y'a des doublons et des Nan pour vérifier l'unicité de la colonne"
   ]
  },
  {
   "cell_type": "code",
   "execution_count": 7,
   "id": "71bf53a7",
   "metadata": {},
   "outputs": [
    {
     "name": "stdout",
     "output_type": "stream",
     "text": [
      "La clé n'est pas présente plusieurs fois dans le dataframe, et peut donc être utiliser comme clé primaire\n",
      "Le dataframe est de la forme : (825, 2) (lignes, colonnes)\n"
     ]
    }
   ],
   "source": [
    "testcle(liaison, 'product_id')"
   ]
  },
  {
   "cell_type": "code",
   "execution_count": 8,
   "id": "69c36e12",
   "metadata": {
    "scrolled": true
   },
   "outputs": [
    {
     "name": "stdout",
     "output_type": "stream",
     "text": [
      "La clé est présente plusieurs fois dans le dataframe, et ne peut donc pas être utiliser comme clé primaire\n",
      "Le dataframe est de la forme : (825, 2) (lignes, colonnes)\n"
     ]
    }
   ],
   "source": [
    "testcle(liaison,'id_web')"
   ]
  },
  {
   "cell_type": "code",
   "execution_count": 9,
   "id": "7d5bd06c",
   "metadata": {
    "scrolled": true
   },
   "outputs": [
    {
     "name": "stdout",
     "output_type": "stream",
     "text": [
      "product_id     0\n",
      "id_web        91\n",
      "dtype: int64\n"
     ]
    }
   ],
   "source": [
    "#Valeurs manquantes (Nan)\n",
    "print(liaison.isnull().sum())"
   ]
  },
  {
   "cell_type": "code",
   "execution_count": 10,
   "id": "a094298f",
   "metadata": {
    "scrolled": true
   },
   "outputs": [
    {
     "data": {
      "text/html": [
       "<div>\n",
       "<style scoped>\n",
       "    .dataframe tbody tr th:only-of-type {\n",
       "        vertical-align: middle;\n",
       "    }\n",
       "\n",
       "    .dataframe tbody tr th {\n",
       "        vertical-align: top;\n",
       "    }\n",
       "\n",
       "    .dataframe thead th {\n",
       "        text-align: right;\n",
       "    }\n",
       "</style>\n",
       "<table border=\"1\" class=\"dataframe\">\n",
       "  <thead>\n",
       "    <tr style=\"text-align: right;\">\n",
       "      <th></th>\n",
       "      <th>sku</th>\n",
       "      <th>virtual</th>\n",
       "      <th>downloadable</th>\n",
       "      <th>rating_count</th>\n",
       "      <th>average_rating</th>\n",
       "      <th>total_sales</th>\n",
       "      <th>tax_status</th>\n",
       "      <th>tax_class</th>\n",
       "      <th>post_author</th>\n",
       "      <th>post_date</th>\n",
       "      <th>...</th>\n",
       "      <th>post_name</th>\n",
       "      <th>post_modified</th>\n",
       "      <th>post_modified_gmt</th>\n",
       "      <th>post_content_filtered</th>\n",
       "      <th>post_parent</th>\n",
       "      <th>guid</th>\n",
       "      <th>menu_order</th>\n",
       "      <th>post_type</th>\n",
       "      <th>post_mime_type</th>\n",
       "      <th>comment_count</th>\n",
       "    </tr>\n",
       "  </thead>\n",
       "  <tbody>\n",
       "    <tr>\n",
       "      <th>0</th>\n",
       "      <td>bon-cadeau-25-euros</td>\n",
       "      <td>0</td>\n",
       "      <td>0</td>\n",
       "      <td>0</td>\n",
       "      <td>0.0</td>\n",
       "      <td>10.0</td>\n",
       "      <td>taxable</td>\n",
       "      <td>NaN</td>\n",
       "      <td>1.0</td>\n",
       "      <td>2018-06-01 13:53:46</td>\n",
       "      <td>...</td>\n",
       "      <td>bon-cadeau-de-25-euros</td>\n",
       "      <td>2018-06-01 14:13:57</td>\n",
       "      <td>2018-06-01 12:13:57</td>\n",
       "      <td>NaN</td>\n",
       "      <td>0.0</td>\n",
       "      <td>https://www.bottle-neck.fr/?post_type=product&amp;...</td>\n",
       "      <td>0.0</td>\n",
       "      <td>product</td>\n",
       "      <td>NaN</td>\n",
       "      <td>0.0</td>\n",
       "    </tr>\n",
       "    <tr>\n",
       "      <th>1</th>\n",
       "      <td>15298</td>\n",
       "      <td>0</td>\n",
       "      <td>0</td>\n",
       "      <td>0</td>\n",
       "      <td>0.0</td>\n",
       "      <td>6.0</td>\n",
       "      <td>taxable</td>\n",
       "      <td>NaN</td>\n",
       "      <td>2.0</td>\n",
       "      <td>2018-02-08 12:58:52</td>\n",
       "      <td>...</td>\n",
       "      <td>pierre-jean-villa-saint-joseph-preface-2018</td>\n",
       "      <td>2019-12-30 09:30:29</td>\n",
       "      <td>2019-12-30 08:30:29</td>\n",
       "      <td>NaN</td>\n",
       "      <td>0.0</td>\n",
       "      <td>https://www.bottle-neck.fr/?post_type=product&amp;...</td>\n",
       "      <td>0.0</td>\n",
       "      <td>product</td>\n",
       "      <td>NaN</td>\n",
       "      <td>0.0</td>\n",
       "    </tr>\n",
       "    <tr>\n",
       "      <th>2</th>\n",
       "      <td>15296</td>\n",
       "      <td>0</td>\n",
       "      <td>0</td>\n",
       "      <td>0</td>\n",
       "      <td>0.0</td>\n",
       "      <td>0.0</td>\n",
       "      <td>taxable</td>\n",
       "      <td>NaN</td>\n",
       "      <td>2.0</td>\n",
       "      <td>2018-02-08 13:49:41</td>\n",
       "      <td>...</td>\n",
       "      <td>pierre-jean-villa-saint-joseph-tilde-2017</td>\n",
       "      <td>2019-12-21 09:00:17</td>\n",
       "      <td>2019-12-21 08:00:17</td>\n",
       "      <td>NaN</td>\n",
       "      <td>0.0</td>\n",
       "      <td>https://www.bottle-neck.fr/?post_type=product&amp;...</td>\n",
       "      <td>0.0</td>\n",
       "      <td>product</td>\n",
       "      <td>NaN</td>\n",
       "      <td>0.0</td>\n",
       "    </tr>\n",
       "    <tr>\n",
       "      <th>3</th>\n",
       "      <td>15300</td>\n",
       "      <td>0</td>\n",
       "      <td>0</td>\n",
       "      <td>0</td>\n",
       "      <td>0.0</td>\n",
       "      <td>0.0</td>\n",
       "      <td>taxable</td>\n",
       "      <td>NaN</td>\n",
       "      <td>2.0</td>\n",
       "      <td>2018-02-08 14:08:36</td>\n",
       "      <td>...</td>\n",
       "      <td>pierre-jean-villa-croze-hermitage-accroche-coe...</td>\n",
       "      <td>2020-06-26 18:15:03</td>\n",
       "      <td>2020-06-26 16:15:03</td>\n",
       "      <td>NaN</td>\n",
       "      <td>0.0</td>\n",
       "      <td>https://www.bottle-neck.fr/?post_type=product&amp;...</td>\n",
       "      <td>0.0</td>\n",
       "      <td>product</td>\n",
       "      <td>NaN</td>\n",
       "      <td>0.0</td>\n",
       "    </tr>\n",
       "    <tr>\n",
       "      <th>4</th>\n",
       "      <td>19814</td>\n",
       "      <td>0</td>\n",
       "      <td>0</td>\n",
       "      <td>0</td>\n",
       "      <td>0.0</td>\n",
       "      <td>3.0</td>\n",
       "      <td>taxable</td>\n",
       "      <td>NaN</td>\n",
       "      <td>2.0</td>\n",
       "      <td>2018-02-09 14:01:05</td>\n",
       "      <td>...</td>\n",
       "      <td>pierre-jean-villa-igp-gamine-2018</td>\n",
       "      <td>2020-01-04 16:36:01</td>\n",
       "      <td>2020-01-04 15:36:01</td>\n",
       "      <td>NaN</td>\n",
       "      <td>0.0</td>\n",
       "      <td>https://www.bottle-neck.fr/?post_type=product&amp;...</td>\n",
       "      <td>0.0</td>\n",
       "      <td>product</td>\n",
       "      <td>NaN</td>\n",
       "      <td>0.0</td>\n",
       "    </tr>\n",
       "  </tbody>\n",
       "</table>\n",
       "<p>5 rows × 28 columns</p>\n",
       "</div>"
      ],
      "text/plain": [
       "                   sku  virtual  downloadable  rating_count  average_rating  \\\n",
       "0  bon-cadeau-25-euros        0             0             0             0.0   \n",
       "1                15298        0             0             0             0.0   \n",
       "2                15296        0             0             0             0.0   \n",
       "3                15300        0             0             0             0.0   \n",
       "4                19814        0             0             0             0.0   \n",
       "\n",
       "   total_sales tax_status  tax_class  post_author            post_date  ...  \\\n",
       "0         10.0    taxable        NaN          1.0  2018-06-01 13:53:46  ...   \n",
       "1          6.0    taxable        NaN          2.0  2018-02-08 12:58:52  ...   \n",
       "2          0.0    taxable        NaN          2.0  2018-02-08 13:49:41  ...   \n",
       "3          0.0    taxable        NaN          2.0  2018-02-08 14:08:36  ...   \n",
       "4          3.0    taxable        NaN          2.0  2018-02-09 14:01:05  ...   \n",
       "\n",
       "                                           post_name        post_modified  \\\n",
       "0                             bon-cadeau-de-25-euros  2018-06-01 14:13:57   \n",
       "1        pierre-jean-villa-saint-joseph-preface-2018  2019-12-30 09:30:29   \n",
       "2          pierre-jean-villa-saint-joseph-tilde-2017  2019-12-21 09:00:17   \n",
       "3  pierre-jean-villa-croze-hermitage-accroche-coe...  2020-06-26 18:15:03   \n",
       "4                  pierre-jean-villa-igp-gamine-2018  2020-01-04 16:36:01   \n",
       "\n",
       "     post_modified_gmt post_content_filtered post_parent  \\\n",
       "0  2018-06-01 12:13:57                   NaN         0.0   \n",
       "1  2019-12-30 08:30:29                   NaN         0.0   \n",
       "2  2019-12-21 08:00:17                   NaN         0.0   \n",
       "3  2020-06-26 16:15:03                   NaN         0.0   \n",
       "4  2020-01-04 15:36:01                   NaN         0.0   \n",
       "\n",
       "                                                guid menu_order  post_type  \\\n",
       "0  https://www.bottle-neck.fr/?post_type=product&...        0.0    product   \n",
       "1  https://www.bottle-neck.fr/?post_type=product&...        0.0    product   \n",
       "2  https://www.bottle-neck.fr/?post_type=product&...        0.0    product   \n",
       "3  https://www.bottle-neck.fr/?post_type=product&...        0.0    product   \n",
       "4  https://www.bottle-neck.fr/?post_type=product&...        0.0    product   \n",
       "\n",
       "  post_mime_type comment_count  \n",
       "0            NaN           0.0  \n",
       "1            NaN           0.0  \n",
       "2            NaN           0.0  \n",
       "3            NaN           0.0  \n",
       "4            NaN           0.0  \n",
       "\n",
       "[5 rows x 28 columns]"
      ]
     },
     "execution_count": 10,
     "metadata": {},
     "output_type": "execute_result"
    }
   ],
   "source": [
    "#Import de la table web\n",
    "web=pd.read_csv(r'C:\\Users\\serha\\Desktop\\Formation Data Analyste\\P5_Kus_Serhat V\\web.csv',sep=\";\")\n",
    "web.head()"
   ]
  },
  {
   "cell_type": "markdown",
   "id": "98d2e899",
   "metadata": {},
   "source": [
    "Ici je renomme la colonne 'sku' en 'id_web' car ce sont en fait la même colonne comme le dit Sylvie"
   ]
  },
  {
   "cell_type": "code",
   "execution_count": 11,
   "id": "991924ab",
   "metadata": {},
   "outputs": [],
   "source": [
    "web.rename(columns={'sku':'id_web'}, inplace=True)"
   ]
  },
  {
   "cell_type": "code",
   "execution_count": 12,
   "id": "c29551f6",
   "metadata": {},
   "outputs": [
    {
     "name": "stdout",
     "output_type": "stream",
     "text": [
      "La clé est présente plusieurs fois dans le dataframe, et ne peut donc pas être utiliser comme clé primaire\n",
      "Le dataframe est de la forme : (1513, 28) (lignes, colonnes)\n"
     ]
    }
   ],
   "source": [
    "testcle(web,'id_web')"
   ]
  },
  {
   "cell_type": "markdown",
   "id": "aff92ed0",
   "metadata": {},
   "source": [
    "On a détécté que id_web n'est pas primaire donc c'est peut-être lié aux nulls, on va étudier les nulls dans cette colonne.\n",
    "\n",
    "On a trouvé 85 valeurs manquantes dans id_web"
   ]
  },
  {
   "cell_type": "code",
   "execution_count": 13,
   "id": "1ba423bf",
   "metadata": {
    "scrolled": true
   },
   "outputs": [
    {
     "name": "stdout",
     "output_type": "stream",
     "text": [
      "<class 'pandas.core.frame.DataFrame'>\n",
      "Int64Index: 85 entries, 178 to 796\n",
      "Data columns (total 28 columns):\n",
      " #   Column                 Non-Null Count  Dtype  \n",
      "---  ------                 --------------  -----  \n",
      " 0   id_web                 0 non-null      object \n",
      " 1   virtual                85 non-null     int64  \n",
      " 2   downloadable           85 non-null     int64  \n",
      " 3   rating_count           85 non-null     int64  \n",
      " 4   average_rating         2 non-null      float64\n",
      " 5   total_sales            2 non-null      float64\n",
      " 6   tax_status             2 non-null      object \n",
      " 7   tax_class              0 non-null      float64\n",
      " 8   post_author            2 non-null      float64\n",
      " 9   post_date              2 non-null      object \n",
      " 10  post_date_gmt          2 non-null      object \n",
      " 11  post_content           0 non-null      float64\n",
      " 12  post_title             2 non-null      object \n",
      " 13  post_excerpt           2 non-null      object \n",
      " 14  post_status            2 non-null      object \n",
      " 15  comment_status         2 non-null      object \n",
      " 16  ping_status            2 non-null      object \n",
      " 17  post_password          0 non-null      float64\n",
      " 18  post_name              2 non-null      object \n",
      " 19  post_modified          2 non-null      object \n",
      " 20  post_modified_gmt      2 non-null      object \n",
      " 21  post_content_filtered  0 non-null      float64\n",
      " 22  post_parent            2 non-null      float64\n",
      " 23  guid                   2 non-null      object \n",
      " 24  menu_order             2 non-null      float64\n",
      " 25  post_type              2 non-null      object \n",
      " 26  post_mime_type         0 non-null      object \n",
      " 27  comment_count          2 non-null      float64\n",
      "dtypes: float64(10), int64(3), object(15)\n",
      "memory usage: 19.3+ KB\n"
     ]
    }
   ],
   "source": [
    "#Valeurs manquantes de sku (Nan)\n",
    "sku_null=web[web['id_web'].isnull()]\n",
    "sku_null.shape\n",
    "sku_null.info()"
   ]
  },
  {
   "cell_type": "markdown",
   "id": "29b493b7",
   "metadata": {},
   "source": [
    "On va observer de près ces 85 lignes, on remarque qu'il y'a 2 lignes pour lesquelles plusieurs colonnes sont renseignés, on va regardé de près ces 2 lignes\n",
    "\n",
    "Pour ces deux lignes,on remarque qu'il y'a 6 colonnes qui contiennent des Nan.\n",
    "\n",
    "Finalement ces deux lignes représentent des veéritables produits mais n'ont pas d'id_web.\n",
    "\n",
    "Je vais me rapprocher auprès de mes collègues pour savoir pourquoi ils ont des id_web null.\n",
    "\n",
    "Ici je vais supprimer tous les Nan"
   ]
  },
  {
   "cell_type": "code",
   "execution_count": 14,
   "id": "fc686fc3",
   "metadata": {
    "scrolled": false
   },
   "outputs": [
    {
     "data": {
      "text/html": [
       "<div>\n",
       "<style scoped>\n",
       "    .dataframe tbody tr th:only-of-type {\n",
       "        vertical-align: middle;\n",
       "    }\n",
       "\n",
       "    .dataframe tbody tr th {\n",
       "        vertical-align: top;\n",
       "    }\n",
       "\n",
       "    .dataframe thead th {\n",
       "        text-align: right;\n",
       "    }\n",
       "</style>\n",
       "<table border=\"1\" class=\"dataframe\">\n",
       "  <thead>\n",
       "    <tr style=\"text-align: right;\">\n",
       "      <th></th>\n",
       "      <th>id_web</th>\n",
       "      <th>virtual</th>\n",
       "      <th>downloadable</th>\n",
       "      <th>rating_count</th>\n",
       "      <th>average_rating</th>\n",
       "      <th>total_sales</th>\n",
       "      <th>tax_status</th>\n",
       "      <th>tax_class</th>\n",
       "      <th>post_author</th>\n",
       "      <th>post_date</th>\n",
       "      <th>...</th>\n",
       "      <th>post_name</th>\n",
       "      <th>post_modified</th>\n",
       "      <th>post_modified_gmt</th>\n",
       "      <th>post_content_filtered</th>\n",
       "      <th>post_parent</th>\n",
       "      <th>guid</th>\n",
       "      <th>menu_order</th>\n",
       "      <th>post_type</th>\n",
       "      <th>post_mime_type</th>\n",
       "      <th>comment_count</th>\n",
       "    </tr>\n",
       "  </thead>\n",
       "  <tbody>\n",
       "    <tr>\n",
       "      <th>470</th>\n",
       "      <td>NaN</td>\n",
       "      <td>0</td>\n",
       "      <td>0</td>\n",
       "      <td>0</td>\n",
       "      <td>0.0</td>\n",
       "      <td>0.0</td>\n",
       "      <td>taxable</td>\n",
       "      <td>NaN</td>\n",
       "      <td>2.0</td>\n",
       "      <td>2018-07-31 12:07:23</td>\n",
       "      <td>...</td>\n",
       "      <td>pierre-jean-villa-cote-rotie-fongeant-2017</td>\n",
       "      <td>2019-11-02 13:24:15</td>\n",
       "      <td>2019-11-02 12:24:15</td>\n",
       "      <td>NaN</td>\n",
       "      <td>0.0</td>\n",
       "      <td>https://www.bottle-neck.fr/?post_type=product&amp;...</td>\n",
       "      <td>0.0</td>\n",
       "      <td>product</td>\n",
       "      <td>NaN</td>\n",
       "      <td>0.0</td>\n",
       "    </tr>\n",
       "    <tr>\n",
       "      <th>471</th>\n",
       "      <td>NaN</td>\n",
       "      <td>0</td>\n",
       "      <td>0</td>\n",
       "      <td>0</td>\n",
       "      <td>0.0</td>\n",
       "      <td>0.0</td>\n",
       "      <td>taxable</td>\n",
       "      <td>NaN</td>\n",
       "      <td>2.0</td>\n",
       "      <td>2018-08-08 11:23:43</td>\n",
       "      <td>...</td>\n",
       "      <td>pierre-jean-villa-condrieu-suspendu-2018</td>\n",
       "      <td>2019-11-02 13:24:01</td>\n",
       "      <td>2019-11-02 12:24:01</td>\n",
       "      <td>NaN</td>\n",
       "      <td>0.0</td>\n",
       "      <td>https://www.bottle-neck.fr/?post_type=product&amp;...</td>\n",
       "      <td>0.0</td>\n",
       "      <td>product</td>\n",
       "      <td>NaN</td>\n",
       "      <td>0.0</td>\n",
       "    </tr>\n",
       "  </tbody>\n",
       "</table>\n",
       "<p>2 rows × 28 columns</p>\n",
       "</div>"
      ],
      "text/plain": [
       "    id_web  virtual  downloadable  rating_count  average_rating  total_sales  \\\n",
       "470    NaN        0             0             0             0.0          0.0   \n",
       "471    NaN        0             0             0             0.0          0.0   \n",
       "\n",
       "    tax_status  tax_class  post_author            post_date  ...  \\\n",
       "470    taxable        NaN          2.0  2018-07-31 12:07:23  ...   \n",
       "471    taxable        NaN          2.0  2018-08-08 11:23:43  ...   \n",
       "\n",
       "                                      post_name        post_modified  \\\n",
       "470  pierre-jean-villa-cote-rotie-fongeant-2017  2019-11-02 13:24:15   \n",
       "471    pierre-jean-villa-condrieu-suspendu-2018  2019-11-02 13:24:01   \n",
       "\n",
       "       post_modified_gmt post_content_filtered post_parent  \\\n",
       "470  2019-11-02 12:24:15                   NaN         0.0   \n",
       "471  2019-11-02 12:24:01                   NaN         0.0   \n",
       "\n",
       "                                                  guid menu_order  post_type  \\\n",
       "470  https://www.bottle-neck.fr/?post_type=product&...        0.0    product   \n",
       "471  https://www.bottle-neck.fr/?post_type=product&...        0.0    product   \n",
       "\n",
       "    post_mime_type comment_count  \n",
       "470            NaN           0.0  \n",
       "471            NaN           0.0  \n",
       "\n",
       "[2 rows x 28 columns]"
      ]
     },
     "execution_count": 14,
     "metadata": {},
     "output_type": "execute_result"
    }
   ],
   "source": [
    "deux_lignes=sku_null[sku_null['average_rating'].notnull()]\n",
    "deux_lignes"
   ]
  },
  {
   "cell_type": "code",
   "execution_count": 15,
   "id": "ed0a5b3c",
   "metadata": {
    "scrolled": false
   },
   "outputs": [
    {
     "name": "stdout",
     "output_type": "stream",
     "text": [
      "<class 'pandas.core.frame.DataFrame'>\n",
      "RangeIndex: 1513 entries, 0 to 1512\n",
      "Data columns (total 28 columns):\n",
      " #   Column                 Non-Null Count  Dtype  \n",
      "---  ------                 --------------  -----  \n",
      " 0   id_web                 1428 non-null   object \n",
      " 1   virtual                1513 non-null   int64  \n",
      " 2   downloadable           1513 non-null   int64  \n",
      " 3   rating_count           1513 non-null   int64  \n",
      " 4   average_rating         1430 non-null   float64\n",
      " 5   total_sales            1430 non-null   float64\n",
      " 6   tax_status             716 non-null    object \n",
      " 7   tax_class              0 non-null      float64\n",
      " 8   post_author            1430 non-null   float64\n",
      " 9   post_date              1430 non-null   object \n",
      " 10  post_date_gmt          1430 non-null   object \n",
      " 11  post_content           0 non-null      float64\n",
      " 12  post_title             1430 non-null   object \n",
      " 13  post_excerpt           716 non-null    object \n",
      " 14  post_status            1430 non-null   object \n",
      " 15  comment_status         1430 non-null   object \n",
      " 16  ping_status            1430 non-null   object \n",
      " 17  post_password          0 non-null      float64\n",
      " 18  post_name              1430 non-null   object \n",
      " 19  post_modified          1430 non-null   object \n",
      " 20  post_modified_gmt      1430 non-null   object \n",
      " 21  post_content_filtered  0 non-null      float64\n",
      " 22  post_parent            1430 non-null   float64\n",
      " 23  guid                   1430 non-null   object \n",
      " 24  menu_order             1430 non-null   float64\n",
      " 25  post_type              1430 non-null   object \n",
      " 26  post_mime_type         714 non-null    object \n",
      " 27  comment_count          1430 non-null   float64\n",
      "dtypes: float64(10), int64(3), object(15)\n",
      "memory usage: 331.1+ KB\n"
     ]
    }
   ],
   "source": [
    "web.info()"
   ]
  },
  {
   "cell_type": "markdown",
   "id": "dd0ad8c5",
   "metadata": {},
   "source": [
    "Ici on a 1513 lignes avec les nulls"
   ]
  },
  {
   "cell_type": "code",
   "execution_count": 16,
   "id": "f9f3b45e",
   "metadata": {
    "scrolled": false
   },
   "outputs": [],
   "source": [
    "#Suppression des Nan (1513-1428=85)\n",
    "web.dropna(subset=[\"id_web\"],how=\"any\",inplace=True)"
   ]
  },
  {
   "cell_type": "code",
   "execution_count": 17,
   "id": "b3931e9a",
   "metadata": {
    "scrolled": true
   },
   "outputs": [
    {
     "name": "stdout",
     "output_type": "stream",
     "text": [
      "<class 'pandas.core.frame.DataFrame'>\n",
      "Int64Index: 1428 entries, 0 to 1512\n",
      "Data columns (total 28 columns):\n",
      " #   Column                 Non-Null Count  Dtype  \n",
      "---  ------                 --------------  -----  \n",
      " 0   id_web                 1428 non-null   object \n",
      " 1   virtual                1428 non-null   int64  \n",
      " 2   downloadable           1428 non-null   int64  \n",
      " 3   rating_count           1428 non-null   int64  \n",
      " 4   average_rating         1428 non-null   float64\n",
      " 5   total_sales            1428 non-null   float64\n",
      " 6   tax_status             714 non-null    object \n",
      " 7   tax_class              0 non-null      float64\n",
      " 8   post_author            1428 non-null   float64\n",
      " 9   post_date              1428 non-null   object \n",
      " 10  post_date_gmt          1428 non-null   object \n",
      " 11  post_content           0 non-null      float64\n",
      " 12  post_title             1428 non-null   object \n",
      " 13  post_excerpt           714 non-null    object \n",
      " 14  post_status            1428 non-null   object \n",
      " 15  comment_status         1428 non-null   object \n",
      " 16  ping_status            1428 non-null   object \n",
      " 17  post_password          0 non-null      float64\n",
      " 18  post_name              1428 non-null   object \n",
      " 19  post_modified          1428 non-null   object \n",
      " 20  post_modified_gmt      1428 non-null   object \n",
      " 21  post_content_filtered  0 non-null      float64\n",
      " 22  post_parent            1428 non-null   float64\n",
      " 23  guid                   1428 non-null   object \n",
      " 24  menu_order             1428 non-null   float64\n",
      " 25  post_type              1428 non-null   object \n",
      " 26  post_mime_type         714 non-null    object \n",
      " 27  comment_count          1428 non-null   float64\n",
      "dtypes: float64(10), int64(3), object(15)\n",
      "memory usage: 323.5+ KB\n"
     ]
    }
   ],
   "source": [
    "web.info()"
   ]
  },
  {
   "cell_type": "markdown",
   "id": "f659a597",
   "metadata": {},
   "source": [
    "Ici on a 1428 lignes après la suppression des nulls"
   ]
  },
  {
   "cell_type": "code",
   "execution_count": 18,
   "id": "ef7e2c65",
   "metadata": {
    "scrolled": true
   },
   "outputs": [],
   "source": [
    "#Suppression des doublons\n",
    "web=web.drop_duplicates(subset=['id_web'])"
   ]
  },
  {
   "cell_type": "code",
   "execution_count": 19,
   "id": "262aaaa3",
   "metadata": {},
   "outputs": [
    {
     "name": "stdout",
     "output_type": "stream",
     "text": [
      "La clé n'est pas présente plusieurs fois dans le dataframe, et peut donc être utiliser comme clé primaire\n",
      "Le dataframe est de la forme : (714, 28) (lignes, colonnes)\n"
     ]
    }
   ],
   "source": [
    "testcle(web,'id_web')"
   ]
  },
  {
   "cell_type": "markdown",
   "id": "d7b12bff",
   "metadata": {},
   "source": [
    "Après suppression des doublons, on obtient donc 714 lignes pour 28 colonnes et on peut finalement utilisé l'id web en tant que clé primaire"
   ]
  },
  {
   "cell_type": "markdown",
   "id": "286c282a",
   "metadata": {},
   "source": [
    "#### Jointures des tables"
   ]
  },
  {
   "cell_type": "code",
   "execution_count": 20,
   "id": "7e0f499c",
   "metadata": {
    "scrolled": true
   },
   "outputs": [
    {
     "data": {
      "text/plain": [
       "['both']\n",
       "Categories (1, object): ['both']"
      ]
     },
     "execution_count": 20,
     "metadata": {},
     "output_type": "execute_result"
    }
   ],
   "source": [
    "erp_liaison_outer = pd.merge(erp,liaison, on='product_id', how='outer',indicator=True)\n",
    "erp_liaison_outer['_merge'].unique()"
   ]
  },
  {
   "cell_type": "code",
   "execution_count": 21,
   "id": "2ac6b389",
   "metadata": {},
   "outputs": [
    {
     "data": {
      "text/plain": [
       "['both']\n",
       "Categories (1, object): ['both']"
      ]
     },
     "execution_count": 21,
     "metadata": {},
     "output_type": "execute_result"
    }
   ],
   "source": [
    "erp_liaison_right = pd.merge(erp,liaison, on='product_id', how='right',indicator=True)\n",
    "erp_liaison_right['_merge'].unique()"
   ]
  },
  {
   "cell_type": "code",
   "execution_count": 22,
   "id": "6af48236",
   "metadata": {},
   "outputs": [
    {
     "data": {
      "text/plain": [
       "['both']\n",
       "Categories (1, object): ['both']"
      ]
     },
     "execution_count": 22,
     "metadata": {},
     "output_type": "execute_result"
    }
   ],
   "source": [
    "erp_liaison_left = pd.merge(erp,liaison, on='product_id', how='left',indicator=True)\n",
    "erp_liaison_left['_merge'].unique()"
   ]
  },
  {
   "cell_type": "code",
   "execution_count": 23,
   "id": "f3583c08",
   "metadata": {},
   "outputs": [
    {
     "data": {
      "text/plain": [
       "['both']\n",
       "Categories (1, object): ['both']"
      ]
     },
     "execution_count": 23,
     "metadata": {},
     "output_type": "execute_result"
    }
   ],
   "source": [
    "erp_liaison_inner = pd.merge(erp,liaison, on='product_id', how='inner',indicator=True)\n",
    "erp_liaison_inner['_merge'].unique()"
   ]
  },
  {
   "cell_type": "code",
   "execution_count": 24,
   "id": "a814dc2f",
   "metadata": {},
   "outputs": [],
   "source": [
    "erp_liaison = pd.merge(erp,liaison, on='product_id',how = 'inner')"
   ]
  },
  {
   "cell_type": "markdown",
   "id": "5788c1c0",
   "metadata": {},
   "source": [
    "Ici on peut voir que pour tous les types de jointures il y'a bien match"
   ]
  },
  {
   "cell_type": "code",
   "execution_count": 25,
   "id": "6d3afae1",
   "metadata": {},
   "outputs": [
    {
     "data": {
      "text/plain": [
       "['both']\n",
       "Categories (1, object): ['both']"
      ]
     },
     "execution_count": 25,
     "metadata": {},
     "output_type": "execute_result"
    }
   ],
   "source": [
    "erp_web_left = pd.merge(web, erp_liaison, on='id_web',how='left',indicator=True)  \n",
    "erp_web_left['_merge'].unique()"
   ]
  },
  {
   "cell_type": "code",
   "execution_count": 26,
   "id": "acf5b0fd",
   "metadata": {},
   "outputs": [
    {
     "data": {
      "text/plain": [
       "['both', 'right_only']\n",
       "Categories (2, object): ['both', 'right_only']"
      ]
     },
     "execution_count": 26,
     "metadata": {},
     "output_type": "execute_result"
    }
   ],
   "source": [
    "erp_web_right = pd.merge(web, erp_liaison, on='id_web',how='right',indicator=True)  \n",
    "erp_web_right['_merge'].unique()"
   ]
  },
  {
   "cell_type": "code",
   "execution_count": 27,
   "id": "35b6f71a",
   "metadata": {},
   "outputs": [
    {
     "data": {
      "text/plain": [
       "['both', 'right_only']\n",
       "Categories (2, object): ['both', 'right_only']"
      ]
     },
     "execution_count": 27,
     "metadata": {},
     "output_type": "execute_result"
    }
   ],
   "source": [
    "erp_web_outer = pd.merge(web, erp_liaison, on='id_web',how='outer',indicator=True)  \n",
    "erp_web_outer['_merge'].unique()"
   ]
  },
  {
   "cell_type": "code",
   "execution_count": 28,
   "id": "aa7ce0d7",
   "metadata": {
    "scrolled": true
   },
   "outputs": [
    {
     "data": {
      "text/plain": [
       "['both']\n",
       "Categories (1, object): ['both']"
      ]
     },
     "execution_count": 28,
     "metadata": {},
     "output_type": "execute_result"
    }
   ],
   "source": [
    "erp_web_inner = pd.merge(web, erp_liaison, on='id_web',how='inner',indicator=True)  \n",
    "erp_web_inner['_merge'].unique()"
   ]
  },
  {
   "cell_type": "code",
   "execution_count": 29,
   "id": "5f193d41",
   "metadata": {},
   "outputs": [],
   "source": [
    "erp_web = pd.merge(web, erp_liaison, on='id_web',how='inner') "
   ]
  },
  {
   "cell_type": "markdown",
   "id": "09349817",
   "metadata": {},
   "source": [
    "Ici on choisi donc la jointure inner car c'est celle qui marche le mieux"
   ]
  },
  {
   "cell_type": "code",
   "execution_count": 30,
   "id": "89f3b897",
   "metadata": {},
   "outputs": [
    {
     "data": {
      "text/html": [
       "<div>\n",
       "<style scoped>\n",
       "    .dataframe tbody tr th:only-of-type {\n",
       "        vertical-align: middle;\n",
       "    }\n",
       "\n",
       "    .dataframe tbody tr th {\n",
       "        vertical-align: top;\n",
       "    }\n",
       "\n",
       "    .dataframe thead th {\n",
       "        text-align: right;\n",
       "    }\n",
       "</style>\n",
       "<table border=\"1\" class=\"dataframe\">\n",
       "  <thead>\n",
       "    <tr style=\"text-align: right;\">\n",
       "      <th></th>\n",
       "      <th>id_web</th>\n",
       "      <th>virtual</th>\n",
       "      <th>downloadable</th>\n",
       "      <th>rating_count</th>\n",
       "      <th>average_rating</th>\n",
       "      <th>total_sales</th>\n",
       "      <th>tax_status</th>\n",
       "      <th>tax_class</th>\n",
       "      <th>post_author</th>\n",
       "      <th>post_date</th>\n",
       "      <th>...</th>\n",
       "      <th>guid</th>\n",
       "      <th>menu_order</th>\n",
       "      <th>post_type</th>\n",
       "      <th>post_mime_type</th>\n",
       "      <th>comment_count</th>\n",
       "      <th>product_id</th>\n",
       "      <th>onsale_web</th>\n",
       "      <th>price</th>\n",
       "      <th>stock_quantity</th>\n",
       "      <th>stock_status</th>\n",
       "    </tr>\n",
       "  </thead>\n",
       "  <tbody>\n",
       "    <tr>\n",
       "      <th>0</th>\n",
       "      <td>bon-cadeau-25-euros</td>\n",
       "      <td>0</td>\n",
       "      <td>0</td>\n",
       "      <td>0</td>\n",
       "      <td>0.0</td>\n",
       "      <td>10.0</td>\n",
       "      <td>taxable</td>\n",
       "      <td>NaN</td>\n",
       "      <td>1.0</td>\n",
       "      <td>2018-06-01 13:53:46</td>\n",
       "      <td>...</td>\n",
       "      <td>https://www.bottle-neck.fr/?post_type=product&amp;...</td>\n",
       "      <td>0.0</td>\n",
       "      <td>product</td>\n",
       "      <td>NaN</td>\n",
       "      <td>0.0</td>\n",
       "      <td>4954</td>\n",
       "      <td>1</td>\n",
       "      <td>25.0</td>\n",
       "      <td>0</td>\n",
       "      <td>instock</td>\n",
       "    </tr>\n",
       "    <tr>\n",
       "      <th>1</th>\n",
       "      <td>15298</td>\n",
       "      <td>0</td>\n",
       "      <td>0</td>\n",
       "      <td>0</td>\n",
       "      <td>0.0</td>\n",
       "      <td>6.0</td>\n",
       "      <td>taxable</td>\n",
       "      <td>NaN</td>\n",
       "      <td>2.0</td>\n",
       "      <td>2018-02-08 12:58:52</td>\n",
       "      <td>...</td>\n",
       "      <td>https://www.bottle-neck.fr/?post_type=product&amp;...</td>\n",
       "      <td>0.0</td>\n",
       "      <td>product</td>\n",
       "      <td>NaN</td>\n",
       "      <td>0.0</td>\n",
       "      <td>3847</td>\n",
       "      <td>1</td>\n",
       "      <td>24.2</td>\n",
       "      <td>0</td>\n",
       "      <td>outofstock</td>\n",
       "    </tr>\n",
       "    <tr>\n",
       "      <th>2</th>\n",
       "      <td>15296</td>\n",
       "      <td>0</td>\n",
       "      <td>0</td>\n",
       "      <td>0</td>\n",
       "      <td>0.0</td>\n",
       "      <td>0.0</td>\n",
       "      <td>taxable</td>\n",
       "      <td>NaN</td>\n",
       "      <td>2.0</td>\n",
       "      <td>2018-02-08 13:49:41</td>\n",
       "      <td>...</td>\n",
       "      <td>https://www.bottle-neck.fr/?post_type=product&amp;...</td>\n",
       "      <td>0.0</td>\n",
       "      <td>product</td>\n",
       "      <td>NaN</td>\n",
       "      <td>0.0</td>\n",
       "      <td>3849</td>\n",
       "      <td>1</td>\n",
       "      <td>34.3</td>\n",
       "      <td>0</td>\n",
       "      <td>outofstock</td>\n",
       "    </tr>\n",
       "    <tr>\n",
       "      <th>3</th>\n",
       "      <td>15300</td>\n",
       "      <td>0</td>\n",
       "      <td>0</td>\n",
       "      <td>0</td>\n",
       "      <td>0.0</td>\n",
       "      <td>0.0</td>\n",
       "      <td>taxable</td>\n",
       "      <td>NaN</td>\n",
       "      <td>2.0</td>\n",
       "      <td>2018-02-08 14:08:36</td>\n",
       "      <td>...</td>\n",
       "      <td>https://www.bottle-neck.fr/?post_type=product&amp;...</td>\n",
       "      <td>0.0</td>\n",
       "      <td>product</td>\n",
       "      <td>NaN</td>\n",
       "      <td>0.0</td>\n",
       "      <td>3850</td>\n",
       "      <td>1</td>\n",
       "      <td>20.8</td>\n",
       "      <td>0</td>\n",
       "      <td>outofstock</td>\n",
       "    </tr>\n",
       "    <tr>\n",
       "      <th>4</th>\n",
       "      <td>19814</td>\n",
       "      <td>0</td>\n",
       "      <td>0</td>\n",
       "      <td>0</td>\n",
       "      <td>0.0</td>\n",
       "      <td>3.0</td>\n",
       "      <td>taxable</td>\n",
       "      <td>NaN</td>\n",
       "      <td>2.0</td>\n",
       "      <td>2018-02-09 14:01:05</td>\n",
       "      <td>...</td>\n",
       "      <td>https://www.bottle-neck.fr/?post_type=product&amp;...</td>\n",
       "      <td>0.0</td>\n",
       "      <td>product</td>\n",
       "      <td>NaN</td>\n",
       "      <td>0.0</td>\n",
       "      <td>4032</td>\n",
       "      <td>1</td>\n",
       "      <td>14.1</td>\n",
       "      <td>0</td>\n",
       "      <td>outofstock</td>\n",
       "    </tr>\n",
       "  </tbody>\n",
       "</table>\n",
       "<p>5 rows × 33 columns</p>\n",
       "</div>"
      ],
      "text/plain": [
       "                id_web  virtual  downloadable  rating_count  average_rating  \\\n",
       "0  bon-cadeau-25-euros        0             0             0             0.0   \n",
       "1                15298        0             0             0             0.0   \n",
       "2                15296        0             0             0             0.0   \n",
       "3                15300        0             0             0             0.0   \n",
       "4                19814        0             0             0             0.0   \n",
       "\n",
       "   total_sales tax_status  tax_class  post_author            post_date  ...  \\\n",
       "0         10.0    taxable        NaN          1.0  2018-06-01 13:53:46  ...   \n",
       "1          6.0    taxable        NaN          2.0  2018-02-08 12:58:52  ...   \n",
       "2          0.0    taxable        NaN          2.0  2018-02-08 13:49:41  ...   \n",
       "3          0.0    taxable        NaN          2.0  2018-02-08 14:08:36  ...   \n",
       "4          3.0    taxable        NaN          2.0  2018-02-09 14:01:05  ...   \n",
       "\n",
       "                                                guid  menu_order post_type  \\\n",
       "0  https://www.bottle-neck.fr/?post_type=product&...         0.0   product   \n",
       "1  https://www.bottle-neck.fr/?post_type=product&...         0.0   product   \n",
       "2  https://www.bottle-neck.fr/?post_type=product&...         0.0   product   \n",
       "3  https://www.bottle-neck.fr/?post_type=product&...         0.0   product   \n",
       "4  https://www.bottle-neck.fr/?post_type=product&...         0.0   product   \n",
       "\n",
       "  post_mime_type comment_count product_id onsale_web  price stock_quantity  \\\n",
       "0            NaN           0.0       4954          1   25.0              0   \n",
       "1            NaN           0.0       3847          1   24.2              0   \n",
       "2            NaN           0.0       3849          1   34.3              0   \n",
       "3            NaN           0.0       3850          1   20.8              0   \n",
       "4            NaN           0.0       4032          1   14.1              0   \n",
       "\n",
       "  stock_status  \n",
       "0      instock  \n",
       "1   outofstock  \n",
       "2   outofstock  \n",
       "3   outofstock  \n",
       "4   outofstock  \n",
       "\n",
       "[5 rows x 33 columns]"
      ]
     },
     "execution_count": 30,
     "metadata": {},
     "output_type": "execute_result"
    }
   ],
   "source": [
    "erp_web.head()"
   ]
  },
  {
   "cell_type": "markdown",
   "id": "fd0dff13",
   "metadata": {},
   "source": [
    "### Calculs du CA par produits et total"
   ]
  },
  {
   "cell_type": "code",
   "execution_count": 31,
   "id": "973c076b",
   "metadata": {
    "scrolled": false
   },
   "outputs": [
    {
     "data": {
      "text/html": [
       "<div>\n",
       "<style scoped>\n",
       "    .dataframe tbody tr th:only-of-type {\n",
       "        vertical-align: middle;\n",
       "    }\n",
       "\n",
       "    .dataframe tbody tr th {\n",
       "        vertical-align: top;\n",
       "    }\n",
       "\n",
       "    .dataframe thead th {\n",
       "        text-align: right;\n",
       "    }\n",
       "</style>\n",
       "<table border=\"1\" class=\"dataframe\">\n",
       "  <thead>\n",
       "    <tr style=\"text-align: right;\">\n",
       "      <th></th>\n",
       "      <th>id_web</th>\n",
       "      <th>virtual</th>\n",
       "      <th>downloadable</th>\n",
       "      <th>rating_count</th>\n",
       "      <th>average_rating</th>\n",
       "      <th>total_sales</th>\n",
       "      <th>tax_status</th>\n",
       "      <th>tax_class</th>\n",
       "      <th>post_author</th>\n",
       "      <th>post_date</th>\n",
       "      <th>...</th>\n",
       "      <th>menu_order</th>\n",
       "      <th>post_type</th>\n",
       "      <th>post_mime_type</th>\n",
       "      <th>comment_count</th>\n",
       "      <th>product_id</th>\n",
       "      <th>onsale_web</th>\n",
       "      <th>price</th>\n",
       "      <th>stock_quantity</th>\n",
       "      <th>stock_status</th>\n",
       "      <th>CA par produits</th>\n",
       "    </tr>\n",
       "  </thead>\n",
       "  <tbody>\n",
       "    <tr>\n",
       "      <th>0</th>\n",
       "      <td>bon-cadeau-25-euros</td>\n",
       "      <td>0</td>\n",
       "      <td>0</td>\n",
       "      <td>0</td>\n",
       "      <td>0.0</td>\n",
       "      <td>10.0</td>\n",
       "      <td>taxable</td>\n",
       "      <td>NaN</td>\n",
       "      <td>1.0</td>\n",
       "      <td>2018-06-01 13:53:46</td>\n",
       "      <td>...</td>\n",
       "      <td>0.0</td>\n",
       "      <td>product</td>\n",
       "      <td>NaN</td>\n",
       "      <td>0.0</td>\n",
       "      <td>4954</td>\n",
       "      <td>1</td>\n",
       "      <td>25.0</td>\n",
       "      <td>0</td>\n",
       "      <td>instock</td>\n",
       "      <td>250.0</td>\n",
       "    </tr>\n",
       "    <tr>\n",
       "      <th>1</th>\n",
       "      <td>15298</td>\n",
       "      <td>0</td>\n",
       "      <td>0</td>\n",
       "      <td>0</td>\n",
       "      <td>0.0</td>\n",
       "      <td>6.0</td>\n",
       "      <td>taxable</td>\n",
       "      <td>NaN</td>\n",
       "      <td>2.0</td>\n",
       "      <td>2018-02-08 12:58:52</td>\n",
       "      <td>...</td>\n",
       "      <td>0.0</td>\n",
       "      <td>product</td>\n",
       "      <td>NaN</td>\n",
       "      <td>0.0</td>\n",
       "      <td>3847</td>\n",
       "      <td>1</td>\n",
       "      <td>24.2</td>\n",
       "      <td>0</td>\n",
       "      <td>outofstock</td>\n",
       "      <td>145.2</td>\n",
       "    </tr>\n",
       "    <tr>\n",
       "      <th>2</th>\n",
       "      <td>15296</td>\n",
       "      <td>0</td>\n",
       "      <td>0</td>\n",
       "      <td>0</td>\n",
       "      <td>0.0</td>\n",
       "      <td>0.0</td>\n",
       "      <td>taxable</td>\n",
       "      <td>NaN</td>\n",
       "      <td>2.0</td>\n",
       "      <td>2018-02-08 13:49:41</td>\n",
       "      <td>...</td>\n",
       "      <td>0.0</td>\n",
       "      <td>product</td>\n",
       "      <td>NaN</td>\n",
       "      <td>0.0</td>\n",
       "      <td>3849</td>\n",
       "      <td>1</td>\n",
       "      <td>34.3</td>\n",
       "      <td>0</td>\n",
       "      <td>outofstock</td>\n",
       "      <td>0.0</td>\n",
       "    </tr>\n",
       "    <tr>\n",
       "      <th>3</th>\n",
       "      <td>15300</td>\n",
       "      <td>0</td>\n",
       "      <td>0</td>\n",
       "      <td>0</td>\n",
       "      <td>0.0</td>\n",
       "      <td>0.0</td>\n",
       "      <td>taxable</td>\n",
       "      <td>NaN</td>\n",
       "      <td>2.0</td>\n",
       "      <td>2018-02-08 14:08:36</td>\n",
       "      <td>...</td>\n",
       "      <td>0.0</td>\n",
       "      <td>product</td>\n",
       "      <td>NaN</td>\n",
       "      <td>0.0</td>\n",
       "      <td>3850</td>\n",
       "      <td>1</td>\n",
       "      <td>20.8</td>\n",
       "      <td>0</td>\n",
       "      <td>outofstock</td>\n",
       "      <td>0.0</td>\n",
       "    </tr>\n",
       "    <tr>\n",
       "      <th>4</th>\n",
       "      <td>19814</td>\n",
       "      <td>0</td>\n",
       "      <td>0</td>\n",
       "      <td>0</td>\n",
       "      <td>0.0</td>\n",
       "      <td>3.0</td>\n",
       "      <td>taxable</td>\n",
       "      <td>NaN</td>\n",
       "      <td>2.0</td>\n",
       "      <td>2018-02-09 14:01:05</td>\n",
       "      <td>...</td>\n",
       "      <td>0.0</td>\n",
       "      <td>product</td>\n",
       "      <td>NaN</td>\n",
       "      <td>0.0</td>\n",
       "      <td>4032</td>\n",
       "      <td>1</td>\n",
       "      <td>14.1</td>\n",
       "      <td>0</td>\n",
       "      <td>outofstock</td>\n",
       "      <td>42.3</td>\n",
       "    </tr>\n",
       "  </tbody>\n",
       "</table>\n",
       "<p>5 rows × 34 columns</p>\n",
       "</div>"
      ],
      "text/plain": [
       "                id_web  virtual  downloadable  rating_count  average_rating  \\\n",
       "0  bon-cadeau-25-euros        0             0             0             0.0   \n",
       "1                15298        0             0             0             0.0   \n",
       "2                15296        0             0             0             0.0   \n",
       "3                15300        0             0             0             0.0   \n",
       "4                19814        0             0             0             0.0   \n",
       "\n",
       "   total_sales tax_status  tax_class  post_author            post_date  ...  \\\n",
       "0         10.0    taxable        NaN          1.0  2018-06-01 13:53:46  ...   \n",
       "1          6.0    taxable        NaN          2.0  2018-02-08 12:58:52  ...   \n",
       "2          0.0    taxable        NaN          2.0  2018-02-08 13:49:41  ...   \n",
       "3          0.0    taxable        NaN          2.0  2018-02-08 14:08:36  ...   \n",
       "4          3.0    taxable        NaN          2.0  2018-02-09 14:01:05  ...   \n",
       "\n",
       "  menu_order  post_type post_mime_type comment_count product_id onsale_web  \\\n",
       "0        0.0    product            NaN           0.0       4954          1   \n",
       "1        0.0    product            NaN           0.0       3847          1   \n",
       "2        0.0    product            NaN           0.0       3849          1   \n",
       "3        0.0    product            NaN           0.0       3850          1   \n",
       "4        0.0    product            NaN           0.0       4032          1   \n",
       "\n",
       "  price  stock_quantity stock_status CA par produits  \n",
       "0  25.0               0      instock           250.0  \n",
       "1  24.2               0   outofstock           145.2  \n",
       "2  34.3               0   outofstock             0.0  \n",
       "3  20.8               0   outofstock             0.0  \n",
       "4  14.1               0   outofstock            42.3  \n",
       "\n",
       "[5 rows x 34 columns]"
      ]
     },
     "execution_count": 31,
     "metadata": {},
     "output_type": "execute_result"
    }
   ],
   "source": [
    "erp_web['CA par produits'] = erp_web['price']*erp_web['total_sales']\n",
    "erp_web.head()"
   ]
  },
  {
   "cell_type": "code",
   "execution_count": 32,
   "id": "ea754176",
   "metadata": {
    "scrolled": false
   },
   "outputs": [
    {
     "name": "stdout",
     "output_type": "stream",
     "text": [
      "Le chiffre d affaire réalisé en ligne est de  70568.6\n"
     ]
    }
   ],
   "source": [
    "ca_total = erp_web['CA par produits'].sum()\n",
    "print(\"Le chiffre d affaire réalisé en ligne est de \", ca_total)"
   ]
  },
  {
   "cell_type": "markdown",
   "id": "cbad2424",
   "metadata": {},
   "source": [
    "### Détection des outliers"
   ]
  },
  {
   "cell_type": "markdown",
   "id": "b1115654",
   "metadata": {},
   "source": [
    "Liste des prix des produits dans l'ordre croissant"
   ]
  },
  {
   "cell_type": "code",
   "execution_count": 33,
   "id": "b5a730b1",
   "metadata": {
    "scrolled": true
   },
   "outputs": [],
   "source": [
    "price = erp_web['price']\n",
    "price = sorted(price)"
   ]
  },
  {
   "cell_type": "markdown",
   "id": "760aecf1",
   "metadata": {},
   "source": [
    "Calcul de la moyenne"
   ]
  },
  {
   "cell_type": "code",
   "execution_count": 34,
   "id": "7c77052b",
   "metadata": {
    "scrolled": true
   },
   "outputs": [
    {
     "data": {
      "text/plain": [
       "32.493137254901946"
      ]
     },
     "execution_count": 34,
     "metadata": {},
     "output_type": "execute_result"
    }
   ],
   "source": [
    "moy = sum(price)/len(price)\n",
    "moy"
   ]
  },
  {
   "cell_type": "markdown",
   "id": "a37810dc",
   "metadata": {},
   "source": [
    "Calcul de la médiane"
   ]
  },
  {
   "cell_type": "code",
   "execution_count": 35,
   "id": "08f00fde",
   "metadata": {},
   "outputs": [
    {
     "name": "stdout",
     "output_type": "stream",
     "text": [
      "[23.55]\n"
     ]
    }
   ],
   "source": [
    "med = np.percentile(price,[50])\n",
    "print(med)"
   ]
  },
  {
   "cell_type": "markdown",
   "id": "c5a62489",
   "metadata": {},
   "source": [
    "On calcul ici les quartiles (q1 et q3) pour pouvoir calculer l'interquartile"
   ]
  },
  {
   "cell_type": "code",
   "execution_count": 36,
   "id": "4aac72e4",
   "metadata": {},
   "outputs": [
    {
     "data": {
      "text/plain": [
       "(14.1, 42.175000000000004)"
      ]
     },
     "execution_count": 36,
     "metadata": {},
     "output_type": "execute_result"
    }
   ],
   "source": [
    "q1,q3 = np.percentile(price,[25,75])\n",
    "q1,q3"
   ]
  },
  {
   "cell_type": "markdown",
   "id": "fa54aefc",
   "metadata": {},
   "source": [
    "Calcul de l'interquatile"
   ]
  },
  {
   "cell_type": "code",
   "execution_count": 37,
   "id": "7276dbea",
   "metadata": {},
   "outputs": [
    {
     "data": {
      "text/plain": [
       "28.075000000000003"
      ]
     },
     "execution_count": 37,
     "metadata": {},
     "output_type": "execute_result"
    }
   ],
   "source": [
    "interq = q3-q1\n",
    "interq"
   ]
  },
  {
   "cell_type": "markdown",
   "id": "49b4dc35",
   "metadata": {},
   "source": [
    "Calcul de la valeur minimum"
   ]
  },
  {
   "cell_type": "code",
   "execution_count": 38,
   "id": "3a38fc89",
   "metadata": {
    "scrolled": true
   },
   "outputs": [
    {
     "data": {
      "text/plain": [
       "5.2"
      ]
     },
     "execution_count": 38,
     "metadata": {},
     "output_type": "execute_result"
    }
   ],
   "source": [
    "val_min = min(price)\n",
    "val_min"
   ]
  },
  {
   "cell_type": "markdown",
   "id": "72d8a63a",
   "metadata": {},
   "source": [
    "Calcul de la valeur maximum"
   ]
  },
  {
   "cell_type": "code",
   "execution_count": 39,
   "id": "6f7c0a19",
   "metadata": {},
   "outputs": [
    {
     "data": {
      "text/plain": [
       "225.0"
      ]
     },
     "execution_count": 39,
     "metadata": {},
     "output_type": "execute_result"
    }
   ],
   "source": [
    "val_max = max(price)\n",
    "val_max"
   ]
  },
  {
   "cell_type": "markdown",
   "id": "7fdce1d1",
   "metadata": {},
   "source": [
    "Calcul de la borne inférieur"
   ]
  },
  {
   "cell_type": "code",
   "execution_count": 40,
   "id": "18226078",
   "metadata": {
    "scrolled": false
   },
   "outputs": [
    {
     "data": {
      "text/plain": [
       "-28.012500000000003"
      ]
     },
     "execution_count": 40,
     "metadata": {},
     "output_type": "execute_result"
    }
   ],
   "source": [
    "lower_bound = q1 - (1.5 * interq)\n",
    "lower_bound"
   ]
  },
  {
   "cell_type": "markdown",
   "id": "e52b9f9d",
   "metadata": {},
   "source": [
    "Calcul de la borne supérieur"
   ]
  },
  {
   "cell_type": "code",
   "execution_count": 41,
   "id": "2108a267",
   "metadata": {},
   "outputs": [
    {
     "data": {
      "text/plain": [
       "84.28750000000001"
      ]
     },
     "execution_count": 41,
     "metadata": {},
     "output_type": "execute_result"
    }
   ],
   "source": [
    "upper_bound = q3 + (1.5 * interq)\n",
    "upper_bound"
   ]
  },
  {
   "cell_type": "markdown",
   "id": "7c114959",
   "metadata": {},
   "source": [
    "Calcul des outliers"
   ]
  },
  {
   "cell_type": "code",
   "execution_count": 42,
   "id": "32a0873a",
   "metadata": {
    "scrolled": true
   },
   "outputs": [
    {
     "name": "stdout",
     "output_type": "stream",
     "text": [
      "[85.6, 86.8, 88.4, 92.0, 93.0, 99.0, 100.0, 102.3, 104.0, 105.0, 105.0, 105.6, 108.5, 109.6, 112.0, 114.0, 115.0, 115.0, 116.4, 121.0, 121.0, 122.0, 124.8, 126.5, 135.0, 137.0, 157.0, 175.0, 176.0, 191.3, 217.5, 225.0]\n",
      "Il y a  32 valeurs atypiques \n"
     ]
    }
   ],
   "source": [
    "outliers = [x for x in price if x <= lower_bound or x >= upper_bound]\n",
    "print(outliers)\n",
    "print(\"Il y a \", len(outliers),\"valeurs atypiques \")"
   ]
  },
  {
   "cell_type": "code",
   "execution_count": 43,
   "id": "5295ff93",
   "metadata": {},
   "outputs": [
    {
     "data": {
      "text/plain": [
       "{'whiskers': [<matplotlib.lines.Line2D at 0x1109ebfd490>,\n",
       "  <matplotlib.lines.Line2D at 0x1109ebfd7f0>],\n",
       " 'caps': [<matplotlib.lines.Line2D at 0x1109ebfdb50>,\n",
       "  <matplotlib.lines.Line2D at 0x1109ebfdeb0>],\n",
       " 'boxes': [<matplotlib.lines.Line2D at 0x1109ebfd130>],\n",
       " 'medians': [<matplotlib.lines.Line2D at 0x1109ec0b250>],\n",
       " 'fliers': [<matplotlib.lines.Line2D at 0x1109ec0b5b0>],\n",
       " 'means': []}"
      ]
     },
     "execution_count": 43,
     "metadata": {},
     "output_type": "execute_result"
    },
    {
     "data": {
      "image/png": "[encoded data removed]",
      "text/plain": [
       "<Figure size 432x288 with 1 Axes>"
      ]
     },
     "metadata": {
      "needs_background": "light"
     },
     "output_type": "display_data"
    }
   ],
   "source": [
    "plt.ylim(0,230)\n",
    "plt.title(\"Boîte à moustache des prix avec les outliers\")\n",
    "plt.boxplot(price, sym='r+')"
   ]
  },
  {
   "cell_type": "markdown",
   "id": "0f0b0374",
   "metadata": {},
   "source": [
    "Les outliers sont donc les \"+\" affichés en rouge, on peut voir que tous les outliers sont situés au dessus de la borne supérieur.\n",
    "\n",
    "Tous les outliers sont au dessus de 85 qui est la borne supérieur.\n",
    "\n",
    "Le minimum est donc de 5 environ comme on peut le voir sur le graphique.\n",
    "\n",
    "Sur le graphique on peut voir que la médiane est d'environ 20.\n",
    "\n",
    "Les données de ce graphique à moustache montre bien les valeurs des calculs précédemment effectués.\n",
    "\n",
    "Les points rouges représentent les outliers qui sont des valeurs atypiques et non aberrantes, ce sont donc des valeurs au dessus de la normale : ils sont juste \"plus chère\".\n",
    "\n",
    "On ne peut donc pas les supprimer."
   ]
  }
 ],
 "metadata": {
  "kernelspec": {
   "display_name": "Python 3",
   "language": "python",
   "name": "python3"
  },
  "language_info": {
   "codemirror_mode": {
    "name": "ipython",
    "version": 3
   },
   "file_extension": ".py",
   "mimetype": "text/x-python",
   "name": "python",
   "nbconvert_exporter": "python",
   "pygments_lexer": "ipython3",
   "version": "3.8.8"
  }
 },
 "nbformat": 4,
 "nbformat_minor": 5
}
