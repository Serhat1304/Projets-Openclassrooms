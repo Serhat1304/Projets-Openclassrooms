{
 "cells": [
  {
   "cell_type": "markdown",
   "id": "642c5f30",
   "metadata": {},
   "source": [
    "## Projet 9 : Produisez une étude de marché avec Python"
   ]
  },
  {
   "cell_type": "markdown",
   "id": "d1fd99b3",
   "metadata": {},
   "source": [
    "###  I. Pré-traitement des données"
   ]
  },
  {
   "cell_type": "markdown",
   "id": "760cc1b8",
   "metadata": {},
   "source": [
    "Import des librairies"
   ]
  },
  {
   "cell_type": "code",
   "execution_count": 1,
   "id": "ed0f5038",
   "metadata": {},
   "outputs": [],
   "source": [
    "import numpy as np\n",
    "import pandas as pd\n",
    "from sklearn import decomposition\n",
    "from sklearn import preprocessing\n",
    "from functions import *\n",
    "import matplotlib.pyplot as plt"
   ]
  },
  {
   "cell_type": "markdown",
   "id": "64f0c074",
   "metadata": {},
   "source": [
    "Import de la disponibilité alimentaire de 2017"
   ]
  },
  {
   "cell_type": "code",
   "execution_count": 2,
   "id": "623bfa22",
   "metadata": {},
   "outputs": [
    {
     "data": {
      "text/html": [
       "<div>\n",
       "<style scoped>\n",
       "    .dataframe tbody tr th:only-of-type {\n",
       "        vertical-align: middle;\n",
       "    }\n",
       "\n",
       "    .dataframe tbody tr th {\n",
       "        vertical-align: top;\n",
       "    }\n",
       "\n",
       "    .dataframe thead th {\n",
       "        text-align: right;\n",
       "    }\n",
       "</style>\n",
       "<table border=\"1\" class=\"dataframe\">\n",
       "  <thead>\n",
       "    <tr style=\"text-align: right;\">\n",
       "      <th></th>\n",
       "      <th>Code Domaine</th>\n",
       "      <th>Domaine</th>\n",
       "      <th>Code zone</th>\n",
       "      <th>Zone</th>\n",
       "      <th>Code Élément</th>\n",
       "      <th>Élément</th>\n",
       "      <th>Code Produit</th>\n",
       "      <th>Produit</th>\n",
       "      <th>Code année</th>\n",
       "      <th>Année</th>\n",
       "      <th>Unité</th>\n",
       "      <th>Valeur</th>\n",
       "      <th>Symbole</th>\n",
       "      <th>Description du Symbole</th>\n",
       "    </tr>\n",
       "  </thead>\n",
       "  <tbody>\n",
       "    <tr>\n",
       "      <th>0</th>\n",
       "      <td>FBS</td>\n",
       "      <td>Nouveaux Bilans Alimentaire</td>\n",
       "      <td>2</td>\n",
       "      <td>Afghanistan</td>\n",
       "      <td>5511</td>\n",
       "      <td>Production</td>\n",
       "      <td>2511</td>\n",
       "      <td>Blé et produits</td>\n",
       "      <td>2017</td>\n",
       "      <td>2017</td>\n",
       "      <td>Milliers de tonnes</td>\n",
       "      <td>4281.0</td>\n",
       "      <td>S</td>\n",
       "      <td>Données standardisées</td>\n",
       "    </tr>\n",
       "    <tr>\n",
       "      <th>1</th>\n",
       "      <td>FBS</td>\n",
       "      <td>Nouveaux Bilans Alimentaire</td>\n",
       "      <td>2</td>\n",
       "      <td>Afghanistan</td>\n",
       "      <td>5611</td>\n",
       "      <td>Importations - Quantité</td>\n",
       "      <td>2511</td>\n",
       "      <td>Blé et produits</td>\n",
       "      <td>2017</td>\n",
       "      <td>2017</td>\n",
       "      <td>Milliers de tonnes</td>\n",
       "      <td>2302.0</td>\n",
       "      <td>S</td>\n",
       "      <td>Données standardisées</td>\n",
       "    </tr>\n",
       "    <tr>\n",
       "      <th>2</th>\n",
       "      <td>FBS</td>\n",
       "      <td>Nouveaux Bilans Alimentaire</td>\n",
       "      <td>2</td>\n",
       "      <td>Afghanistan</td>\n",
       "      <td>5072</td>\n",
       "      <td>Variation de stock</td>\n",
       "      <td>2511</td>\n",
       "      <td>Blé et produits</td>\n",
       "      <td>2017</td>\n",
       "      <td>2017</td>\n",
       "      <td>Milliers de tonnes</td>\n",
       "      <td>-119.0</td>\n",
       "      <td>S</td>\n",
       "      <td>Données standardisées</td>\n",
       "    </tr>\n",
       "    <tr>\n",
       "      <th>3</th>\n",
       "      <td>FBS</td>\n",
       "      <td>Nouveaux Bilans Alimentaire</td>\n",
       "      <td>2</td>\n",
       "      <td>Afghanistan</td>\n",
       "      <td>5911</td>\n",
       "      <td>Exportations - Quantité</td>\n",
       "      <td>2511</td>\n",
       "      <td>Blé et produits</td>\n",
       "      <td>2017</td>\n",
       "      <td>2017</td>\n",
       "      <td>Milliers de tonnes</td>\n",
       "      <td>0.0</td>\n",
       "      <td>S</td>\n",
       "      <td>Données standardisées</td>\n",
       "    </tr>\n",
       "    <tr>\n",
       "      <th>4</th>\n",
       "      <td>FBS</td>\n",
       "      <td>Nouveaux Bilans Alimentaire</td>\n",
       "      <td>2</td>\n",
       "      <td>Afghanistan</td>\n",
       "      <td>5301</td>\n",
       "      <td>Disponibilité intérieure</td>\n",
       "      <td>2511</td>\n",
       "      <td>Blé et produits</td>\n",
       "      <td>2017</td>\n",
       "      <td>2017</td>\n",
       "      <td>Milliers de tonnes</td>\n",
       "      <td>6701.0</td>\n",
       "      <td>S</td>\n",
       "      <td>Données standardisées</td>\n",
       "    </tr>\n",
       "  </tbody>\n",
       "</table>\n",
       "</div>"
      ],
      "text/plain": [
       "  Code Domaine                      Domaine  Code zone         Zone  \\\n",
       "0          FBS  Nouveaux Bilans Alimentaire          2  Afghanistan   \n",
       "1          FBS  Nouveaux Bilans Alimentaire          2  Afghanistan   \n",
       "2          FBS  Nouveaux Bilans Alimentaire          2  Afghanistan   \n",
       "3          FBS  Nouveaux Bilans Alimentaire          2  Afghanistan   \n",
       "4          FBS  Nouveaux Bilans Alimentaire          2  Afghanistan   \n",
       "\n",
       "   Code Élément                   Élément  Code Produit          Produit  \\\n",
       "0          5511                Production          2511  Blé et produits   \n",
       "1          5611   Importations - Quantité          2511  Blé et produits   \n",
       "2          5072        Variation de stock          2511  Blé et produits   \n",
       "3          5911   Exportations - Quantité          2511  Blé et produits   \n",
       "4          5301  Disponibilité intérieure          2511  Blé et produits   \n",
       "\n",
       "   Code année  Année               Unité  Valeur Symbole  \\\n",
       "0        2017   2017  Milliers de tonnes  4281.0       S   \n",
       "1        2017   2017  Milliers de tonnes  2302.0       S   \n",
       "2        2017   2017  Milliers de tonnes  -119.0       S   \n",
       "3        2017   2017  Milliers de tonnes     0.0       S   \n",
       "4        2017   2017  Milliers de tonnes  6701.0       S   \n",
       "\n",
       "  Description du Symbole  \n",
       "0  Données standardisées  \n",
       "1  Données standardisées  \n",
       "2  Données standardisées  \n",
       "3  Données standardisées  \n",
       "4  Données standardisées  "
      ]
     },
     "execution_count": 2,
     "metadata": {},
     "output_type": "execute_result"
    }
   ],
   "source": [
    "dispo_alim2017 = pd.read_csv(r'C:\\Users\\serha\\Desktop\\Formation Data Analyste\\P9_Kus_Serhat\\DisponibiliteAlimentaire_2017.csv')\n",
    "dispo_alim2017.head()"
   ]
  },
  {
   "cell_type": "code",
   "execution_count": 3,
   "id": "cd096f3c",
   "metadata": {
    "scrolled": true
   },
   "outputs": [
    {
     "name": "stdout",
     "output_type": "stream",
     "text": [
      "<class 'pandas.core.frame.DataFrame'>\n",
      "RangeIndex: 176600 entries, 0 to 176599\n",
      "Data columns (total 14 columns):\n",
      " #   Column                  Non-Null Count   Dtype  \n",
      "---  ------                  --------------   -----  \n",
      " 0   Code Domaine            176600 non-null  object \n",
      " 1   Domaine                 176600 non-null  object \n",
      " 2   Code zone               176600 non-null  int64  \n",
      " 3   Zone                    176600 non-null  object \n",
      " 4   Code Élément            176600 non-null  int64  \n",
      " 5   Élément                 176600 non-null  object \n",
      " 6   Code Produit            176600 non-null  int64  \n",
      " 7   Produit                 176600 non-null  object \n",
      " 8   Code année              176600 non-null  int64  \n",
      " 9   Année                   176600 non-null  int64  \n",
      " 10  Unité                   176600 non-null  object \n",
      " 11  Valeur                  176600 non-null  float64\n",
      " 12  Symbole                 176600 non-null  object \n",
      " 13  Description du Symbole  176600 non-null  object \n",
      "dtypes: float64(1), int64(5), object(8)\n",
      "memory usage: 18.9+ MB\n"
     ]
    }
   ],
   "source": [
    "dispo_alim2017.info()"
   ]
  },
  {
   "cell_type": "code",
   "execution_count": 4,
   "id": "48a0a98f",
   "metadata": {
    "scrolled": false
   },
   "outputs": [
    {
     "name": "stdout",
     "output_type": "stream",
     "text": [
      "Code Domaine              0\n",
      "Domaine                   0\n",
      "Code zone                 0\n",
      "Zone                      0\n",
      "Code Élément              0\n",
      "Élément                   0\n",
      "Code Produit              0\n",
      "Produit                   0\n",
      "Code année                0\n",
      "Année                     0\n",
      "Unité                     0\n",
      "Valeur                    0\n",
      "Symbole                   0\n",
      "Description du Symbole    0\n",
      "dtype: int64\n"
     ]
    }
   ],
   "source": [
    "print(dispo_alim2017.isnull().sum())"
   ]
  },
  {
   "cell_type": "markdown",
   "id": "a1f92248",
   "metadata": {},
   "source": [
    "On voit qu'il n'y a pas de valeurs nulls dans la table dispo_alim2017 "
   ]
  },
  {
   "cell_type": "code",
   "execution_count": 5,
   "id": "3569312a",
   "metadata": {
    "scrolled": true
   },
   "outputs": [
    {
     "data": {
      "text/plain": [
       "array(['S', 'Fc'], dtype=object)"
      ]
     },
     "execution_count": 5,
     "metadata": {},
     "output_type": "execute_result"
    }
   ],
   "source": [
    "dispo_alim2017['Symbole'].unique()"
   ]
  },
  {
   "cell_type": "code",
   "execution_count": 6,
   "id": "10935930",
   "metadata": {
    "scrolled": true
   },
   "outputs": [
    {
     "data": {
      "text/plain": [
       "array(['Données standardisées', 'Donnée calculée'], dtype=object)"
      ]
     },
     "execution_count": 6,
     "metadata": {},
     "output_type": "execute_result"
    }
   ],
   "source": [
    "dispo_alim2017['Description du Symbole'].unique()"
   ]
  },
  {
   "cell_type": "markdown",
   "id": "734bb5db",
   "metadata": {},
   "source": [
    "Ces 2 types de symboles correspondent donc soit à une quantité(milliers de tonne) ou à un calcul(ex: Kcal/personne/jour) je juge ça inutile pour notre futur analyse je les supprimerai plus tard"
   ]
  },
  {
   "cell_type": "markdown",
   "id": "923a92e7",
   "metadata": {},
   "source": [
    "Import du fichier population"
   ]
  },
  {
   "cell_type": "code",
   "execution_count": 7,
   "id": "5819ad30",
   "metadata": {
    "scrolled": false
   },
   "outputs": [
    {
     "data": {
      "text/html": [
       "<div>\n",
       "<style scoped>\n",
       "    .dataframe tbody tr th:only-of-type {\n",
       "        vertical-align: middle;\n",
       "    }\n",
       "\n",
       "    .dataframe tbody tr th {\n",
       "        vertical-align: top;\n",
       "    }\n",
       "\n",
       "    .dataframe thead th {\n",
       "        text-align: right;\n",
       "    }\n",
       "</style>\n",
       "<table border=\"1\" class=\"dataframe\">\n",
       "  <thead>\n",
       "    <tr style=\"text-align: right;\">\n",
       "      <th></th>\n",
       "      <th>Code Domaine</th>\n",
       "      <th>Domaine</th>\n",
       "      <th>Code zone</th>\n",
       "      <th>Zone</th>\n",
       "      <th>Code Élément</th>\n",
       "      <th>Élément</th>\n",
       "      <th>Code Produit</th>\n",
       "      <th>Produit</th>\n",
       "      <th>Code année</th>\n",
       "      <th>Année</th>\n",
       "      <th>Unité</th>\n",
       "      <th>Valeur</th>\n",
       "      <th>Symbole</th>\n",
       "      <th>Description du Symbole</th>\n",
       "      <th>Note</th>\n",
       "    </tr>\n",
       "  </thead>\n",
       "  <tbody>\n",
       "    <tr>\n",
       "      <th>0</th>\n",
       "      <td>OA</td>\n",
       "      <td>Séries temporelles annuelles</td>\n",
       "      <td>2</td>\n",
       "      <td>Afghanistan</td>\n",
       "      <td>511</td>\n",
       "      <td>Population totale</td>\n",
       "      <td>3010</td>\n",
       "      <td>Population-Estimations</td>\n",
       "      <td>2000</td>\n",
       "      <td>2000</td>\n",
       "      <td>1000 personnes</td>\n",
       "      <td>20779.953</td>\n",
       "      <td>X</td>\n",
       "      <td>Sources internationales sûres</td>\n",
       "      <td>NaN</td>\n",
       "    </tr>\n",
       "    <tr>\n",
       "      <th>1</th>\n",
       "      <td>OA</td>\n",
       "      <td>Séries temporelles annuelles</td>\n",
       "      <td>2</td>\n",
       "      <td>Afghanistan</td>\n",
       "      <td>511</td>\n",
       "      <td>Population totale</td>\n",
       "      <td>3010</td>\n",
       "      <td>Population-Estimations</td>\n",
       "      <td>2001</td>\n",
       "      <td>2001</td>\n",
       "      <td>1000 personnes</td>\n",
       "      <td>21606.988</td>\n",
       "      <td>X</td>\n",
       "      <td>Sources internationales sûres</td>\n",
       "      <td>NaN</td>\n",
       "    </tr>\n",
       "    <tr>\n",
       "      <th>2</th>\n",
       "      <td>OA</td>\n",
       "      <td>Séries temporelles annuelles</td>\n",
       "      <td>2</td>\n",
       "      <td>Afghanistan</td>\n",
       "      <td>511</td>\n",
       "      <td>Population totale</td>\n",
       "      <td>3010</td>\n",
       "      <td>Population-Estimations</td>\n",
       "      <td>2002</td>\n",
       "      <td>2002</td>\n",
       "      <td>1000 personnes</td>\n",
       "      <td>22600.770</td>\n",
       "      <td>X</td>\n",
       "      <td>Sources internationales sûres</td>\n",
       "      <td>NaN</td>\n",
       "    </tr>\n",
       "    <tr>\n",
       "      <th>3</th>\n",
       "      <td>OA</td>\n",
       "      <td>Séries temporelles annuelles</td>\n",
       "      <td>2</td>\n",
       "      <td>Afghanistan</td>\n",
       "      <td>511</td>\n",
       "      <td>Population totale</td>\n",
       "      <td>3010</td>\n",
       "      <td>Population-Estimations</td>\n",
       "      <td>2003</td>\n",
       "      <td>2003</td>\n",
       "      <td>1000 personnes</td>\n",
       "      <td>23680.871</td>\n",
       "      <td>X</td>\n",
       "      <td>Sources internationales sûres</td>\n",
       "      <td>NaN</td>\n",
       "    </tr>\n",
       "    <tr>\n",
       "      <th>4</th>\n",
       "      <td>OA</td>\n",
       "      <td>Séries temporelles annuelles</td>\n",
       "      <td>2</td>\n",
       "      <td>Afghanistan</td>\n",
       "      <td>511</td>\n",
       "      <td>Population totale</td>\n",
       "      <td>3010</td>\n",
       "      <td>Population-Estimations</td>\n",
       "      <td>2004</td>\n",
       "      <td>2004</td>\n",
       "      <td>1000 personnes</td>\n",
       "      <td>24726.684</td>\n",
       "      <td>X</td>\n",
       "      <td>Sources internationales sûres</td>\n",
       "      <td>NaN</td>\n",
       "    </tr>\n",
       "  </tbody>\n",
       "</table>\n",
       "</div>"
      ],
      "text/plain": [
       "  Code Domaine                       Domaine  Code zone         Zone  \\\n",
       "0           OA  Séries temporelles annuelles          2  Afghanistan   \n",
       "1           OA  Séries temporelles annuelles          2  Afghanistan   \n",
       "2           OA  Séries temporelles annuelles          2  Afghanistan   \n",
       "3           OA  Séries temporelles annuelles          2  Afghanistan   \n",
       "4           OA  Séries temporelles annuelles          2  Afghanistan   \n",
       "\n",
       "   Code Élément            Élément  Code Produit                 Produit  \\\n",
       "0           511  Population totale          3010  Population-Estimations   \n",
       "1           511  Population totale          3010  Population-Estimations   \n",
       "2           511  Population totale          3010  Population-Estimations   \n",
       "3           511  Population totale          3010  Population-Estimations   \n",
       "4           511  Population totale          3010  Population-Estimations   \n",
       "\n",
       "   Code année  Année           Unité     Valeur Symbole  \\\n",
       "0        2000   2000  1000 personnes  20779.953       X   \n",
       "1        2001   2001  1000 personnes  21606.988       X   \n",
       "2        2002   2002  1000 personnes  22600.770       X   \n",
       "3        2003   2003  1000 personnes  23680.871       X   \n",
       "4        2004   2004  1000 personnes  24726.684       X   \n",
       "\n",
       "          Description du Symbole Note  \n",
       "0  Sources internationales sûres  NaN  \n",
       "1  Sources internationales sûres  NaN  \n",
       "2  Sources internationales sûres  NaN  \n",
       "3  Sources internationales sûres  NaN  \n",
       "4  Sources internationales sûres  NaN  "
      ]
     },
     "execution_count": 7,
     "metadata": {},
     "output_type": "execute_result"
    }
   ],
   "source": [
    "population = pd.read_csv(r'C:\\Users\\serha\\Desktop\\Formation Data Analyste\\P9_Kus_Serhat\\Population_2000_2018.csv')\n",
    "population.head()"
   ]
  },
  {
   "cell_type": "code",
   "execution_count": 8,
   "id": "2b6dc1db",
   "metadata": {
    "scrolled": true
   },
   "outputs": [
    {
     "name": "stdout",
     "output_type": "stream",
     "text": [
      "<class 'pandas.core.frame.DataFrame'>\n",
      "RangeIndex: 4411 entries, 0 to 4410\n",
      "Data columns (total 15 columns):\n",
      " #   Column                  Non-Null Count  Dtype  \n",
      "---  ------                  --------------  -----  \n",
      " 0   Code Domaine            4411 non-null   object \n",
      " 1   Domaine                 4411 non-null   object \n",
      " 2   Code zone               4411 non-null   int64  \n",
      " 3   Zone                    4411 non-null   object \n",
      " 4   Code Élément            4411 non-null   int64  \n",
      " 5   Élément                 4411 non-null   object \n",
      " 6   Code Produit            4411 non-null   int64  \n",
      " 7   Produit                 4411 non-null   object \n",
      " 8   Code année              4411 non-null   int64  \n",
      " 9   Année                   4411 non-null   int64  \n",
      " 10  Unité                   4411 non-null   object \n",
      " 11  Valeur                  4411 non-null   float64\n",
      " 12  Symbole                 4411 non-null   object \n",
      " 13  Description du Symbole  4411 non-null   object \n",
      " 14  Note                    258 non-null    object \n",
      "dtypes: float64(1), int64(5), object(9)\n",
      "memory usage: 517.0+ KB\n"
     ]
    }
   ],
   "source": [
    "population.info()"
   ]
  },
  {
   "cell_type": "code",
   "execution_count": 9,
   "id": "78730c5f",
   "metadata": {
    "scrolled": false
   },
   "outputs": [
    {
     "name": "stdout",
     "output_type": "stream",
     "text": [
      "Code Domaine                 0\n",
      "Domaine                      0\n",
      "Code zone                    0\n",
      "Zone                         0\n",
      "Code Élément                 0\n",
      "Élément                      0\n",
      "Code Produit                 0\n",
      "Produit                      0\n",
      "Code année                   0\n",
      "Année                        0\n",
      "Unité                        0\n",
      "Valeur                       0\n",
      "Symbole                      0\n",
      "Description du Symbole       0\n",
      "Note                      4153\n",
      "dtype: int64\n"
     ]
    }
   ],
   "source": [
    "print(population.isnull().sum())"
   ]
  },
  {
   "cell_type": "markdown",
   "id": "525d7fe6",
   "metadata": {},
   "source": [
    "Il y'a 4153 nulls dans la colonne Note, je décide donc de la supprimer."
   ]
  },
  {
   "cell_type": "code",
   "execution_count": 10,
   "id": "2160ae6e",
   "metadata": {},
   "outputs": [],
   "source": [
    "population.drop(['Note'],axis=1, inplace=True)"
   ]
  },
  {
   "cell_type": "code",
   "execution_count": 11,
   "id": "bb38e28c",
   "metadata": {},
   "outputs": [
    {
     "name": "stdout",
     "output_type": "stream",
     "text": [
      "<class 'pandas.core.frame.DataFrame'>\n",
      "RangeIndex: 4411 entries, 0 to 4410\n",
      "Data columns (total 14 columns):\n",
      " #   Column                  Non-Null Count  Dtype  \n",
      "---  ------                  --------------  -----  \n",
      " 0   Code Domaine            4411 non-null   object \n",
      " 1   Domaine                 4411 non-null   object \n",
      " 2   Code zone               4411 non-null   int64  \n",
      " 3   Zone                    4411 non-null   object \n",
      " 4   Code Élément            4411 non-null   int64  \n",
      " 5   Élément                 4411 non-null   object \n",
      " 6   Code Produit            4411 non-null   int64  \n",
      " 7   Produit                 4411 non-null   object \n",
      " 8   Code année              4411 non-null   int64  \n",
      " 9   Année                   4411 non-null   int64  \n",
      " 10  Unité                   4411 non-null   object \n",
      " 11  Valeur                  4411 non-null   float64\n",
      " 12  Symbole                 4411 non-null   object \n",
      " 13  Description du Symbole  4411 non-null   object \n",
      "dtypes: float64(1), int64(5), object(8)\n",
      "memory usage: 482.6+ KB\n"
     ]
    }
   ],
   "source": [
    "population.info()"
   ]
  },
  {
   "cell_type": "markdown",
   "id": "90d4d23d",
   "metadata": {},
   "source": [
    "On n'a donc plus de NAn dans chaque table"
   ]
  },
  {
   "cell_type": "code",
   "execution_count": 12,
   "id": "c83996d4",
   "metadata": {
    "scrolled": true
   },
   "outputs": [
    {
     "data": {
      "text/html": [
       "<div>\n",
       "<style scoped>\n",
       "    .dataframe tbody tr th:only-of-type {\n",
       "        vertical-align: middle;\n",
       "    }\n",
       "\n",
       "    .dataframe tbody tr th {\n",
       "        vertical-align: top;\n",
       "    }\n",
       "\n",
       "    .dataframe thead th {\n",
       "        text-align: right;\n",
       "    }\n",
       "</style>\n",
       "<table border=\"1\" class=\"dataframe\">\n",
       "  <thead>\n",
       "    <tr style=\"text-align: right;\">\n",
       "      <th></th>\n",
       "      <th>Code Domaine</th>\n",
       "      <th>Domaine</th>\n",
       "      <th>Code zone</th>\n",
       "      <th>Zone</th>\n",
       "      <th>Code Élément</th>\n",
       "      <th>Élément</th>\n",
       "      <th>Code Produit</th>\n",
       "      <th>Produit</th>\n",
       "      <th>Code année</th>\n",
       "      <th>Année</th>\n",
       "      <th>Unité</th>\n",
       "      <th>Valeur</th>\n",
       "      <th>Symbole</th>\n",
       "      <th>Description du Symbole</th>\n",
       "    </tr>\n",
       "  </thead>\n",
       "  <tbody>\n",
       "    <tr>\n",
       "      <th>17</th>\n",
       "      <td>OA</td>\n",
       "      <td>Séries temporelles annuelles</td>\n",
       "      <td>2</td>\n",
       "      <td>Afghanistan</td>\n",
       "      <td>511</td>\n",
       "      <td>Population totale</td>\n",
       "      <td>3010</td>\n",
       "      <td>Population-Estimations</td>\n",
       "      <td>2017</td>\n",
       "      <td>2017</td>\n",
       "      <td>1000 personnes</td>\n",
       "      <td>36296.113</td>\n",
       "      <td>X</td>\n",
       "      <td>Sources internationales sûres</td>\n",
       "    </tr>\n",
       "    <tr>\n",
       "      <th>36</th>\n",
       "      <td>OA</td>\n",
       "      <td>Séries temporelles annuelles</td>\n",
       "      <td>202</td>\n",
       "      <td>Afrique du Sud</td>\n",
       "      <td>511</td>\n",
       "      <td>Population totale</td>\n",
       "      <td>3010</td>\n",
       "      <td>Population-Estimations</td>\n",
       "      <td>2017</td>\n",
       "      <td>2017</td>\n",
       "      <td>1000 personnes</td>\n",
       "      <td>57009.756</td>\n",
       "      <td>X</td>\n",
       "      <td>Sources internationales sûres</td>\n",
       "    </tr>\n",
       "    <tr>\n",
       "      <th>55</th>\n",
       "      <td>OA</td>\n",
       "      <td>Séries temporelles annuelles</td>\n",
       "      <td>3</td>\n",
       "      <td>Albanie</td>\n",
       "      <td>511</td>\n",
       "      <td>Population totale</td>\n",
       "      <td>3010</td>\n",
       "      <td>Population-Estimations</td>\n",
       "      <td>2017</td>\n",
       "      <td>2017</td>\n",
       "      <td>1000 personnes</td>\n",
       "      <td>2884.169</td>\n",
       "      <td>X</td>\n",
       "      <td>Sources internationales sûres</td>\n",
       "    </tr>\n",
       "    <tr>\n",
       "      <th>74</th>\n",
       "      <td>OA</td>\n",
       "      <td>Séries temporelles annuelles</td>\n",
       "      <td>4</td>\n",
       "      <td>Algérie</td>\n",
       "      <td>511</td>\n",
       "      <td>Population totale</td>\n",
       "      <td>3010</td>\n",
       "      <td>Population-Estimations</td>\n",
       "      <td>2017</td>\n",
       "      <td>2017</td>\n",
       "      <td>1000 personnes</td>\n",
       "      <td>41389.189</td>\n",
       "      <td>X</td>\n",
       "      <td>Sources internationales sûres</td>\n",
       "    </tr>\n",
       "    <tr>\n",
       "      <th>93</th>\n",
       "      <td>OA</td>\n",
       "      <td>Séries temporelles annuelles</td>\n",
       "      <td>79</td>\n",
       "      <td>Allemagne</td>\n",
       "      <td>511</td>\n",
       "      <td>Population totale</td>\n",
       "      <td>3010</td>\n",
       "      <td>Population-Estimations</td>\n",
       "      <td>2017</td>\n",
       "      <td>2017</td>\n",
       "      <td>1000 personnes</td>\n",
       "      <td>82658.409</td>\n",
       "      <td>X</td>\n",
       "      <td>Sources internationales sûres</td>\n",
       "    </tr>\n",
       "  </tbody>\n",
       "</table>\n",
       "</div>"
      ],
      "text/plain": [
       "   Code Domaine                       Domaine  Code zone            Zone  \\\n",
       "17           OA  Séries temporelles annuelles          2     Afghanistan   \n",
       "36           OA  Séries temporelles annuelles        202  Afrique du Sud   \n",
       "55           OA  Séries temporelles annuelles          3         Albanie   \n",
       "74           OA  Séries temporelles annuelles          4         Algérie   \n",
       "93           OA  Séries temporelles annuelles         79       Allemagne   \n",
       "\n",
       "    Code Élément            Élément  Code Produit                 Produit  \\\n",
       "17           511  Population totale          3010  Population-Estimations   \n",
       "36           511  Population totale          3010  Population-Estimations   \n",
       "55           511  Population totale          3010  Population-Estimations   \n",
       "74           511  Population totale          3010  Population-Estimations   \n",
       "93           511  Population totale          3010  Population-Estimations   \n",
       "\n",
       "    Code année  Année           Unité     Valeur Symbole  \\\n",
       "17        2017   2017  1000 personnes  36296.113       X   \n",
       "36        2017   2017  1000 personnes  57009.756       X   \n",
       "55        2017   2017  1000 personnes   2884.169       X   \n",
       "74        2017   2017  1000 personnes  41389.189       X   \n",
       "93        2017   2017  1000 personnes  82658.409       X   \n",
       "\n",
       "           Description du Symbole  \n",
       "17  Sources internationales sûres  \n",
       "36  Sources internationales sûres  \n",
       "55  Sources internationales sûres  \n",
       "74  Sources internationales sûres  \n",
       "93  Sources internationales sûres  "
      ]
     },
     "execution_count": 12,
     "metadata": {},
     "output_type": "execute_result"
    }
   ],
   "source": [
    "population_2017=population.loc[population['Année']==2017,:].copy()\n",
    "population_2017.head()"
   ]
  },
  {
   "cell_type": "code",
   "execution_count": 13,
   "id": "bf1d5abd",
   "metadata": {
    "scrolled": true
   },
   "outputs": [
    {
     "data": {
      "text/plain": [
       "array(['Sources internationales sûres',\n",
       "       'Agrégat, peut inclure des données officielles, semi-officielles, estimées ou calculées'],\n",
       "      dtype=object)"
      ]
     },
     "execution_count": 13,
     "metadata": {},
     "output_type": "execute_result"
    }
   ],
   "source": [
    "population_2017['Description du Symbole'].unique()"
   ]
  },
  {
   "cell_type": "code",
   "execution_count": 14,
   "id": "706f97d8",
   "metadata": {
    "scrolled": false
   },
   "outputs": [
    {
     "data": {
      "text/plain": [
       "array(['X', 'A'], dtype=object)"
      ]
     },
     "execution_count": 14,
     "metadata": {},
     "output_type": "execute_result"
    }
   ],
   "source": [
    "population_2017['Symbole'].unique()"
   ]
  },
  {
   "cell_type": "markdown",
   "id": "5ab2df9c",
   "metadata": {},
   "source": [
    "Ici, comme avec la table de la dispo_alim, on a deux types de données : sources sûr ou autres, je pourrais les supprimer après"
   ]
  },
  {
   "cell_type": "code",
   "execution_count": 15,
   "id": "22848e62",
   "metadata": {
    "scrolled": true
   },
   "outputs": [
    {
     "data": {
      "text/plain": [
       "array(['Population-Estimations'], dtype=object)"
      ]
     },
     "execution_count": 15,
     "metadata": {},
     "output_type": "execute_result"
    }
   ],
   "source": [
    "population_2017['Produit'].unique()"
   ]
  },
  {
   "cell_type": "code",
   "execution_count": 16,
   "id": "b862bae9",
   "metadata": {
    "scrolled": true
   },
   "outputs": [
    {
     "data": {
      "text/plain": [
       "array(['Population totale'], dtype=object)"
      ]
     },
     "execution_count": 16,
     "metadata": {},
     "output_type": "execute_result"
    }
   ],
   "source": [
    "population_2017['Élément'].unique()"
   ]
  },
  {
   "cell_type": "markdown",
   "id": "a638a7e0",
   "metadata": {},
   "source": [
    "Je voulais vérifier si j'avais toujours bien le même type de population."
   ]
  },
  {
   "cell_type": "markdown",
   "id": "d3844880",
   "metadata": {},
   "source": [
    "#### Jointure"
   ]
  },
  {
   "cell_type": "code",
   "execution_count": 17,
   "id": "78659e09",
   "metadata": {
    "scrolled": true
   },
   "outputs": [
    {
     "data": {
      "text/plain": [
       "['both']\n",
       "Categories (1, object): ['both']"
      ]
     },
     "execution_count": 17,
     "metadata": {},
     "output_type": "execute_result"
    }
   ],
   "source": [
    "inner_join = pd.merge(dispo_alim2017,population_2017, on='Zone', how= 'inner', indicator=True)\n",
    "inner_join['_merge'].unique()"
   ]
  },
  {
   "cell_type": "markdown",
   "id": "7b1d1883",
   "metadata": {},
   "source": [
    "Comme nous avons que both dans la colonne '_merge' alors nous allons l'utiliser pour notre jointure"
   ]
  },
  {
   "cell_type": "code",
   "execution_count": 18,
   "id": "128fca47",
   "metadata": {},
   "outputs": [
    {
     "data": {
      "text/html": [
       "<div>\n",
       "<style scoped>\n",
       "    .dataframe tbody tr th:only-of-type {\n",
       "        vertical-align: middle;\n",
       "    }\n",
       "\n",
       "    .dataframe tbody tr th {\n",
       "        vertical-align: top;\n",
       "    }\n",
       "\n",
       "    .dataframe thead th {\n",
       "        text-align: right;\n",
       "    }\n",
       "</style>\n",
       "<table border=\"1\" class=\"dataframe\">\n",
       "  <thead>\n",
       "    <tr style=\"text-align: right;\">\n",
       "      <th></th>\n",
       "      <th>Code Domaine_x</th>\n",
       "      <th>Domaine_x</th>\n",
       "      <th>Code zone_x</th>\n",
       "      <th>Zone</th>\n",
       "      <th>Code Élément_x</th>\n",
       "      <th>Élément_x</th>\n",
       "      <th>Code Produit_x</th>\n",
       "      <th>Produit_x</th>\n",
       "      <th>Code année_x</th>\n",
       "      <th>Année_x</th>\n",
       "      <th>...</th>\n",
       "      <th>Code Élément_y</th>\n",
       "      <th>Élément_y</th>\n",
       "      <th>Code Produit_y</th>\n",
       "      <th>Produit_y</th>\n",
       "      <th>Code année_y</th>\n",
       "      <th>Année_y</th>\n",
       "      <th>Unité_y</th>\n",
       "      <th>Valeur_y</th>\n",
       "      <th>Symbole_y</th>\n",
       "      <th>Description du Symbole_y</th>\n",
       "    </tr>\n",
       "  </thead>\n",
       "  <tbody>\n",
       "    <tr>\n",
       "      <th>0</th>\n",
       "      <td>FBS</td>\n",
       "      <td>Nouveaux Bilans Alimentaire</td>\n",
       "      <td>2</td>\n",
       "      <td>Afghanistan</td>\n",
       "      <td>5511</td>\n",
       "      <td>Production</td>\n",
       "      <td>2511</td>\n",
       "      <td>Blé et produits</td>\n",
       "      <td>2017</td>\n",
       "      <td>2017</td>\n",
       "      <td>...</td>\n",
       "      <td>511</td>\n",
       "      <td>Population totale</td>\n",
       "      <td>3010</td>\n",
       "      <td>Population-Estimations</td>\n",
       "      <td>2017</td>\n",
       "      <td>2017</td>\n",
       "      <td>1000 personnes</td>\n",
       "      <td>36296.113</td>\n",
       "      <td>X</td>\n",
       "      <td>Sources internationales sûres</td>\n",
       "    </tr>\n",
       "    <tr>\n",
       "      <th>1</th>\n",
       "      <td>FBS</td>\n",
       "      <td>Nouveaux Bilans Alimentaire</td>\n",
       "      <td>2</td>\n",
       "      <td>Afghanistan</td>\n",
       "      <td>5611</td>\n",
       "      <td>Importations - Quantité</td>\n",
       "      <td>2511</td>\n",
       "      <td>Blé et produits</td>\n",
       "      <td>2017</td>\n",
       "      <td>2017</td>\n",
       "      <td>...</td>\n",
       "      <td>511</td>\n",
       "      <td>Population totale</td>\n",
       "      <td>3010</td>\n",
       "      <td>Population-Estimations</td>\n",
       "      <td>2017</td>\n",
       "      <td>2017</td>\n",
       "      <td>1000 personnes</td>\n",
       "      <td>36296.113</td>\n",
       "      <td>X</td>\n",
       "      <td>Sources internationales sûres</td>\n",
       "    </tr>\n",
       "    <tr>\n",
       "      <th>2</th>\n",
       "      <td>FBS</td>\n",
       "      <td>Nouveaux Bilans Alimentaire</td>\n",
       "      <td>2</td>\n",
       "      <td>Afghanistan</td>\n",
       "      <td>5072</td>\n",
       "      <td>Variation de stock</td>\n",
       "      <td>2511</td>\n",
       "      <td>Blé et produits</td>\n",
       "      <td>2017</td>\n",
       "      <td>2017</td>\n",
       "      <td>...</td>\n",
       "      <td>511</td>\n",
       "      <td>Population totale</td>\n",
       "      <td>3010</td>\n",
       "      <td>Population-Estimations</td>\n",
       "      <td>2017</td>\n",
       "      <td>2017</td>\n",
       "      <td>1000 personnes</td>\n",
       "      <td>36296.113</td>\n",
       "      <td>X</td>\n",
       "      <td>Sources internationales sûres</td>\n",
       "    </tr>\n",
       "    <tr>\n",
       "      <th>3</th>\n",
       "      <td>FBS</td>\n",
       "      <td>Nouveaux Bilans Alimentaire</td>\n",
       "      <td>2</td>\n",
       "      <td>Afghanistan</td>\n",
       "      <td>5911</td>\n",
       "      <td>Exportations - Quantité</td>\n",
       "      <td>2511</td>\n",
       "      <td>Blé et produits</td>\n",
       "      <td>2017</td>\n",
       "      <td>2017</td>\n",
       "      <td>...</td>\n",
       "      <td>511</td>\n",
       "      <td>Population totale</td>\n",
       "      <td>3010</td>\n",
       "      <td>Population-Estimations</td>\n",
       "      <td>2017</td>\n",
       "      <td>2017</td>\n",
       "      <td>1000 personnes</td>\n",
       "      <td>36296.113</td>\n",
       "      <td>X</td>\n",
       "      <td>Sources internationales sûres</td>\n",
       "    </tr>\n",
       "    <tr>\n",
       "      <th>4</th>\n",
       "      <td>FBS</td>\n",
       "      <td>Nouveaux Bilans Alimentaire</td>\n",
       "      <td>2</td>\n",
       "      <td>Afghanistan</td>\n",
       "      <td>5301</td>\n",
       "      <td>Disponibilité intérieure</td>\n",
       "      <td>2511</td>\n",
       "      <td>Blé et produits</td>\n",
       "      <td>2017</td>\n",
       "      <td>2017</td>\n",
       "      <td>...</td>\n",
       "      <td>511</td>\n",
       "      <td>Population totale</td>\n",
       "      <td>3010</td>\n",
       "      <td>Population-Estimations</td>\n",
       "      <td>2017</td>\n",
       "      <td>2017</td>\n",
       "      <td>1000 personnes</td>\n",
       "      <td>36296.113</td>\n",
       "      <td>X</td>\n",
       "      <td>Sources internationales sûres</td>\n",
       "    </tr>\n",
       "  </tbody>\n",
       "</table>\n",
       "<p>5 rows × 27 columns</p>\n",
       "</div>"
      ],
      "text/plain": [
       "  Code Domaine_x                    Domaine_x  Code zone_x         Zone  \\\n",
       "0            FBS  Nouveaux Bilans Alimentaire            2  Afghanistan   \n",
       "1            FBS  Nouveaux Bilans Alimentaire            2  Afghanistan   \n",
       "2            FBS  Nouveaux Bilans Alimentaire            2  Afghanistan   \n",
       "3            FBS  Nouveaux Bilans Alimentaire            2  Afghanistan   \n",
       "4            FBS  Nouveaux Bilans Alimentaire            2  Afghanistan   \n",
       "\n",
       "   Code Élément_x                 Élément_x  Code Produit_x        Produit_x  \\\n",
       "0            5511                Production            2511  Blé et produits   \n",
       "1            5611   Importations - Quantité            2511  Blé et produits   \n",
       "2            5072        Variation de stock            2511  Blé et produits   \n",
       "3            5911   Exportations - Quantité            2511  Blé et produits   \n",
       "4            5301  Disponibilité intérieure            2511  Blé et produits   \n",
       "\n",
       "   Code année_x  Année_x  ... Code Élément_y          Élément_y  \\\n",
       "0          2017     2017  ...            511  Population totale   \n",
       "1          2017     2017  ...            511  Population totale   \n",
       "2          2017     2017  ...            511  Population totale   \n",
       "3          2017     2017  ...            511  Population totale   \n",
       "4          2017     2017  ...            511  Population totale   \n",
       "\n",
       "  Code Produit_y               Produit_y Code année_y Année_y         Unité_y  \\\n",
       "0           3010  Population-Estimations         2017    2017  1000 personnes   \n",
       "1           3010  Population-Estimations         2017    2017  1000 personnes   \n",
       "2           3010  Population-Estimations         2017    2017  1000 personnes   \n",
       "3           3010  Population-Estimations         2017    2017  1000 personnes   \n",
       "4           3010  Population-Estimations         2017    2017  1000 personnes   \n",
       "\n",
       "    Valeur_y Symbole_y       Description du Symbole_y  \n",
       "0  36296.113         X  Sources internationales sûres  \n",
       "1  36296.113         X  Sources internationales sûres  \n",
       "2  36296.113         X  Sources internationales sûres  \n",
       "3  36296.113         X  Sources internationales sûres  \n",
       "4  36296.113         X  Sources internationales sûres  \n",
       "\n",
       "[5 rows x 27 columns]"
      ]
     },
     "execution_count": 18,
     "metadata": {},
     "output_type": "execute_result"
    }
   ],
   "source": [
    "df_final = pd.merge(dispo_alim2017,population_2017, on='Zone', how= 'inner')\n",
    "df_final.head()"
   ]
  },
  {
   "cell_type": "code",
   "execution_count": 19,
   "id": "32646580",
   "metadata": {},
   "outputs": [],
   "source": [
    "df_final.drop(columns=['Code Domaine_x','Domaine_x','Code zone_x','Code Élément_x','Code Produit_x','Code année_x','Symbole_x','Description du Symbole_x','Code Élément_y','Élément_y','Code Produit_y','Produit_y','Code année_y','Année_y','Unité_y','Symbole_y','Description du Symbole_y','Code zone_y','Code Domaine_y','Domaine_y'],inplace=True)"
   ]
  },
  {
   "cell_type": "markdown",
   "id": "d7bb850a",
   "metadata": {},
   "source": [
    "Ici j'ai supprimé les colonnes que j'ai jugé inutile à notre analyse"
   ]
  },
  {
   "cell_type": "code",
   "execution_count": 20,
   "id": "d147cf8a",
   "metadata": {},
   "outputs": [],
   "source": [
    "df_final.rename(columns={'Zone':'Pays','Élément_x':'Élément','Produit_x':'Produit','Année_x':'Année','Unité_x':'Unité','Valeur_x':'Valeur_produit','Valeur_y':'Population'},inplace=True)"
   ]
  },
  {
   "cell_type": "markdown",
   "id": "1db19ded",
   "metadata": {},
   "source": [
    "Ici j'ai renommé les colonnes pour qu'on ait des noms compréhensible"
   ]
  },
  {
   "cell_type": "code",
   "execution_count": 21,
   "id": "fe5ccc8c",
   "metadata": {
    "scrolled": true
   },
   "outputs": [
    {
     "data": {
      "text/html": [
       "<div>\n",
       "<style scoped>\n",
       "    .dataframe tbody tr th:only-of-type {\n",
       "        vertical-align: middle;\n",
       "    }\n",
       "\n",
       "    .dataframe tbody tr th {\n",
       "        vertical-align: top;\n",
       "    }\n",
       "\n",
       "    .dataframe thead th {\n",
       "        text-align: right;\n",
       "    }\n",
       "</style>\n",
       "<table border=\"1\" class=\"dataframe\">\n",
       "  <thead>\n",
       "    <tr style=\"text-align: right;\">\n",
       "      <th></th>\n",
       "      <th>Pays</th>\n",
       "      <th>Élément</th>\n",
       "      <th>Produit</th>\n",
       "      <th>Année</th>\n",
       "      <th>Unité</th>\n",
       "      <th>Valeur_produit</th>\n",
       "      <th>Population</th>\n",
       "    </tr>\n",
       "  </thead>\n",
       "  <tbody>\n",
       "    <tr>\n",
       "      <th>0</th>\n",
       "      <td>Afghanistan</td>\n",
       "      <td>Production</td>\n",
       "      <td>Blé et produits</td>\n",
       "      <td>2017</td>\n",
       "      <td>Milliers de tonnes</td>\n",
       "      <td>4281.0</td>\n",
       "      <td>36296.113</td>\n",
       "    </tr>\n",
       "    <tr>\n",
       "      <th>1</th>\n",
       "      <td>Afghanistan</td>\n",
       "      <td>Importations - Quantité</td>\n",
       "      <td>Blé et produits</td>\n",
       "      <td>2017</td>\n",
       "      <td>Milliers de tonnes</td>\n",
       "      <td>2302.0</td>\n",
       "      <td>36296.113</td>\n",
       "    </tr>\n",
       "    <tr>\n",
       "      <th>2</th>\n",
       "      <td>Afghanistan</td>\n",
       "      <td>Variation de stock</td>\n",
       "      <td>Blé et produits</td>\n",
       "      <td>2017</td>\n",
       "      <td>Milliers de tonnes</td>\n",
       "      <td>-119.0</td>\n",
       "      <td>36296.113</td>\n",
       "    </tr>\n",
       "    <tr>\n",
       "      <th>3</th>\n",
       "      <td>Afghanistan</td>\n",
       "      <td>Exportations - Quantité</td>\n",
       "      <td>Blé et produits</td>\n",
       "      <td>2017</td>\n",
       "      <td>Milliers de tonnes</td>\n",
       "      <td>0.0</td>\n",
       "      <td>36296.113</td>\n",
       "    </tr>\n",
       "    <tr>\n",
       "      <th>4</th>\n",
       "      <td>Afghanistan</td>\n",
       "      <td>Disponibilité intérieure</td>\n",
       "      <td>Blé et produits</td>\n",
       "      <td>2017</td>\n",
       "      <td>Milliers de tonnes</td>\n",
       "      <td>6701.0</td>\n",
       "      <td>36296.113</td>\n",
       "    </tr>\n",
       "  </tbody>\n",
       "</table>\n",
       "</div>"
      ],
      "text/plain": [
       "          Pays                   Élément          Produit  Année  \\\n",
       "0  Afghanistan                Production  Blé et produits   2017   \n",
       "1  Afghanistan   Importations - Quantité  Blé et produits   2017   \n",
       "2  Afghanistan        Variation de stock  Blé et produits   2017   \n",
       "3  Afghanistan   Exportations - Quantité  Blé et produits   2017   \n",
       "4  Afghanistan  Disponibilité intérieure  Blé et produits   2017   \n",
       "\n",
       "                Unité  Valeur_produit  Population  \n",
       "0  Milliers de tonnes          4281.0   36296.113  \n",
       "1  Milliers de tonnes          2302.0   36296.113  \n",
       "2  Milliers de tonnes          -119.0   36296.113  \n",
       "3  Milliers de tonnes             0.0   36296.113  \n",
       "4  Milliers de tonnes          6701.0   36296.113  "
      ]
     },
     "execution_count": 21,
     "metadata": {},
     "output_type": "execute_result"
    }
   ],
   "source": [
    "df_final.head()"
   ]
  },
  {
   "cell_type": "code",
   "execution_count": 22,
   "id": "ee37dc27",
   "metadata": {},
   "outputs": [],
   "source": [
    "df_final['Population'] = df_final['Population']*1000"
   ]
  },
  {
   "cell_type": "markdown",
   "id": "84e497f2",
   "metadata": {},
   "source": [
    "Calcul pour avoir la population en million"
   ]
  },
  {
   "cell_type": "code",
   "execution_count": 23,
   "id": "e0b9685e",
   "metadata": {
    "scrolled": true
   },
   "outputs": [
    {
     "data": {
      "text/html": [
       "<div>\n",
       "<style scoped>\n",
       "    .dataframe tbody tr th:only-of-type {\n",
       "        vertical-align: middle;\n",
       "    }\n",
       "\n",
       "    .dataframe tbody tr th {\n",
       "        vertical-align: top;\n",
       "    }\n",
       "\n",
       "    .dataframe thead th {\n",
       "        text-align: right;\n",
       "    }\n",
       "</style>\n",
       "<table border=\"1\" class=\"dataframe\">\n",
       "  <thead>\n",
       "    <tr style=\"text-align: right;\">\n",
       "      <th></th>\n",
       "      <th>Pays</th>\n",
       "      <th>Élément</th>\n",
       "      <th>Produit</th>\n",
       "      <th>Année</th>\n",
       "      <th>Unité</th>\n",
       "      <th>Valeur_produit</th>\n",
       "      <th>Population</th>\n",
       "    </tr>\n",
       "  </thead>\n",
       "  <tbody>\n",
       "    <tr>\n",
       "      <th>0</th>\n",
       "      <td>Afghanistan</td>\n",
       "      <td>Production</td>\n",
       "      <td>Blé et produits</td>\n",
       "      <td>2017</td>\n",
       "      <td>Milliers de tonnes</td>\n",
       "      <td>4281.0</td>\n",
       "      <td>36296113.0</td>\n",
       "    </tr>\n",
       "    <tr>\n",
       "      <th>1</th>\n",
       "      <td>Afghanistan</td>\n",
       "      <td>Importations - Quantité</td>\n",
       "      <td>Blé et produits</td>\n",
       "      <td>2017</td>\n",
       "      <td>Milliers de tonnes</td>\n",
       "      <td>2302.0</td>\n",
       "      <td>36296113.0</td>\n",
       "    </tr>\n",
       "    <tr>\n",
       "      <th>2</th>\n",
       "      <td>Afghanistan</td>\n",
       "      <td>Variation de stock</td>\n",
       "      <td>Blé et produits</td>\n",
       "      <td>2017</td>\n",
       "      <td>Milliers de tonnes</td>\n",
       "      <td>-119.0</td>\n",
       "      <td>36296113.0</td>\n",
       "    </tr>\n",
       "    <tr>\n",
       "      <th>3</th>\n",
       "      <td>Afghanistan</td>\n",
       "      <td>Exportations - Quantité</td>\n",
       "      <td>Blé et produits</td>\n",
       "      <td>2017</td>\n",
       "      <td>Milliers de tonnes</td>\n",
       "      <td>0.0</td>\n",
       "      <td>36296113.0</td>\n",
       "    </tr>\n",
       "    <tr>\n",
       "      <th>4</th>\n",
       "      <td>Afghanistan</td>\n",
       "      <td>Disponibilité intérieure</td>\n",
       "      <td>Blé et produits</td>\n",
       "      <td>2017</td>\n",
       "      <td>Milliers de tonnes</td>\n",
       "      <td>6701.0</td>\n",
       "      <td>36296113.0</td>\n",
       "    </tr>\n",
       "  </tbody>\n",
       "</table>\n",
       "</div>"
      ],
      "text/plain": [
       "          Pays                   Élément          Produit  Année  \\\n",
       "0  Afghanistan                Production  Blé et produits   2017   \n",
       "1  Afghanistan   Importations - Quantité  Blé et produits   2017   \n",
       "2  Afghanistan        Variation de stock  Blé et produits   2017   \n",
       "3  Afghanistan   Exportations - Quantité  Blé et produits   2017   \n",
       "4  Afghanistan  Disponibilité intérieure  Blé et produits   2017   \n",
       "\n",
       "                Unité  Valeur_produit  Population  \n",
       "0  Milliers de tonnes          4281.0  36296113.0  \n",
       "1  Milliers de tonnes          2302.0  36296113.0  \n",
       "2  Milliers de tonnes          -119.0  36296113.0  \n",
       "3  Milliers de tonnes             0.0  36296113.0  \n",
       "4  Milliers de tonnes          6701.0  36296113.0  "
      ]
     },
     "execution_count": 23,
     "metadata": {},
     "output_type": "execute_result"
    }
   ],
   "source": [
    "df_final.head()"
   ]
  },
  {
   "cell_type": "code",
   "execution_count": 24,
   "id": "56899825",
   "metadata": {},
   "outputs": [],
   "source": [
    "df_final = df_final.loc[df_final['Produit']=='Viande de Volailles' ,:]"
   ]
  },
  {
   "cell_type": "markdown",
   "id": "de0b161b",
   "metadata": {},
   "source": [
    "Ici je fais un filtre uniquement sur la viande de volailles car nous sommes une entreprise basé uniquement sur le poulet"
   ]
  },
  {
   "cell_type": "code",
   "execution_count": 25,
   "id": "ac6468ca",
   "metadata": {},
   "outputs": [
    {
     "data": {
      "text/plain": [
       "(2061, 7)"
      ]
     },
     "execution_count": 25,
     "metadata": {},
     "output_type": "execute_result"
    }
   ],
   "source": [
    "df_final.shape"
   ]
  },
  {
   "cell_type": "code",
   "execution_count": 26,
   "id": "4893f60f",
   "metadata": {
    "scrolled": true
   },
   "outputs": [
    {
     "data": {
      "text/html": [
       "<div>\n",
       "<style scoped>\n",
       "    .dataframe tbody tr th:only-of-type {\n",
       "        vertical-align: middle;\n",
       "    }\n",
       "\n",
       "    .dataframe tbody tr th {\n",
       "        vertical-align: top;\n",
       "    }\n",
       "\n",
       "    .dataframe thead th {\n",
       "        text-align: right;\n",
       "    }\n",
       "</style>\n",
       "<table border=\"1\" class=\"dataframe\">\n",
       "  <thead>\n",
       "    <tr style=\"text-align: right;\">\n",
       "      <th></th>\n",
       "      <th>Pays</th>\n",
       "      <th>Élément</th>\n",
       "      <th>Produit</th>\n",
       "      <th>Année</th>\n",
       "      <th>Unité</th>\n",
       "      <th>Valeur_produit</th>\n",
       "      <th>Population</th>\n",
       "    </tr>\n",
       "  </thead>\n",
       "  <tbody>\n",
       "    <tr>\n",
       "      <th>651</th>\n",
       "      <td>Afghanistan</td>\n",
       "      <td>Production</td>\n",
       "      <td>Viande de Volailles</td>\n",
       "      <td>2017</td>\n",
       "      <td>Milliers de tonnes</td>\n",
       "      <td>28.0</td>\n",
       "      <td>36296113.0</td>\n",
       "    </tr>\n",
       "    <tr>\n",
       "      <th>652</th>\n",
       "      <td>Afghanistan</td>\n",
       "      <td>Importations - Quantité</td>\n",
       "      <td>Viande de Volailles</td>\n",
       "      <td>2017</td>\n",
       "      <td>Milliers de tonnes</td>\n",
       "      <td>29.0</td>\n",
       "      <td>36296113.0</td>\n",
       "    </tr>\n",
       "    <tr>\n",
       "      <th>653</th>\n",
       "      <td>Afghanistan</td>\n",
       "      <td>Variation de stock</td>\n",
       "      <td>Viande de Volailles</td>\n",
       "      <td>2017</td>\n",
       "      <td>Milliers de tonnes</td>\n",
       "      <td>0.0</td>\n",
       "      <td>36296113.0</td>\n",
       "    </tr>\n",
       "    <tr>\n",
       "      <th>654</th>\n",
       "      <td>Afghanistan</td>\n",
       "      <td>Disponibilité intérieure</td>\n",
       "      <td>Viande de Volailles</td>\n",
       "      <td>2017</td>\n",
       "      <td>Milliers de tonnes</td>\n",
       "      <td>57.0</td>\n",
       "      <td>36296113.0</td>\n",
       "    </tr>\n",
       "    <tr>\n",
       "      <th>655</th>\n",
       "      <td>Afghanistan</td>\n",
       "      <td>Pertes</td>\n",
       "      <td>Viande de Volailles</td>\n",
       "      <td>2017</td>\n",
       "      <td>Milliers de tonnes</td>\n",
       "      <td>2.0</td>\n",
       "      <td>36296113.0</td>\n",
       "    </tr>\n",
       "  </tbody>\n",
       "</table>\n",
       "</div>"
      ],
      "text/plain": [
       "            Pays                   Élément              Produit  Année  \\\n",
       "651  Afghanistan                Production  Viande de Volailles   2017   \n",
       "652  Afghanistan   Importations - Quantité  Viande de Volailles   2017   \n",
       "653  Afghanistan        Variation de stock  Viande de Volailles   2017   \n",
       "654  Afghanistan  Disponibilité intérieure  Viande de Volailles   2017   \n",
       "655  Afghanistan                    Pertes  Viande de Volailles   2017   \n",
       "\n",
       "                  Unité  Valeur_produit  Population  \n",
       "651  Milliers de tonnes            28.0  36296113.0  \n",
       "652  Milliers de tonnes            29.0  36296113.0  \n",
       "653  Milliers de tonnes             0.0  36296113.0  \n",
       "654  Milliers de tonnes            57.0  36296113.0  \n",
       "655  Milliers de tonnes             2.0  36296113.0  "
      ]
     },
     "execution_count": 26,
     "metadata": {},
     "output_type": "execute_result"
    }
   ],
   "source": [
    "df_final.head()"
   ]
  },
  {
   "cell_type": "markdown",
   "id": "14191cae",
   "metadata": {},
   "source": [
    "#### Outliers"
   ]
  },
  {
   "cell_type": "code",
   "execution_count": 27,
   "id": "62dfcfd6",
   "metadata": {
    "scrolled": false
   },
   "outputs": [
    {
     "data": {
      "text/html": [
       "<div>\n",
       "<style scoped>\n",
       "    .dataframe tbody tr th:only-of-type {\n",
       "        vertical-align: middle;\n",
       "    }\n",
       "\n",
       "    .dataframe tbody tr th {\n",
       "        vertical-align: top;\n",
       "    }\n",
       "\n",
       "    .dataframe thead th {\n",
       "        text-align: right;\n",
       "    }\n",
       "</style>\n",
       "<table border=\"1\" class=\"dataframe\">\n",
       "  <thead>\n",
       "    <tr style=\"text-align: right;\">\n",
       "      <th></th>\n",
       "      <th>Année</th>\n",
       "      <th>Valeur_produit</th>\n",
       "      <th>Population</th>\n",
       "    </tr>\n",
       "  </thead>\n",
       "  <tbody>\n",
       "    <tr>\n",
       "      <th>count</th>\n",
       "      <td>2061.0</td>\n",
       "      <td>2061.000000</td>\n",
       "      <td>2.061000e+03</td>\n",
       "    </tr>\n",
       "    <tr>\n",
       "      <th>mean</th>\n",
       "      <td>2017.0</td>\n",
       "      <td>198.614794</td>\n",
       "      <td>4.554985e+07</td>\n",
       "    </tr>\n",
       "    <tr>\n",
       "      <th>std</th>\n",
       "      <td>0.0</td>\n",
       "      <td>1173.205732</td>\n",
       "      <td>1.614335e+08</td>\n",
       "    </tr>\n",
       "    <tr>\n",
       "      <th>min</th>\n",
       "      <td>2017.0</td>\n",
       "      <td>-125.000000</td>\n",
       "      <td>5.204500e+04</td>\n",
       "    </tr>\n",
       "    <tr>\n",
       "      <th>25%</th>\n",
       "      <td>2017.0</td>\n",
       "      <td>1.000000</td>\n",
       "      <td>2.884169e+06</td>\n",
       "    </tr>\n",
       "    <tr>\n",
       "      <th>50%</th>\n",
       "      <td>2017.0</td>\n",
       "      <td>9.440000</td>\n",
       "      <td>9.845320e+06</td>\n",
       "    </tr>\n",
       "    <tr>\n",
       "      <th>75%</th>\n",
       "      <td>2017.0</td>\n",
       "      <td>57.000000</td>\n",
       "      <td>3.110465e+07</td>\n",
       "    </tr>\n",
       "    <tr>\n",
       "      <th>max</th>\n",
       "      <td>2017.0</td>\n",
       "      <td>21914.000000</td>\n",
       "      <td>1.421022e+09</td>\n",
       "    </tr>\n",
       "  </tbody>\n",
       "</table>\n",
       "</div>"
      ],
      "text/plain": [
       "        Année  Valeur_produit    Population\n",
       "count  2061.0     2061.000000  2.061000e+03\n",
       "mean   2017.0      198.614794  4.554985e+07\n",
       "std       0.0     1173.205732  1.614335e+08\n",
       "min    2017.0     -125.000000  5.204500e+04\n",
       "25%    2017.0        1.000000  2.884169e+06\n",
       "50%    2017.0        9.440000  9.845320e+06\n",
       "75%    2017.0       57.000000  3.110465e+07\n",
       "max    2017.0    21914.000000  1.421022e+09"
      ]
     },
     "execution_count": 27,
     "metadata": {},
     "output_type": "execute_result"
    }
   ],
   "source": [
    "df_final.describe()"
   ]
  },
  {
   "cell_type": "code",
   "execution_count": 28,
   "id": "3a4962f2",
   "metadata": {},
   "outputs": [],
   "source": [
    "#les valeurs en liste\n",
    "val = df_final['Valeur_produit']\n",
    "val = sorted(val)"
   ]
  },
  {
   "cell_type": "code",
   "execution_count": 29,
   "id": "6296ada0",
   "metadata": {
    "scrolled": true
   },
   "outputs": [
    {
     "data": {
      "text/plain": [
       "(1.0, 57.0)"
      ]
     },
     "execution_count": 29,
     "metadata": {},
     "output_type": "execute_result"
    }
   ],
   "source": [
    "#Calculs du 1er quartile et 3ème quartile\n",
    "q1,q3 = np.percentile(val,[25,75])\n",
    "q1,q3"
   ]
  },
  {
   "cell_type": "code",
   "execution_count": 30,
   "id": "a15be6ce",
   "metadata": {
    "scrolled": true
   },
   "outputs": [
    {
     "data": {
      "text/plain": [
       "56.0"
      ]
     },
     "execution_count": 30,
     "metadata": {},
     "output_type": "execute_result"
    }
   ],
   "source": [
    "#Calcul de l'interquartile\n",
    "interq = q3-q1\n",
    "interq"
   ]
  },
  {
   "cell_type": "code",
   "execution_count": 31,
   "id": "13929915",
   "metadata": {},
   "outputs": [
    {
     "data": {
      "text/plain": [
       "-83.0"
      ]
     },
     "execution_count": 31,
     "metadata": {},
     "output_type": "execute_result"
    }
   ],
   "source": [
    "#Calcul de la borne inférieur\n",
    "lower_bound = q1 - (1.5 * interq)\n",
    "lower_bound"
   ]
  },
  {
   "cell_type": "code",
   "execution_count": 32,
   "id": "60737d9d",
   "metadata": {},
   "outputs": [
    {
     "data": {
      "text/plain": [
       "141.0"
      ]
     },
     "execution_count": 32,
     "metadata": {},
     "output_type": "execute_result"
    }
   ],
   "source": [
    "#Calcul de la borne supérieur\n",
    "upper_bound = q3 + (1.5 * interq)\n",
    "upper_bound"
   ]
  },
  {
   "cell_type": "code",
   "execution_count": 33,
   "id": "d91a5b01",
   "metadata": {
    "scrolled": true
   },
   "outputs": [
    {
     "name": "stdout",
     "output_type": "stream",
     "text": [
      "Il y a  296 valeurs atypiques \n"
     ]
    }
   ],
   "source": [
    "outliers = [x for x in val if x <= lower_bound or x >= upper_bound]\n",
    "print(\"Il y a \", len(outliers),\"valeurs atypiques \")"
   ]
  },
  {
   "cell_type": "code",
   "execution_count": 34,
   "id": "9c589404",
   "metadata": {
    "scrolled": true
   },
   "outputs": [
    {
     "data": {
      "text/plain": [
       "{'whiskers': [<matplotlib.lines.Line2D at 0x25da2044be0>,\n",
       "  <matplotlib.lines.Line2D at 0x25da2044f40>],\n",
       " 'caps': [<matplotlib.lines.Line2D at 0x25da205b2e0>,\n",
       "  <matplotlib.lines.Line2D at 0x25da205b640>],\n",
       " 'boxes': [<matplotlib.lines.Line2D at 0x25da2044880>],\n",
       " 'medians': [<matplotlib.lines.Line2D at 0x25da205b9a0>],\n",
       " 'fliers': [<matplotlib.lines.Line2D at 0x25da205bd00>],\n",
       " 'means': []}"
      ]
     },
     "execution_count": 34,
     "metadata": {},
     "output_type": "execute_result"
    },
    {
     "data": {
      "image/png": "[encoded data removed]",
      "text/plain": [
       "<Figure size 432x288 with 1 Axes>"
      ]
     },
     "metadata": {
      "needs_background": "light"
     },
     "output_type": "display_data"
    }
   ],
   "source": [
    "plt.ylim(0,22000)\n",
    "plt.title(\"Boîte à moustache des valeurs des produits avec les outliers\")\n",
    "plt.boxplot(val, sym='r+')"
   ]
  },
  {
   "cell_type": "markdown",
   "id": "2cc29677",
   "metadata": {},
   "source": [
    "On voit sur ce boxplot que les valeurs vraiment trop grandes(>10000) sont des sûrement des gros pays"
   ]
  },
  {
   "cell_type": "code",
   "execution_count": 35,
   "id": "0fc1ce03",
   "metadata": {
    "scrolled": true
   },
   "outputs": [
    {
     "data": {
      "text/html": [
       "<div>\n",
       "<style scoped>\n",
       "    .dataframe tbody tr th:only-of-type {\n",
       "        vertical-align: middle;\n",
       "    }\n",
       "\n",
       "    .dataframe tbody tr th {\n",
       "        vertical-align: top;\n",
       "    }\n",
       "\n",
       "    .dataframe thead th {\n",
       "        text-align: right;\n",
       "    }\n",
       "</style>\n",
       "<table border=\"1\" class=\"dataframe\">\n",
       "  <thead>\n",
       "    <tr style=\"text-align: right;\">\n",
       "      <th></th>\n",
       "      <th>Pays</th>\n",
       "      <th>Élément</th>\n",
       "      <th>Produit</th>\n",
       "      <th>Année</th>\n",
       "      <th>Unité</th>\n",
       "      <th>Valeur_produit</th>\n",
       "      <th>Population</th>\n",
       "    </tr>\n",
       "  </thead>\n",
       "  <tbody>\n",
       "    <tr>\n",
       "      <th>25062</th>\n",
       "      <td>Brésil</td>\n",
       "      <td>Production</td>\n",
       "      <td>Viande de Volailles</td>\n",
       "      <td>2017</td>\n",
       "      <td>Milliers de tonnes</td>\n",
       "      <td>14201.0</td>\n",
       "      <td>2.078338e+08</td>\n",
       "    </tr>\n",
       "    <tr>\n",
       "      <th>25066</th>\n",
       "      <td>Brésil</td>\n",
       "      <td>Disponibilité intérieure</td>\n",
       "      <td>Viande de Volailles</td>\n",
       "      <td>2017</td>\n",
       "      <td>Milliers de tonnes</td>\n",
       "      <td>9982.0</td>\n",
       "      <td>2.078338e+08</td>\n",
       "    </tr>\n",
       "    <tr>\n",
       "      <th>25068</th>\n",
       "      <td>Brésil</td>\n",
       "      <td>Nourriture</td>\n",
       "      <td>Viande de Volailles</td>\n",
       "      <td>2017</td>\n",
       "      <td>Milliers de tonnes</td>\n",
       "      <td>9982.0</td>\n",
       "      <td>2.078338e+08</td>\n",
       "    </tr>\n",
       "    <tr>\n",
       "      <th>35872</th>\n",
       "      <td>Chine, continentale</td>\n",
       "      <td>Production</td>\n",
       "      <td>Viande de Volailles</td>\n",
       "      <td>2017</td>\n",
       "      <td>Milliers de tonnes</td>\n",
       "      <td>18236.0</td>\n",
       "      <td>1.421022e+09</td>\n",
       "    </tr>\n",
       "    <tr>\n",
       "      <th>35876</th>\n",
       "      <td>Chine, continentale</td>\n",
       "      <td>Disponibilité intérieure</td>\n",
       "      <td>Viande de Volailles</td>\n",
       "      <td>2017</td>\n",
       "      <td>Milliers de tonnes</td>\n",
       "      <td>18161.0</td>\n",
       "      <td>1.421022e+09</td>\n",
       "    </tr>\n",
       "    <tr>\n",
       "      <th>35881</th>\n",
       "      <td>Chine, continentale</td>\n",
       "      <td>Nourriture</td>\n",
       "      <td>Viande de Volailles</td>\n",
       "      <td>2017</td>\n",
       "      <td>Milliers de tonnes</td>\n",
       "      <td>17518.0</td>\n",
       "      <td>1.421022e+09</td>\n",
       "    </tr>\n",
       "    <tr>\n",
       "      <th>56144</th>\n",
       "      <td>États-Unis d'Amérique</td>\n",
       "      <td>Production</td>\n",
       "      <td>Viande de Volailles</td>\n",
       "      <td>2017</td>\n",
       "      <td>Milliers de tonnes</td>\n",
       "      <td>21914.0</td>\n",
       "      <td>3.250848e+08</td>\n",
       "    </tr>\n",
       "    <tr>\n",
       "      <th>56148</th>\n",
       "      <td>États-Unis d'Amérique</td>\n",
       "      <td>Disponibilité intérieure</td>\n",
       "      <td>Viande de Volailles</td>\n",
       "      <td>2017</td>\n",
       "      <td>Milliers de tonnes</td>\n",
       "      <td>18266.0</td>\n",
       "      <td>3.250848e+08</td>\n",
       "    </tr>\n",
       "    <tr>\n",
       "      <th>56152</th>\n",
       "      <td>États-Unis d'Amérique</td>\n",
       "      <td>Nourriture</td>\n",
       "      <td>Viande de Volailles</td>\n",
       "      <td>2017</td>\n",
       "      <td>Milliers de tonnes</td>\n",
       "      <td>18100.0</td>\n",
       "      <td>3.250848e+08</td>\n",
       "    </tr>\n",
       "  </tbody>\n",
       "</table>\n",
       "</div>"
      ],
      "text/plain": [
       "                        Pays                   Élément              Produit  \\\n",
       "25062                 Brésil                Production  Viande de Volailles   \n",
       "25066                 Brésil  Disponibilité intérieure  Viande de Volailles   \n",
       "25068                 Brésil                Nourriture  Viande de Volailles   \n",
       "35872    Chine, continentale                Production  Viande de Volailles   \n",
       "35876    Chine, continentale  Disponibilité intérieure  Viande de Volailles   \n",
       "35881    Chine, continentale                Nourriture  Viande de Volailles   \n",
       "56144  États-Unis d'Amérique                Production  Viande de Volailles   \n",
       "56148  États-Unis d'Amérique  Disponibilité intérieure  Viande de Volailles   \n",
       "56152  États-Unis d'Amérique                Nourriture  Viande de Volailles   \n",
       "\n",
       "       Année               Unité  Valeur_produit    Population  \n",
       "25062   2017  Milliers de tonnes         14201.0  2.078338e+08  \n",
       "25066   2017  Milliers de tonnes          9982.0  2.078338e+08  \n",
       "25068   2017  Milliers de tonnes          9982.0  2.078338e+08  \n",
       "35872   2017  Milliers de tonnes         18236.0  1.421022e+09  \n",
       "35876   2017  Milliers de tonnes         18161.0  1.421022e+09  \n",
       "35881   2017  Milliers de tonnes         17518.0  1.421022e+09  \n",
       "56144   2017  Milliers de tonnes         21914.0  3.250848e+08  \n",
       "56148   2017  Milliers de tonnes         18266.0  3.250848e+08  \n",
       "56152   2017  Milliers de tonnes         18100.0  3.250848e+08  "
      ]
     },
     "execution_count": 35,
     "metadata": {},
     "output_type": "execute_result"
    }
   ],
   "source": [
    "out_pays = df_final.loc[df_final['Valeur_produit']> 8000]\n",
    "out_pays"
   ]
  },
  {
   "cell_type": "markdown",
   "id": "0a17d514",
   "metadata": {},
   "source": [
    "Ici ce sont donc les pays les plus gros en terme de population, ou en terme de valeur des produits, je ne les suppprime pas mais on n'exportera sûrement pas dans ces pays là"
   ]
  },
  {
   "cell_type": "markdown",
   "id": "7cade152",
   "metadata": {},
   "source": [
    "#### Pivot et traitement"
   ]
  },
  {
   "cell_type": "code",
   "execution_count": 36,
   "id": "a600485d",
   "metadata": {},
   "outputs": [],
   "source": [
    "df_pivot = pd.pivot_table(df_final, values = 'Valeur_produit', index = ['Pays'],columns=['Élément'],fill_value=0)"
   ]
  },
  {
   "cell_type": "markdown",
   "id": "6c4bad62",
   "metadata": {},
   "source": [
    "Ici j'ai fait pivoter la table de sorte à ce qu'on ait les éléments en colonnes et les pays en lignes"
   ]
  },
  {
   "cell_type": "code",
   "execution_count": 37,
   "id": "bafe0a63",
   "metadata": {},
   "outputs": [],
   "source": [
    "df_pivot.rename(columns={'Alimentation pour touristes':'alim_touriste','Aliments pour animaux':'alim_animaux','Autres utilisations (non alimentaire)':'Autres utilisations','Disponibilité alimentaire (Kcal/personne/jour':'dispo_alim(kcal/p/j)','Disponibilité alimentaire en quantité (kg/personne/an)':'dispo_alim_qté(kg/p/j)','Disponibilité de matière grasse en quantité (g/personne/jour)':'dispo_mg(g/p/j)','Disponibilité de protéines en quantité (g/personne/jour)':'dispo_prot(g/p/j)','Disponibilité alimentaire (Kcal/personne/jour)':'dispo_alim(Kcal/p/j)'},inplace=True)"
   ]
  },
  {
   "cell_type": "code",
   "execution_count": 38,
   "id": "a0b7021e",
   "metadata": {
    "scrolled": true
   },
   "outputs": [
    {
     "data": {
      "text/html": [
       "<div>\n",
       "<style scoped>\n",
       "    .dataframe tbody tr th:only-of-type {\n",
       "        vertical-align: middle;\n",
       "    }\n",
       "\n",
       "    .dataframe tbody tr th {\n",
       "        vertical-align: top;\n",
       "    }\n",
       "\n",
       "    .dataframe thead th {\n",
       "        text-align: right;\n",
       "    }\n",
       "</style>\n",
       "<table border=\"1\" class=\"dataframe\">\n",
       "  <thead>\n",
       "    <tr style=\"text-align: right;\">\n",
       "      <th>Élément</th>\n",
       "      <th>alim_touriste</th>\n",
       "      <th>alim_animaux</th>\n",
       "      <th>Autres utilisations</th>\n",
       "      <th>dispo_alim(Kcal/p/j)</th>\n",
       "      <th>dispo_alim_qté(kg/p/j)</th>\n",
       "      <th>dispo_mg(g/p/j)</th>\n",
       "      <th>dispo_prot(g/p/j)</th>\n",
       "      <th>Disponibilité intérieure</th>\n",
       "      <th>Exportations - Quantité</th>\n",
       "      <th>Importations - Quantité</th>\n",
       "      <th>Nourriture</th>\n",
       "      <th>Pertes</th>\n",
       "      <th>Production</th>\n",
       "      <th>Résidus</th>\n",
       "      <th>Semences</th>\n",
       "      <th>Traitement</th>\n",
       "      <th>Variation de stock</th>\n",
       "    </tr>\n",
       "    <tr>\n",
       "      <th>Pays</th>\n",
       "      <th></th>\n",
       "      <th></th>\n",
       "      <th></th>\n",
       "      <th></th>\n",
       "      <th></th>\n",
       "      <th></th>\n",
       "      <th></th>\n",
       "      <th></th>\n",
       "      <th></th>\n",
       "      <th></th>\n",
       "      <th></th>\n",
       "      <th></th>\n",
       "      <th></th>\n",
       "      <th></th>\n",
       "      <th></th>\n",
       "      <th></th>\n",
       "      <th></th>\n",
       "    </tr>\n",
       "  </thead>\n",
       "  <tbody>\n",
       "    <tr>\n",
       "      <th>Afghanistan</th>\n",
       "      <td>0</td>\n",
       "      <td>0</td>\n",
       "      <td>0</td>\n",
       "      <td>5</td>\n",
       "      <td>1.53</td>\n",
       "      <td>0.33</td>\n",
       "      <td>0.54</td>\n",
       "      <td>57</td>\n",
       "      <td>0</td>\n",
       "      <td>29</td>\n",
       "      <td>55</td>\n",
       "      <td>2</td>\n",
       "      <td>28</td>\n",
       "      <td>0</td>\n",
       "      <td>0</td>\n",
       "      <td>0</td>\n",
       "      <td>0</td>\n",
       "    </tr>\n",
       "    <tr>\n",
       "      <th>Afrique du Sud</th>\n",
       "      <td>0</td>\n",
       "      <td>0</td>\n",
       "      <td>0</td>\n",
       "      <td>143</td>\n",
       "      <td>35.69</td>\n",
       "      <td>9.25</td>\n",
       "      <td>14.11</td>\n",
       "      <td>2118</td>\n",
       "      <td>63</td>\n",
       "      <td>514</td>\n",
       "      <td>2035</td>\n",
       "      <td>83</td>\n",
       "      <td>1667</td>\n",
       "      <td>0</td>\n",
       "      <td>0</td>\n",
       "      <td>0</td>\n",
       "      <td>0</td>\n",
       "    </tr>\n",
       "    <tr>\n",
       "      <th>Albanie</th>\n",
       "      <td>0</td>\n",
       "      <td>0</td>\n",
       "      <td>0</td>\n",
       "      <td>85</td>\n",
       "      <td>16.36</td>\n",
       "      <td>6.45</td>\n",
       "      <td>6.26</td>\n",
       "      <td>47</td>\n",
       "      <td>0</td>\n",
       "      <td>38</td>\n",
       "      <td>47</td>\n",
       "      <td>0</td>\n",
       "      <td>13</td>\n",
       "      <td>0</td>\n",
       "      <td>0</td>\n",
       "      <td>0</td>\n",
       "      <td>4</td>\n",
       "    </tr>\n",
       "    <tr>\n",
       "      <th>Algérie</th>\n",
       "      <td>0</td>\n",
       "      <td>0</td>\n",
       "      <td>0</td>\n",
       "      <td>22</td>\n",
       "      <td>6.38</td>\n",
       "      <td>1.50</td>\n",
       "      <td>1.97</td>\n",
       "      <td>277</td>\n",
       "      <td>0</td>\n",
       "      <td>2</td>\n",
       "      <td>264</td>\n",
       "      <td>13</td>\n",
       "      <td>275</td>\n",
       "      <td>0</td>\n",
       "      <td>0</td>\n",
       "      <td>0</td>\n",
       "      <td>0</td>\n",
       "    </tr>\n",
       "    <tr>\n",
       "      <th>Allemagne</th>\n",
       "      <td>0</td>\n",
       "      <td>0</td>\n",
       "      <td>0</td>\n",
       "      <td>71</td>\n",
       "      <td>19.47</td>\n",
       "      <td>4.16</td>\n",
       "      <td>7.96</td>\n",
       "      <td>1739</td>\n",
       "      <td>646</td>\n",
       "      <td>842</td>\n",
       "      <td>1609</td>\n",
       "      <td>0</td>\n",
       "      <td>1514</td>\n",
       "      <td>-38</td>\n",
       "      <td>0</td>\n",
       "      <td>167</td>\n",
       "      <td>-29</td>\n",
       "    </tr>\n",
       "  </tbody>\n",
       "</table>\n",
       "</div>"
      ],
      "text/plain": [
       "Élément         alim_touriste  alim_animaux  Autres utilisations  \\\n",
       "Pays                                                               \n",
       "Afghanistan                 0             0                    0   \n",
       "Afrique du Sud              0             0                    0   \n",
       "Albanie                     0             0                    0   \n",
       "Algérie                     0             0                    0   \n",
       "Allemagne                   0             0                    0   \n",
       "\n",
       "Élément         dispo_alim(Kcal/p/j)  dispo_alim_qté(kg/p/j)  dispo_mg(g/p/j)  \\\n",
       "Pays                                                                            \n",
       "Afghanistan                        5                    1.53             0.33   \n",
       "Afrique du Sud                   143                   35.69             9.25   \n",
       "Albanie                           85                   16.36             6.45   \n",
       "Algérie                           22                    6.38             1.50   \n",
       "Allemagne                         71                   19.47             4.16   \n",
       "\n",
       "Élément         dispo_prot(g/p/j)  Disponibilité intérieure  \\\n",
       "Pays                                                          \n",
       "Afghanistan                  0.54                        57   \n",
       "Afrique du Sud              14.11                      2118   \n",
       "Albanie                      6.26                        47   \n",
       "Algérie                      1.97                       277   \n",
       "Allemagne                    7.96                      1739   \n",
       "\n",
       "Élément         Exportations - Quantité  Importations - Quantité  Nourriture  \\\n",
       "Pays                                                                           \n",
       "Afghanistan                           0                       29          55   \n",
       "Afrique du Sud                       63                      514        2035   \n",
       "Albanie                               0                       38          47   \n",
       "Algérie                               0                        2         264   \n",
       "Allemagne                           646                      842        1609   \n",
       "\n",
       "Élément         Pertes  Production  Résidus  Semences  Traitement  \\\n",
       "Pays                                                                \n",
       "Afghanistan          2          28        0         0           0   \n",
       "Afrique du Sud      83        1667        0         0           0   \n",
       "Albanie              0          13        0         0           0   \n",
       "Algérie             13         275        0         0           0   \n",
       "Allemagne            0        1514      -38         0         167   \n",
       "\n",
       "Élément         Variation de stock  \n",
       "Pays                                \n",
       "Afghanistan                      0  \n",
       "Afrique du Sud                   0  \n",
       "Albanie                          4  \n",
       "Algérie                          0  \n",
       "Allemagne                      -29  "
      ]
     },
     "execution_count": 38,
     "metadata": {},
     "output_type": "execute_result"
    }
   ],
   "source": [
    "df_pivot.head()"
   ]
  },
  {
   "cell_type": "markdown",
   "id": "64588285",
   "metadata": {},
   "source": [
    "Je me suis intéressé aux premières colonnes car j'y ai vu plusieurs 0"
   ]
  },
  {
   "cell_type": "code",
   "execution_count": 39,
   "id": "eaec10ae",
   "metadata": {
    "scrolled": true
   },
   "outputs": [
    {
     "data": {
      "text/plain": [
       "(0, 17)"
      ]
     },
     "execution_count": 39,
     "metadata": {},
     "output_type": "execute_result"
    }
   ],
   "source": [
    "filtre = df_pivot[df_pivot['alim_animaux'] != 0]\n",
    "filtre.shape"
   ]
  },
  {
   "cell_type": "code",
   "execution_count": 40,
   "id": "ed700293",
   "metadata": {},
   "outputs": [
    {
     "data": {
      "text/plain": [
       "(18, 17)"
      ]
     },
     "execution_count": 40,
     "metadata": {},
     "output_type": "execute_result"
    }
   ],
   "source": [
    "filtre1 = df_pivot[df_pivot['alim_touriste'] != 0]\n",
    "filtre1.shape"
   ]
  },
  {
   "cell_type": "code",
   "execution_count": 41,
   "id": "441aa8c5",
   "metadata": {},
   "outputs": [
    {
     "data": {
      "text/plain": [
       "(20, 17)"
      ]
     },
     "execution_count": 41,
     "metadata": {},
     "output_type": "execute_result"
    }
   ],
   "source": [
    "filtre2 = df_pivot[df_pivot['Autres utilisations'] != 0]\n",
    "filtre2.shape"
   ]
  },
  {
   "cell_type": "markdown",
   "id": "4d6f0a5a",
   "metadata": {},
   "source": [
    "Nous n'avons pas de pays qui utilisent la viande de volailles en tant qu'aliments pour animaux donc je peux supprimer cette colonne pour ce qui est des deux autres colonnes j'ai décidé de les garder"
   ]
  },
  {
   "cell_type": "code",
   "execution_count": 42,
   "id": "184aae5d",
   "metadata": {},
   "outputs": [],
   "source": [
    "df_pivot.drop(columns='alim_animaux', inplace=True)"
   ]
  },
  {
   "cell_type": "code",
   "execution_count": 43,
   "id": "2587035e",
   "metadata": {
    "scrolled": true
   },
   "outputs": [
    {
     "data": {
      "text/plain": [
       "(172, 16)"
      ]
     },
     "execution_count": 43,
     "metadata": {},
     "output_type": "execute_result"
    }
   ],
   "source": [
    "df_pivot.shape"
   ]
  },
  {
   "cell_type": "markdown",
   "id": "c7683a1a",
   "metadata": {},
   "source": [
    "### Analyse en composant principale (ACP)"
   ]
  },
  {
   "cell_type": "markdown",
   "id": "74d89b35",
   "metadata": {},
   "source": [
    "Notre but ici va de réduire le nombre de variables : c'est le but de l'ACP. Le but principal est de voir les liaisons entre les variables.\n",
    "On va voir aussi les différences entre les individus"
   ]
  },
  {
   "cell_type": "code",
   "execution_count": 44,
   "id": "01de1417",
   "metadata": {},
   "outputs": [],
   "source": [
    "df_acp = df_pivot"
   ]
  },
  {
   "cell_type": "code",
   "execution_count": 45,
   "id": "bfdb9129",
   "metadata": {},
   "outputs": [],
   "source": [
    "#nombre de composantes à calculer\n",
    "n_comp = 6"
   ]
  },
  {
   "cell_type": "code",
   "execution_count": 46,
   "id": "4abe7fcf",
   "metadata": {},
   "outputs": [],
   "source": [
    "X = df_acp.values\n",
    "names = df_acp.index\n",
    "features = df_pivot.columns"
   ]
  },
  {
   "cell_type": "code",
   "execution_count": 47,
   "id": "84ccc911",
   "metadata": {},
   "outputs": [],
   "source": [
    "std_scale = preprocessing.StandardScaler().fit(X)\n",
    "X_scaled = std_scale.transform(X)"
   ]
  },
  {
   "cell_type": "code",
   "execution_count": 48,
   "id": "064d46fc",
   "metadata": {},
   "outputs": [
    {
     "data": {
      "text/plain": [
       "PCA(n_components=6)"
      ]
     },
     "execution_count": 48,
     "metadata": {},
     "output_type": "execute_result"
    }
   ],
   "source": [
    "acp = decomposition.PCA(n_components=n_comp)\n",
    "acp.fit(X_scaled)"
   ]
  },
  {
   "cell_type": "code",
   "execution_count": 49,
   "id": "640ab100",
   "metadata": {
    "scrolled": true
   },
   "outputs": [
    {
     "data": {
      "image/png": "[encoded data removed]",
      "text/plain": [
       "<Figure size 432x288 with 1 Axes>"
      ]
     },
     "metadata": {
      "needs_background": "light"
     },
     "output_type": "display_data"
    }
   ],
   "source": [
    "display_scree_plot(acp)"
   ]
  },
  {
   "cell_type": "markdown",
   "id": "ee66c329",
   "metadata": {},
   "source": [
    "Plus de 50% de la variance des données est expliquée par ces deux composantes"
   ]
  },
  {
   "cell_type": "markdown",
   "id": "4ff9cf6e",
   "metadata": {},
   "source": [
    "On a donc ici l'éboulis des valeurs propres : on voit qu'avec les axes 1 et 2, nous avons plus de 50% d'inertie. Il est quand même intéressant de voir les autres axes."
   ]
  },
  {
   "cell_type": "code",
   "execution_count": 50,
   "id": "a4b56ea5",
   "metadata": {
    "scrolled": true
   },
   "outputs": [
    {
     "data": {
      "image/png": "[encoded data removed]",
      "text/plain": [
       "<Figure size 504x432 with 1 Axes>"
      ]
     },
     "metadata": {
      "needs_background": "light"
     },
     "output_type": "display_data"
    },
    {
     "data": {
      "image/png": "[encoded data removed]",
      "text/plain": [
       "<Figure size 504x432 with 1 Axes>"
      ]
     },
     "metadata": {
      "needs_background": "light"
     },
     "output_type": "display_data"
    },
    {
     "data": {
      "image/png": "[encoded data removed]",
      "text/plain": [
       "<Figure size 504x432 with 1 Axes>"
      ]
     },
     "metadata": {
      "needs_background": "light"
     },
     "output_type": "display_data"
    }
   ],
   "source": [
    "pcs = acp.components_\n",
    "display_circles(pcs, n_comp, acp, [(0,1),(2,3),(4,5)], labels = np.array(features))"
   ]
  },
  {
   "cell_type": "markdown",
   "id": "093fb0cd",
   "metadata": {},
   "source": [
    "Pour F1 et F2, on peut voir que la disponibilité intérieur est corrélé avec la nourriture que ce soit pour F1 ou F2, ou encore la disponibilité en matière grasse avec la disponibilité alimentaire pour F1 et anticorrélé avec F2.\n",
    "Pour F3 et F4, on voit que les autres utilisations et les pertes sont fortement corrélés avec F4 tout comme les résidus avec l'alimentation pour touriste qui sont anticorrélés avec F3. La variation de stock, ainsi que l'exportation et le traitement sont anticorrélés avec F4 mais peu corrélés avec F3 .\n",
    "Pour F5 et F6, on peut voir que traitement est fortement corrélé avec F6, la variation de stock est fortement corrélé avec F5."
   ]
  },
  {
   "cell_type": "code",
   "execution_count": 51,
   "id": "2a9ee45f",
   "metadata": {
    "scrolled": true
   },
   "outputs": [
    {
     "data": {
      "image/png": "[encoded data removed]",
      "text/plain": [
       "<Figure size 504x432 with 1 Axes>"
      ]
     },
     "metadata": {
      "needs_background": "light"
     },
     "output_type": "display_data"
    },
    {
     "data": {
      "image/png": "[encoded data removed]",
      "text/plain": [
       "<Figure size 504x432 with 1 Axes>"
      ]
     },
     "metadata": {
      "needs_background": "light"
     },
     "output_type": "display_data"
    },
    {
     "data": {
      "image/png": "[encoded data removed]",
      "text/plain": [
       "<Figure size 504x432 with 1 Axes>"
      ]
     },
     "metadata": {
      "needs_background": "light"
     },
     "output_type": "display_data"
    }
   ],
   "source": [
    "X_projected = acp.transform(X_scaled)\n",
    "display_factorial_planes(X_projected, n_comp, acp, [(0,1),(2,3),(4,5)], labels = np.array(names), alpha = 0.5)\n",
    "\n",
    "plt.show()"
   ]
  },
  {
   "cell_type": "code",
   "execution_count": 71,
   "id": "f1c9cfc6",
   "metadata": {},
   "outputs": [
    {
     "data": {
      "text/plain": [
       "(172, 16)"
      ]
     },
     "execution_count": 71,
     "metadata": {},
     "output_type": "execute_result"
    }
   ],
   "source": [
    "X=df_pivot.values\n",
    "X_norm = preprocessing.scale(X)\n",
    "X_norm.shape"
   ]
  },
  {
   "cell_type": "code",
   "execution_count": 73,
   "id": "41db91ee",
   "metadata": {
    "scrolled": true
   },
   "outputs": [],
   "source": [
    "#pca2 = decomposition.PCA(n_components = 6)\n",
    "acp.fit(X_norm)\n",
    "X_trans = acp.transform(X_norm)"
   ]
  },
  {
   "cell_type": "markdown",
   "id": "f99bd5e9",
   "metadata": {},
   "source": [
    "### Classification Ascendante Hiérarchique(CAH)"
   ]
  },
  {
   "cell_type": "markdown",
   "id": "d5e0975a",
   "metadata": {},
   "source": [
    "La classification ascendanre hiérarchique est une technique statistique qui consiste à partitionner une population en différente classes ou groupe. Le CAH va donc construire un dendrogramme en fonction de nos données pour réaliser des clusters. En découpant le dendrogramme on va choisir un nombre de cluster par la suite pour faire notre heatmap"
   ]
  },
  {
   "cell_type": "code",
   "execution_count": 52,
   "id": "331a3519",
   "metadata": {},
   "outputs": [],
   "source": [
    "from scipy.cluster.hierarchy import linkage, fcluster"
   ]
  },
  {
   "cell_type": "code",
   "execution_count": 53,
   "id": "d2af7c14",
   "metadata": {},
   "outputs": [],
   "source": [
    "X = df_pivot.values\n",
    "names = df_pivot.index\n"
   ]
  },
  {
   "cell_type": "code",
   "execution_count": 54,
   "id": "6d77ef80",
   "metadata": {},
   "outputs": [
    {
     "data": {
      "text/plain": [
       "(172, 16)"
      ]
     },
     "execution_count": 54,
     "metadata": {},
     "output_type": "execute_result"
    }
   ],
   "source": [
    "X.shape"
   ]
  },
  {
   "cell_type": "code",
   "execution_count": 55,
   "id": "40d048e8",
   "metadata": {},
   "outputs": [],
   "source": [
    "std_scale = preprocessing.StandardScaler().fit(X)\n",
    "X_scaled = std_scale.transform(X)"
   ]
  },
  {
   "cell_type": "code",
   "execution_count": 56,
   "id": "bb259895",
   "metadata": {},
   "outputs": [],
   "source": [
    "Z = linkage(X_scaled, 'ward')"
   ]
  },
  {
   "cell_type": "code",
   "execution_count": 57,
   "id": "7b16b669",
   "metadata": {
    "scrolled": false
   },
   "outputs": [
    {
     "data": {
      "image/png": "[encoded data removed]",
      "text/plain": [
       "<Figure size 720x1800 with 1 Axes>"
      ]
     },
     "metadata": {
      "needs_background": "light"
     },
     "output_type": "display_data"
    }
   ],
   "source": [
    "plot_dendrogram(Z, names)"
   ]
  },
  {
   "cell_type": "markdown",
   "id": "8d4b5d4a",
   "metadata": {},
   "source": [
    "Sur ce dendrogramme, on peut voir que les liens mènent à plusieurs points : j'ai donc choisi de couper le dendrogramme en 4 groupe (bleu-orange,bleu-vert,bleu-bleu(Hong-Kong) et bleu-jaune."
   ]
  },
  {
   "cell_type": "code",
   "execution_count": 58,
   "id": "a547ef28",
   "metadata": {},
   "outputs": [],
   "source": [
    "clusters = fcluster(Z, 4, criterion='maxclust')"
   ]
  },
  {
   "cell_type": "code",
   "execution_count": 59,
   "id": "23d059a6",
   "metadata": {},
   "outputs": [
    {
     "data": {
      "text/plain": [
       "array([2, 3, 2, 2, 2, 2, 3, 3, 3, 2, 3, 2, 2, 3, 2, 3, 2, 3, 3, 2, 2, 1,\n",
       "       2, 2, 3, 2, 2, 2, 2, 3, 3, 4, 3, 3, 1, 3, 3, 2, 3, 2, 3, 2, 3, 2,\n",
       "       3, 2, 3, 2, 2, 3, 2, 3, 3, 3, 2, 2, 3, 2, 2, 2, 2, 3, 2, 2, 2, 3,\n",
       "       1, 2, 3, 2, 3, 3, 3, 2, 3, 2, 3, 2, 2, 2, 2, 3, 2, 2, 2, 2, 3, 2,\n",
       "       2, 2, 3, 2, 3, 2, 3, 2, 3, 2, 3, 2, 2, 2, 3, 2, 2, 2, 2, 2, 3, 3,\n",
       "       2, 2, 2, 2, 2, 3, 2, 2, 2, 2, 3, 3, 1, 2, 3, 2, 2, 2, 2, 3, 2, 2,\n",
       "       2, 3, 3, 3, 3, 2, 2, 2, 2, 2, 2, 2, 2, 3, 2, 2, 2, 2, 2, 2, 2, 2,\n",
       "       3, 2, 2, 2, 2, 2, 2, 2, 2, 2, 2, 2, 2, 3, 2, 1, 2, 2], dtype=int32)"
      ]
     },
     "execution_count": 59,
     "metadata": {},
     "output_type": "execute_result"
    }
   ],
   "source": [
    "clusters"
   ]
  },
  {
   "cell_type": "code",
   "execution_count": 60,
   "id": "e1d624bc",
   "metadata": {
    "scrolled": true
   },
   "outputs": [
    {
     "data": {
      "text/html": [
       "<div>\n",
       "<style scoped>\n",
       "    .dataframe tbody tr th:only-of-type {\n",
       "        vertical-align: middle;\n",
       "    }\n",
       "\n",
       "    .dataframe tbody tr th {\n",
       "        vertical-align: top;\n",
       "    }\n",
       "\n",
       "    .dataframe thead th {\n",
       "        text-align: right;\n",
       "    }\n",
       "</style>\n",
       "<table border=\"1\" class=\"dataframe\">\n",
       "  <thead>\n",
       "    <tr style=\"text-align: right;\">\n",
       "      <th></th>\n",
       "      <th>cluster</th>\n",
       "      <th>Pays</th>\n",
       "    </tr>\n",
       "  </thead>\n",
       "  <tbody>\n",
       "    <tr>\n",
       "      <th>0</th>\n",
       "      <td>2</td>\n",
       "      <td>Afghanistan</td>\n",
       "    </tr>\n",
       "    <tr>\n",
       "      <th>1</th>\n",
       "      <td>3</td>\n",
       "      <td>Afrique du Sud</td>\n",
       "    </tr>\n",
       "    <tr>\n",
       "      <th>2</th>\n",
       "      <td>2</td>\n",
       "      <td>Albanie</td>\n",
       "    </tr>\n",
       "    <tr>\n",
       "      <th>3</th>\n",
       "      <td>2</td>\n",
       "      <td>Algérie</td>\n",
       "    </tr>\n",
       "    <tr>\n",
       "      <th>4</th>\n",
       "      <td>2</td>\n",
       "      <td>Allemagne</td>\n",
       "    </tr>\n",
       "    <tr>\n",
       "      <th>...</th>\n",
       "      <td>...</td>\n",
       "      <td>...</td>\n",
       "    </tr>\n",
       "    <tr>\n",
       "      <th>167</th>\n",
       "      <td>3</td>\n",
       "      <td>Émirats arabes unis</td>\n",
       "    </tr>\n",
       "    <tr>\n",
       "      <th>168</th>\n",
       "      <td>2</td>\n",
       "      <td>Équateur</td>\n",
       "    </tr>\n",
       "    <tr>\n",
       "      <th>169</th>\n",
       "      <td>1</td>\n",
       "      <td>États-Unis d'Amérique</td>\n",
       "    </tr>\n",
       "    <tr>\n",
       "      <th>170</th>\n",
       "      <td>2</td>\n",
       "      <td>Éthiopie</td>\n",
       "    </tr>\n",
       "    <tr>\n",
       "      <th>171</th>\n",
       "      <td>2</td>\n",
       "      <td>Îles Salomon</td>\n",
       "    </tr>\n",
       "  </tbody>\n",
       "</table>\n",
       "<p>172 rows × 2 columns</p>\n",
       "</div>"
      ],
      "text/plain": [
       "     cluster                   Pays\n",
       "0          2            Afghanistan\n",
       "1          3         Afrique du Sud\n",
       "2          2                Albanie\n",
       "3          2                Algérie\n",
       "4          2              Allemagne\n",
       "..       ...                    ...\n",
       "167        3    Émirats arabes unis\n",
       "168        2               Équateur\n",
       "169        1  États-Unis d'Amérique\n",
       "170        2               Éthiopie\n",
       "171        2           Îles Salomon\n",
       "\n",
       "[172 rows x 2 columns]"
      ]
     },
     "execution_count": 60,
     "metadata": {},
     "output_type": "execute_result"
    }
   ],
   "source": [
    "result = pd.DataFrame({'cluster':clusters, 'Pays':names })\n",
    "result"
   ]
  },
  {
   "cell_type": "markdown",
   "id": "cad463e2",
   "metadata": {},
   "source": [
    "Ici j'ai fait correspondre chaque pays à un cluster, ci-dessous la jointure avec notre dataframe \"df_pivot\""
   ]
  },
  {
   "cell_type": "code",
   "execution_count": 61,
   "id": "f88a2686",
   "metadata": {},
   "outputs": [
    {
     "data": {
      "text/html": [
       "<div>\n",
       "<style scoped>\n",
       "    .dataframe tbody tr th:only-of-type {\n",
       "        vertical-align: middle;\n",
       "    }\n",
       "\n",
       "    .dataframe tbody tr th {\n",
       "        vertical-align: top;\n",
       "    }\n",
       "\n",
       "    .dataframe thead th {\n",
       "        text-align: right;\n",
       "    }\n",
       "</style>\n",
       "<table border=\"1\" class=\"dataframe\">\n",
       "  <thead>\n",
       "    <tr style=\"text-align: right;\">\n",
       "      <th></th>\n",
       "      <th>cluster</th>\n",
       "      <th>Pays</th>\n",
       "      <th>alim_touriste</th>\n",
       "      <th>Autres utilisations</th>\n",
       "      <th>dispo_alim(Kcal/p/j)</th>\n",
       "      <th>dispo_alim_qté(kg/p/j)</th>\n",
       "      <th>dispo_mg(g/p/j)</th>\n",
       "      <th>dispo_prot(g/p/j)</th>\n",
       "      <th>Disponibilité intérieure</th>\n",
       "      <th>Exportations - Quantité</th>\n",
       "      <th>Importations - Quantité</th>\n",
       "      <th>Nourriture</th>\n",
       "      <th>Pertes</th>\n",
       "      <th>Production</th>\n",
       "      <th>Résidus</th>\n",
       "      <th>Semences</th>\n",
       "      <th>Traitement</th>\n",
       "      <th>Variation de stock</th>\n",
       "    </tr>\n",
       "  </thead>\n",
       "  <tbody>\n",
       "    <tr>\n",
       "      <th>0</th>\n",
       "      <td>2</td>\n",
       "      <td>Afghanistan</td>\n",
       "      <td>0</td>\n",
       "      <td>0</td>\n",
       "      <td>5</td>\n",
       "      <td>1.53</td>\n",
       "      <td>0.33</td>\n",
       "      <td>0.54</td>\n",
       "      <td>57</td>\n",
       "      <td>0</td>\n",
       "      <td>29</td>\n",
       "      <td>55</td>\n",
       "      <td>2</td>\n",
       "      <td>28</td>\n",
       "      <td>0</td>\n",
       "      <td>0</td>\n",
       "      <td>0</td>\n",
       "      <td>0</td>\n",
       "    </tr>\n",
       "    <tr>\n",
       "      <th>1</th>\n",
       "      <td>3</td>\n",
       "      <td>Afrique du Sud</td>\n",
       "      <td>0</td>\n",
       "      <td>0</td>\n",
       "      <td>143</td>\n",
       "      <td>35.69</td>\n",
       "      <td>9.25</td>\n",
       "      <td>14.11</td>\n",
       "      <td>2118</td>\n",
       "      <td>63</td>\n",
       "      <td>514</td>\n",
       "      <td>2035</td>\n",
       "      <td>83</td>\n",
       "      <td>1667</td>\n",
       "      <td>0</td>\n",
       "      <td>0</td>\n",
       "      <td>0</td>\n",
       "      <td>0</td>\n",
       "    </tr>\n",
       "    <tr>\n",
       "      <th>2</th>\n",
       "      <td>2</td>\n",
       "      <td>Albanie</td>\n",
       "      <td>0</td>\n",
       "      <td>0</td>\n",
       "      <td>85</td>\n",
       "      <td>16.36</td>\n",
       "      <td>6.45</td>\n",
       "      <td>6.26</td>\n",
       "      <td>47</td>\n",
       "      <td>0</td>\n",
       "      <td>38</td>\n",
       "      <td>47</td>\n",
       "      <td>0</td>\n",
       "      <td>13</td>\n",
       "      <td>0</td>\n",
       "      <td>0</td>\n",
       "      <td>0</td>\n",
       "      <td>4</td>\n",
       "    </tr>\n",
       "    <tr>\n",
       "      <th>3</th>\n",
       "      <td>2</td>\n",
       "      <td>Algérie</td>\n",
       "      <td>0</td>\n",
       "      <td>0</td>\n",
       "      <td>22</td>\n",
       "      <td>6.38</td>\n",
       "      <td>1.50</td>\n",
       "      <td>1.97</td>\n",
       "      <td>277</td>\n",
       "      <td>0</td>\n",
       "      <td>2</td>\n",
       "      <td>264</td>\n",
       "      <td>13</td>\n",
       "      <td>275</td>\n",
       "      <td>0</td>\n",
       "      <td>0</td>\n",
       "      <td>0</td>\n",
       "      <td>0</td>\n",
       "    </tr>\n",
       "    <tr>\n",
       "      <th>4</th>\n",
       "      <td>2</td>\n",
       "      <td>Allemagne</td>\n",
       "      <td>0</td>\n",
       "      <td>0</td>\n",
       "      <td>71</td>\n",
       "      <td>19.47</td>\n",
       "      <td>4.16</td>\n",
       "      <td>7.96</td>\n",
       "      <td>1739</td>\n",
       "      <td>646</td>\n",
       "      <td>842</td>\n",
       "      <td>1609</td>\n",
       "      <td>0</td>\n",
       "      <td>1514</td>\n",
       "      <td>-38</td>\n",
       "      <td>0</td>\n",
       "      <td>167</td>\n",
       "      <td>-29</td>\n",
       "    </tr>\n",
       "    <tr>\n",
       "      <th>...</th>\n",
       "      <td>...</td>\n",
       "      <td>...</td>\n",
       "      <td>...</td>\n",
       "      <td>...</td>\n",
       "      <td>...</td>\n",
       "      <td>...</td>\n",
       "      <td>...</td>\n",
       "      <td>...</td>\n",
       "      <td>...</td>\n",
       "      <td>...</td>\n",
       "      <td>...</td>\n",
       "      <td>...</td>\n",
       "      <td>...</td>\n",
       "      <td>...</td>\n",
       "      <td>...</td>\n",
       "      <td>...</td>\n",
       "      <td>...</td>\n",
       "      <td>...</td>\n",
       "    </tr>\n",
       "    <tr>\n",
       "      <th>167</th>\n",
       "      <td>3</td>\n",
       "      <td>Émirats arabes unis</td>\n",
       "      <td>0</td>\n",
       "      <td>0</td>\n",
       "      <td>147</td>\n",
       "      <td>43.47</td>\n",
       "      <td>9.25</td>\n",
       "      <td>14.80</td>\n",
       "      <td>412</td>\n",
       "      <td>94</td>\n",
       "      <td>433</td>\n",
       "      <td>412</td>\n",
       "      <td>0</td>\n",
       "      <td>48</td>\n",
       "      <td>0</td>\n",
       "      <td>0</td>\n",
       "      <td>0</td>\n",
       "      <td>-26</td>\n",
       "    </tr>\n",
       "    <tr>\n",
       "      <th>168</th>\n",
       "      <td>2</td>\n",
       "      <td>Équateur</td>\n",
       "      <td>0</td>\n",
       "      <td>0</td>\n",
       "      <td>83</td>\n",
       "      <td>19.31</td>\n",
       "      <td>6.35</td>\n",
       "      <td>6.15</td>\n",
       "      <td>341</td>\n",
       "      <td>0</td>\n",
       "      <td>0</td>\n",
       "      <td>324</td>\n",
       "      <td>17</td>\n",
       "      <td>340</td>\n",
       "      <td>0</td>\n",
       "      <td>0</td>\n",
       "      <td>0</td>\n",
       "      <td>-1</td>\n",
       "    </tr>\n",
       "    <tr>\n",
       "      <th>169</th>\n",
       "      <td>1</td>\n",
       "      <td>États-Unis d'Amérique</td>\n",
       "      <td>0</td>\n",
       "      <td>89</td>\n",
       "      <td>219</td>\n",
       "      <td>55.68</td>\n",
       "      <td>14.83</td>\n",
       "      <td>19.93</td>\n",
       "      <td>18266</td>\n",
       "      <td>3692</td>\n",
       "      <td>123</td>\n",
       "      <td>18100</td>\n",
       "      <td>0</td>\n",
       "      <td>21914</td>\n",
       "      <td>0</td>\n",
       "      <td>0</td>\n",
       "      <td>77</td>\n",
       "      <td>80</td>\n",
       "    </tr>\n",
       "    <tr>\n",
       "      <th>170</th>\n",
       "      <td>2</td>\n",
       "      <td>Éthiopie</td>\n",
       "      <td>0</td>\n",
       "      <td>0</td>\n",
       "      <td>0</td>\n",
       "      <td>0.13</td>\n",
       "      <td>0.03</td>\n",
       "      <td>0.04</td>\n",
       "      <td>14</td>\n",
       "      <td>0</td>\n",
       "      <td>1</td>\n",
       "      <td>14</td>\n",
       "      <td>1</td>\n",
       "      <td>14</td>\n",
       "      <td>0</td>\n",
       "      <td>0</td>\n",
       "      <td>0</td>\n",
       "      <td>0</td>\n",
       "    </tr>\n",
       "    <tr>\n",
       "      <th>171</th>\n",
       "      <td>2</td>\n",
       "      <td>Îles Salomon</td>\n",
       "      <td>0</td>\n",
       "      <td>0</td>\n",
       "      <td>18</td>\n",
       "      <td>4.45</td>\n",
       "      <td>1.31</td>\n",
       "      <td>1.51</td>\n",
       "      <td>3</td>\n",
       "      <td>0</td>\n",
       "      <td>6</td>\n",
       "      <td>3</td>\n",
       "      <td>0</td>\n",
       "      <td>0</td>\n",
       "      <td>0</td>\n",
       "      <td>0</td>\n",
       "      <td>0</td>\n",
       "      <td>3</td>\n",
       "    </tr>\n",
       "  </tbody>\n",
       "</table>\n",
       "<p>172 rows × 18 columns</p>\n",
       "</div>"
      ],
      "text/plain": [
       "     cluster                   Pays  alim_touriste  Autres utilisations  \\\n",
       "0          2            Afghanistan              0                    0   \n",
       "1          3         Afrique du Sud              0                    0   \n",
       "2          2                Albanie              0                    0   \n",
       "3          2                Algérie              0                    0   \n",
       "4          2              Allemagne              0                    0   \n",
       "..       ...                    ...            ...                  ...   \n",
       "167        3    Émirats arabes unis              0                    0   \n",
       "168        2               Équateur              0                    0   \n",
       "169        1  États-Unis d'Amérique              0                   89   \n",
       "170        2               Éthiopie              0                    0   \n",
       "171        2           Îles Salomon              0                    0   \n",
       "\n",
       "     dispo_alim(Kcal/p/j)  dispo_alim_qté(kg/p/j)  dispo_mg(g/p/j)  \\\n",
       "0                       5                    1.53             0.33   \n",
       "1                     143                   35.69             9.25   \n",
       "2                      85                   16.36             6.45   \n",
       "3                      22                    6.38             1.50   \n",
       "4                      71                   19.47             4.16   \n",
       "..                    ...                     ...              ...   \n",
       "167                   147                   43.47             9.25   \n",
       "168                    83                   19.31             6.35   \n",
       "169                   219                   55.68            14.83   \n",
       "170                     0                    0.13             0.03   \n",
       "171                    18                    4.45             1.31   \n",
       "\n",
       "     dispo_prot(g/p/j)  Disponibilité intérieure  Exportations - Quantité  \\\n",
       "0                 0.54                        57                        0   \n",
       "1                14.11                      2118                       63   \n",
       "2                 6.26                        47                        0   \n",
       "3                 1.97                       277                        0   \n",
       "4                 7.96                      1739                      646   \n",
       "..                 ...                       ...                      ...   \n",
       "167              14.80                       412                       94   \n",
       "168               6.15                       341                        0   \n",
       "169              19.93                     18266                     3692   \n",
       "170               0.04                        14                        0   \n",
       "171               1.51                         3                        0   \n",
       "\n",
       "     Importations - Quantité  Nourriture  Pertes  Production  Résidus  \\\n",
       "0                         29          55       2          28        0   \n",
       "1                        514        2035      83        1667        0   \n",
       "2                         38          47       0          13        0   \n",
       "3                          2         264      13         275        0   \n",
       "4                        842        1609       0        1514      -38   \n",
       "..                       ...         ...     ...         ...      ...   \n",
       "167                      433         412       0          48        0   \n",
       "168                        0         324      17         340        0   \n",
       "169                      123       18100       0       21914        0   \n",
       "170                        1          14       1          14        0   \n",
       "171                        6           3       0           0        0   \n",
       "\n",
       "     Semences  Traitement  Variation de stock  \n",
       "0           0           0                   0  \n",
       "1           0           0                   0  \n",
       "2           0           0                   4  \n",
       "3           0           0                   0  \n",
       "4           0         167                 -29  \n",
       "..        ...         ...                 ...  \n",
       "167         0           0                 -26  \n",
       "168         0           0                  -1  \n",
       "169         0          77                  80  \n",
       "170         0           0                   0  \n",
       "171         0           0                   3  \n",
       "\n",
       "[172 rows x 18 columns]"
      ]
     },
     "execution_count": 61,
     "metadata": {},
     "output_type": "execute_result"
    }
   ],
   "source": [
    "merge = pd.merge(result,df_pivot, on = 'Pays', how='inner')\n",
    "merge"
   ]
  },
  {
   "cell_type": "code",
   "execution_count": 62,
   "id": "e24b4ec3",
   "metadata": {
    "scrolled": false
   },
   "outputs": [
    {
     "data": {
      "text/html": [
       "<div>\n",
       "<style scoped>\n",
       "    .dataframe tbody tr th:only-of-type {\n",
       "        vertical-align: middle;\n",
       "    }\n",
       "\n",
       "    .dataframe tbody tr th {\n",
       "        vertical-align: top;\n",
       "    }\n",
       "\n",
       "    .dataframe thead th {\n",
       "        text-align: right;\n",
       "    }\n",
       "</style>\n",
       "<table border=\"1\" class=\"dataframe\">\n",
       "  <thead>\n",
       "    <tr style=\"text-align: right;\">\n",
       "      <th></th>\n",
       "      <th>cluster</th>\n",
       "      <th>alim_touriste</th>\n",
       "      <th>Autres utilisations</th>\n",
       "      <th>dispo_alim(Kcal/p/j)</th>\n",
       "      <th>dispo_alim_qté(kg/p/j)</th>\n",
       "      <th>dispo_mg(g/p/j)</th>\n",
       "      <th>dispo_prot(g/p/j)</th>\n",
       "      <th>Disponibilité intérieure</th>\n",
       "      <th>Exportations - Quantité</th>\n",
       "      <th>Importations - Quantité</th>\n",
       "      <th>Nourriture</th>\n",
       "      <th>Pertes</th>\n",
       "      <th>Production</th>\n",
       "      <th>Résidus</th>\n",
       "      <th>Semences</th>\n",
       "      <th>Traitement</th>\n",
       "      <th>Variation de stock</th>\n",
       "    </tr>\n",
       "  </thead>\n",
       "  <tbody>\n",
       "    <tr>\n",
       "      <th>1</th>\n",
       "      <td>1</td>\n",
       "      <td>0.000</td>\n",
       "      <td>174.400000</td>\n",
       "      <td>110.200000</td>\n",
       "      <td>26.346000</td>\n",
       "      <td>7.806000</td>\n",
       "      <td>9.406000</td>\n",
       "      <td>10318.600000</td>\n",
       "      <td>1699.200000</td>\n",
       "      <td>127.600000</td>\n",
       "      <td>9797.800000</td>\n",
       "      <td>330.800000</td>\n",
       "      <td>11872.200000</td>\n",
       "      <td>-0.200000</td>\n",
       "      <td>0.0</td>\n",
       "      <td>15.600000</td>\n",
       "      <td>-17.800000</td>\n",
       "    </tr>\n",
       "    <tr>\n",
       "      <th>2</th>\n",
       "      <td>2</td>\n",
       "      <td>0.000</td>\n",
       "      <td>0.390909</td>\n",
       "      <td>38.890909</td>\n",
       "      <td>10.975182</td>\n",
       "      <td>2.460455</td>\n",
       "      <td>3.911455</td>\n",
       "      <td>265.018182</td>\n",
       "      <td>53.945455</td>\n",
       "      <td>66.263636</td>\n",
       "      <td>254.600000</td>\n",
       "      <td>5.163636</td>\n",
       "      <td>268.627273</td>\n",
       "      <td>-2.718182</td>\n",
       "      <td>0.0</td>\n",
       "      <td>7.500000</td>\n",
       "      <td>15.909091</td>\n",
       "    </tr>\n",
       "    <tr>\n",
       "      <th>3</th>\n",
       "      <td>3</td>\n",
       "      <td>0.625</td>\n",
       "      <td>9.875000</td>\n",
       "      <td>139.017857</td>\n",
       "      <td>37.217679</td>\n",
       "      <td>9.288393</td>\n",
       "      <td>12.951964</td>\n",
       "      <td>640.464286</td>\n",
       "      <td>49.142857</td>\n",
       "      <td>114.035714</td>\n",
       "      <td>612.714286</td>\n",
       "      <td>12.464286</td>\n",
       "      <td>587.464286</td>\n",
       "      <td>-0.714286</td>\n",
       "      <td>0.0</td>\n",
       "      <td>5.464286</td>\n",
       "      <td>11.803571</td>\n",
       "    </tr>\n",
       "    <tr>\n",
       "      <th>4</th>\n",
       "      <td>4</td>\n",
       "      <td>-18.000</td>\n",
       "      <td>32.000000</td>\n",
       "      <td>210.000000</td>\n",
       "      <td>53.510000</td>\n",
       "      <td>12.700000</td>\n",
       "      <td>22.260000</td>\n",
       "      <td>280.000000</td>\n",
       "      <td>663.000000</td>\n",
       "      <td>907.000000</td>\n",
       "      <td>391.000000</td>\n",
       "      <td>0.000000</td>\n",
       "      <td>24.000000</td>\n",
       "      <td>-125.000000</td>\n",
       "      <td>0.0</td>\n",
       "      <td>0.000000</td>\n",
       "      <td>-12.000000</td>\n",
       "    </tr>\n",
       "  </tbody>\n",
       "</table>\n",
       "</div>"
      ],
      "text/plain": [
       "   cluster  alim_touriste  Autres utilisations  dispo_alim(Kcal/p/j)  \\\n",
       "1        1          0.000           174.400000            110.200000   \n",
       "2        2          0.000             0.390909             38.890909   \n",
       "3        3          0.625             9.875000            139.017857   \n",
       "4        4        -18.000            32.000000            210.000000   \n",
       "\n",
       "   dispo_alim_qté(kg/p/j)  dispo_mg(g/p/j)  dispo_prot(g/p/j)  \\\n",
       "1               26.346000         7.806000           9.406000   \n",
       "2               10.975182         2.460455           3.911455   \n",
       "3               37.217679         9.288393          12.951964   \n",
       "4               53.510000        12.700000          22.260000   \n",
       "\n",
       "   Disponibilité intérieure  Exportations - Quantité  Importations - Quantité  \\\n",
       "1              10318.600000              1699.200000               127.600000   \n",
       "2                265.018182                53.945455                66.263636   \n",
       "3                640.464286                49.142857               114.035714   \n",
       "4                280.000000               663.000000               907.000000   \n",
       "\n",
       "    Nourriture      Pertes    Production     Résidus  Semences  Traitement  \\\n",
       "1  9797.800000  330.800000  11872.200000   -0.200000       0.0   15.600000   \n",
       "2   254.600000    5.163636    268.627273   -2.718182       0.0    7.500000   \n",
       "3   612.714286   12.464286    587.464286   -0.714286       0.0    5.464286   \n",
       "4   391.000000    0.000000     24.000000 -125.000000       0.0    0.000000   \n",
       "\n",
       "   Variation de stock  \n",
       "1          -17.800000  \n",
       "2           15.909091  \n",
       "3           11.803571  \n",
       "4          -12.000000  "
      ]
     },
     "execution_count": 62,
     "metadata": {},
     "output_type": "execute_result"
    }
   ],
   "source": [
    "statcluster = merge.groupby(clusters).mean()\n",
    "statcluster"
   ]
  },
  {
   "cell_type": "markdown",
   "id": "e324445a",
   "metadata": {},
   "source": [
    "J'ai donc fait la moyenne de nos variables correspondant à chaque cluster, on peut voir sur cette dataframe que pour le cluster 1, nos moyennes sont disproportionnés par rapport aux autres données"
   ]
  },
  {
   "cell_type": "code",
   "execution_count": 63,
   "id": "e031195e",
   "metadata": {},
   "outputs": [],
   "source": [
    "import seaborn as sns"
   ]
  },
  {
   "cell_type": "code",
   "execution_count": 64,
   "id": "d5205418",
   "metadata": {
    "scrolled": false
   },
   "outputs": [
    {
     "data": {
      "text/plain": [
       "<AxesSubplot:>"
      ]
     },
     "execution_count": 64,
     "metadata": {},
     "output_type": "execute_result"
    },
    {
     "data": {
      "image/png": "[encoded data removed]",
      "text/plain": [
       "<Figure size 432x288 with 2 Axes>"
      ]
     },
     "metadata": {
      "needs_background": "light"
     },
     "output_type": "display_data"
    }
   ],
   "source": [
    "sns.heatmap(statcluster,cmap=\"YlGnBu\")"
   ]
  },
  {
   "cell_type": "markdown",
   "id": "45900c89",
   "metadata": {},
   "source": [
    "Avec Seaborn, j'ai obtenu cette heatmap. Ce qu'on peut voir, c'est que le cluster 1 est fortement corrélé avec la disponibilité intérieur, la nourriture et avec la production. Il est un peu corrélé avec l'exportation aussi.\n",
    "Pour ce qui est du cluster 4, on voit qu'il est un peu corrélé avec l'exportation et l'importation.\n",
    "Pour le cluster 3, il est corrélé avec la disponibilité intérieur, la nourriture et les pertes.\n",
    "Donc le cluster qui nous intéresse le plus est le cluster 2 car ils n'importent pas beacoup et ils ont peu de disponibilités intérieur."
   ]
  },
  {
   "cell_type": "code",
   "execution_count": 65,
   "id": "16f75244",
   "metadata": {
    "scrolled": false
   },
   "outputs": [
    {
     "data": {
      "text/plain": [
       "cluster\n",
       "1      5\n",
       "2    110\n",
       "3     56\n",
       "4      1\n",
       "Name: cluster, dtype: int64"
      ]
     },
     "execution_count": 65,
     "metadata": {},
     "output_type": "execute_result"
    }
   ],
   "source": [
    "result_count_cah=merge.groupby(['cluster'])['cluster'].count()\n",
    "result_count_cah"
   ]
  },
  {
   "cell_type": "markdown",
   "id": "192557ff",
   "metadata": {},
   "source": [
    "En regardant de plus près le nombre de pays par cluster, on peut voir qu'il n'y a qu'un seul pays pour le cluster 4. Je vais refaire le CAH avec 3 clusters."
   ]
  },
  {
   "cell_type": "code",
   "execution_count": 66,
   "id": "762c1885",
   "metadata": {},
   "outputs": [],
   "source": [
    "clusters_cah_final = fcluster(Z, 3, criterion='maxclust')"
   ]
  },
  {
   "cell_type": "code",
   "execution_count": 67,
   "id": "54045cf0",
   "metadata": {},
   "outputs": [],
   "source": [
    "result_cah = pd.DataFrame({'cluster':clusters_cah_final, 'Pays':names })"
   ]
  },
  {
   "cell_type": "code",
   "execution_count": 68,
   "id": "7dea8ced",
   "metadata": {},
   "outputs": [],
   "source": [
    "merge_cah = pd.merge(result_cah,df_pivot, on = 'Pays', how='inner')"
   ]
  },
  {
   "cell_type": "code",
   "execution_count": 78,
   "id": "09ed0009",
   "metadata": {
    "scrolled": true
   },
   "outputs": [],
   "source": [
    "statcluster_final = merge.groupby(clusters_cah_final).mean()"
   ]
  },
  {
   "cell_type": "code",
   "execution_count": 79,
   "id": "3966516c",
   "metadata": {
    "scrolled": false
   },
   "outputs": [
    {
     "data": {
      "text/plain": [
       "<AxesSubplot:>"
      ]
     },
     "execution_count": 79,
     "metadata": {},
     "output_type": "execute_result"
    },
    {
     "data": {
      "image/png": "[encoded data removed]",
      "text/plain": [
       "<Figure size 432x288 with 2 Axes>"
      ]
     },
     "metadata": {
      "needs_background": "light"
     },
     "output_type": "display_data"
    }
   ],
   "source": [
    "sns.heatmap(statcluster_final,cmap=\"YlGnBu\")"
   ]
  },
  {
   "cell_type": "markdown",
   "id": "eab0067d",
   "metadata": {},
   "source": [
    "Nous avons donc 3 clusters, le cluster 4 précédent s'étant ajouté au cluster 3."
   ]
  },
  {
   "cell_type": "code",
   "execution_count": 77,
   "id": "e3407a11",
   "metadata": {
    "scrolled": true
   },
   "outputs": [
    {
     "data": {
      "text/plain": [
       "cluster\n",
       "1      5\n",
       "2    110\n",
       "3     57\n",
       "Name: cluster, dtype: int64"
      ]
     },
     "execution_count": 77,
     "metadata": {},
     "output_type": "execute_result"
    }
   ],
   "source": [
    "result_count_cah_final=merge_cah.groupby(['cluster'])['cluster'].count()\n",
    "result_count_cah_final"
   ]
  },
  {
   "cell_type": "markdown",
   "id": "9bee4913",
   "metadata": {},
   "source": [
    "#### Projections des individus avec l'ACP."
   ]
  },
  {
   "cell_type": "code",
   "execution_count": 99,
   "id": "74cbcf09",
   "metadata": {
    "scrolled": true
   },
   "outputs": [
    {
     "data": {
      "text/plain": [
       "<matplotlib.collections.PathCollection at 0x25da99b0eb0>"
      ]
     },
     "execution_count": 99,
     "metadata": {},
     "output_type": "execute_result"
    },
    {
     "data": {
      "image/png": "[encoded data removed]",
      "text/plain": [
       "<Figure size 864x360 with 1 Axes>"
      ]
     },
     "metadata": {
      "needs_background": "light"
     },
     "output_type": "display_data"
    }
   ],
   "source": [
    "fig = plt.figure(figsize=(12,5))\n",
    "ax = fig.add_subplot(121)\n",
    "ax.scatter(X_trans[:,0], X_trans[:,1], c=clusters_cah_final)"
   ]
  },
  {
   "cell_type": "code",
   "execution_count": 100,
   "id": "f345101e",
   "metadata": {
    "scrolled": true
   },
   "outputs": [
    {
     "data": {
      "text/plain": [
       "<matplotlib.collections.PathCollection at 0x25dad14cfd0>"
      ]
     },
     "execution_count": 100,
     "metadata": {},
     "output_type": "execute_result"
    },
    {
     "data": {
      "image/png": "[encoded data removed]",
      "text/plain": [
       "<Figure size 864x360 with 1 Axes>"
      ]
     },
     "metadata": {
      "needs_background": "light"
     },
     "output_type": "display_data"
    }
   ],
   "source": [
    "fig = plt.figure(figsize=(12,5))\n",
    "ax = fig.add_subplot(121)\n",
    "ax.scatter(X_trans[:,2], X_trans[:,3], c=clusters_cah_final)"
   ]
  },
  {
   "cell_type": "code",
   "execution_count": 101,
   "id": "8f549ebf",
   "metadata": {
    "scrolled": true
   },
   "outputs": [
    {
     "data": {
      "text/plain": [
       "<matplotlib.collections.PathCollection at 0x25dad07a5e0>"
      ]
     },
     "execution_count": 101,
     "metadata": {},
     "output_type": "execute_result"
    },
    {
     "data": {
      "image/png": "[encoded data removed]",
      "text/plain": [
       "<Figure size 864x360 with 1 Axes>"
      ]
     },
     "metadata": {
      "needs_background": "light"
     },
     "output_type": "display_data"
    }
   ],
   "source": [
    "fig = plt.figure(figsize=(12,5))\n",
    "ax = fig.add_subplot(121)\n",
    "ax.scatter(X_trans[:,4], X_trans[:,5], c=clusters_cah_final)"
   ]
  },
  {
   "cell_type": "markdown",
   "id": "fbce2122",
   "metadata": {},
   "source": [
    "Donc pour exporter nos poulets, je vais lister les pays du cluster 2 :"
   ]
  },
  {
   "cell_type": "code",
   "execution_count": 82,
   "id": "ed6f1d76",
   "metadata": {
    "scrolled": true
   },
   "outputs": [
    {
     "data": {
      "text/html": [
       "<div>\n",
       "<style scoped>\n",
       "    .dataframe tbody tr th:only-of-type {\n",
       "        vertical-align: middle;\n",
       "    }\n",
       "\n",
       "    .dataframe tbody tr th {\n",
       "        vertical-align: top;\n",
       "    }\n",
       "\n",
       "    .dataframe thead th {\n",
       "        text-align: right;\n",
       "    }\n",
       "</style>\n",
       "<table border=\"1\" class=\"dataframe\">\n",
       "  <thead>\n",
       "    <tr style=\"text-align: right;\">\n",
       "      <th></th>\n",
       "      <th>cluster</th>\n",
       "      <th>Pays</th>\n",
       "    </tr>\n",
       "  </thead>\n",
       "  <tbody>\n",
       "    <tr>\n",
       "      <th>0</th>\n",
       "      <td>2</td>\n",
       "      <td>Afghanistan</td>\n",
       "    </tr>\n",
       "    <tr>\n",
       "      <th>2</th>\n",
       "      <td>2</td>\n",
       "      <td>Albanie</td>\n",
       "    </tr>\n",
       "    <tr>\n",
       "      <th>3</th>\n",
       "      <td>2</td>\n",
       "      <td>Algérie</td>\n",
       "    </tr>\n",
       "    <tr>\n",
       "      <th>4</th>\n",
       "      <td>2</td>\n",
       "      <td>Allemagne</td>\n",
       "    </tr>\n",
       "    <tr>\n",
       "      <th>5</th>\n",
       "      <td>2</td>\n",
       "      <td>Angola</td>\n",
       "    </tr>\n",
       "    <tr>\n",
       "      <th>...</th>\n",
       "      <td>...</td>\n",
       "      <td>...</td>\n",
       "    </tr>\n",
       "    <tr>\n",
       "      <th>165</th>\n",
       "      <td>2</td>\n",
       "      <td>Zimbabwe</td>\n",
       "    </tr>\n",
       "    <tr>\n",
       "      <th>166</th>\n",
       "      <td>2</td>\n",
       "      <td>Égypte</td>\n",
       "    </tr>\n",
       "    <tr>\n",
       "      <th>168</th>\n",
       "      <td>2</td>\n",
       "      <td>Équateur</td>\n",
       "    </tr>\n",
       "    <tr>\n",
       "      <th>170</th>\n",
       "      <td>2</td>\n",
       "      <td>Éthiopie</td>\n",
       "    </tr>\n",
       "    <tr>\n",
       "      <th>171</th>\n",
       "      <td>2</td>\n",
       "      <td>Îles Salomon</td>\n",
       "    </tr>\n",
       "  </tbody>\n",
       "</table>\n",
       "<p>110 rows × 2 columns</p>\n",
       "</div>"
      ],
      "text/plain": [
       "     cluster          Pays\n",
       "0          2   Afghanistan\n",
       "2          2       Albanie\n",
       "3          2       Algérie\n",
       "4          2     Allemagne\n",
       "5          2        Angola\n",
       "..       ...           ...\n",
       "165        2      Zimbabwe\n",
       "166        2        Égypte\n",
       "168        2      Équateur\n",
       "170        2      Éthiopie\n",
       "171        2  Îles Salomon\n",
       "\n",
       "[110 rows x 2 columns]"
      ]
     },
     "execution_count": 82,
     "metadata": {},
     "output_type": "execute_result"
    }
   ],
   "source": [
    "clust2 = result[result['cluster'] == 2]\n",
    "clust2"
   ]
  },
  {
   "cell_type": "markdown",
   "id": "710acb42",
   "metadata": {},
   "source": [
    "### K-means"
   ]
  },
  {
   "cell_type": "markdown",
   "id": "cd686778",
   "metadata": {},
   "source": [
    "K-means est un algorithme de clustering qui permet de regrouper des clusters avec le centre de gravités d'un groupe (ou centroïdes) \n",
    "On va donc choisir un centroïde d'un nuage \"au hasard\" et par la suite on va calculer le centre de gravité de chaque groupe et on voit qu'il change, on va donc bouger le premier centroïde sur le deuxième et on refait le même calculer jusqu'à ce que l'algorithme converge(plus rien ne bouge en calculant encore une fois)."
   ]
  },
  {
   "cell_type": "markdown",
   "id": "0b2cf995",
   "metadata": {},
   "source": [
    "#### Silhouette"
   ]
  },
  {
   "cell_type": "code",
   "execution_count": 84,
   "id": "eeaacb34",
   "metadata": {
    "scrolled": false
   },
   "outputs": [
    {
     "name": "stdout",
     "output_type": "stream",
     "text": [
      "Populating the interactive namespace from numpy and matplotlib\n"
     ]
    },
    {
     "data": {
      "text/plain": [
       "[<matplotlib.lines.Line2D at 0x25da9e0dfa0>]"
      ]
     },
     "execution_count": 84,
     "metadata": {},
     "output_type": "execute_result"
    },
    {
     "data": {
      "image/png": "[encoded data removed]",
      "text/plain": [
       "<Figure size 432x288 with 1 Axes>"
      ]
     },
     "metadata": {
      "needs_background": "light"
     },
     "output_type": "display_data"
    }
   ],
   "source": [
    "%pylab inline\n",
    "from sklearn import cluster, metrics\n",
    "\n",
    "silhouettes = []\n",
    "for num_clusters in range(2,15):\n",
    "    cls = cluster.KMeans(n_clusters=num_clusters,\n",
    "                        n_init=1, init='k-means++')\n",
    "    cls.fit(X_norm)\n",
    "    silh = metrics.silhouette_score(X_norm, cls.labels_)\n",
    "    silhouettes.append(silh)\n",
    "    \n",
    "plt.plot(range(2, 15), silhouettes, marker='o')"
   ]
  },
  {
   "cell_type": "markdown",
   "id": "03ac6db5",
   "metadata": {},
   "source": [
    "Grâce à ce coefficient de silhouette, on peut voir que la valeur maximale est pour 2 cluster or 2 est trop petit, je décide donc d'en prendre 4 pour essayer, je changerai plus tard si je vois que c'est mieux."
   ]
  },
  {
   "cell_type": "markdown",
   "id": "4d110987",
   "metadata": {},
   "source": [
    "#### K-Means"
   ]
  },
  {
   "cell_type": "code",
   "execution_count": 85,
   "id": "ee5fb9ff",
   "metadata": {
    "scrolled": false
   },
   "outputs": [
    {
     "data": {
      "text/plain": [
       "<matplotlib.collections.PathCollection at 0x25da9db6220>"
      ]
     },
     "execution_count": 85,
     "metadata": {},
     "output_type": "execute_result"
    },
    {
     "data": {
      "image/png": "[encoded data removed]",
      "text/plain": [
       "<Figure size 864x360 with 1 Axes>"
      ]
     },
     "metadata": {
      "needs_background": "light"
     },
     "output_type": "display_data"
    }
   ],
   "source": [
    "fig = plt.figure(figsize=(12,5))\n",
    "cls = cluster.KMeans(n_clusters=4)\n",
    "cluster2 = cls.fit(X_norm)\n",
    "ax = fig.add_subplot(121)\n",
    "ax.scatter(X_trans[:,0], X_trans[:,1], c=cls.labels_)"
   ]
  },
  {
   "cell_type": "markdown",
   "id": "c444ba7e",
   "metadata": {},
   "source": [
    "Sur cette première projection d'individus sûr F1 et F2, on peut voir les 3 points qui representent sûrement les Etats-Unis, la Chine et le Brésil.\n",
    "Pour le reste on a un point qui se balade tout seul en bas du graphique, donc on peut sûrement faire avec 3 clusters et non 4"
   ]
  },
  {
   "cell_type": "code",
   "execution_count": 86,
   "id": "ae740918",
   "metadata": {},
   "outputs": [
    {
     "data": {
      "text/plain": [
       "<matplotlib.collections.PathCollection at 0x25da9d923d0>"
      ]
     },
     "execution_count": 86,
     "metadata": {},
     "output_type": "execute_result"
    },
    {
     "data": {
      "image/png": "[encoded data removed]",
      "text/plain": [
       "<Figure size 864x360 with 1 Axes>"
      ]
     },
     "metadata": {
      "needs_background": "light"
     },
     "output_type": "display_data"
    }
   ],
   "source": [
    "fig = plt.figure(figsize=(12,5))\n",
    "cls = cluster.KMeans(n_clusters=4)\n",
    "cluster2 = cls.fit(X_norm)\n",
    "ax = fig.add_subplot(121)\n",
    "ax.scatter(X_trans[:,2], X_trans[:,3], c=cls.labels_)"
   ]
  },
  {
   "cell_type": "code",
   "execution_count": 87,
   "id": "7ac23b3f",
   "metadata": {
    "scrolled": true
   },
   "outputs": [
    {
     "data": {
      "text/plain": [
       "<matplotlib.collections.PathCollection at 0x25da9821460>"
      ]
     },
     "execution_count": 87,
     "metadata": {},
     "output_type": "execute_result"
    },
    {
     "data": {
      "image/png": "[encoded data removed]",
      "text/plain": [
       "<Figure size 864x360 with 1 Axes>"
      ]
     },
     "metadata": {
      "needs_background": "light"
     },
     "output_type": "display_data"
    }
   ],
   "source": [
    "fig = plt.figure(figsize=(12,5))\n",
    "cls = cluster.KMeans(n_clusters=4)\n",
    "cluster2 = cls.fit(X_norm)\n",
    "ax = fig.add_subplot(121)\n",
    "ax.scatter(X_trans[:,4], X_trans[:,5], c=cls.labels_)"
   ]
  },
  {
   "cell_type": "code",
   "execution_count": 88,
   "id": "7f6e8189",
   "metadata": {},
   "outputs": [],
   "source": [
    "df_pivot_copy = df_pivot.copy()"
   ]
  },
  {
   "cell_type": "code",
   "execution_count": 90,
   "id": "ad4686ec",
   "metadata": {
    "scrolled": true
   },
   "outputs": [
    {
     "data": {
      "text/html": [
       "<div>\n",
       "<style scoped>\n",
       "    .dataframe tbody tr th:only-of-type {\n",
       "        vertical-align: middle;\n",
       "    }\n",
       "\n",
       "    .dataframe tbody tr th {\n",
       "        vertical-align: top;\n",
       "    }\n",
       "\n",
       "    .dataframe thead th {\n",
       "        text-align: right;\n",
       "    }\n",
       "</style>\n",
       "<table border=\"1\" class=\"dataframe\">\n",
       "  <thead>\n",
       "    <tr style=\"text-align: right;\">\n",
       "      <th>Élément</th>\n",
       "      <th>alim_touriste</th>\n",
       "      <th>Autres utilisations</th>\n",
       "      <th>dispo_alim(Kcal/p/j)</th>\n",
       "      <th>dispo_alim_qté(kg/p/j)</th>\n",
       "      <th>dispo_mg(g/p/j)</th>\n",
       "      <th>dispo_prot(g/p/j)</th>\n",
       "      <th>Disponibilité intérieure</th>\n",
       "      <th>Exportations - Quantité</th>\n",
       "      <th>Importations - Quantité</th>\n",
       "      <th>Nourriture</th>\n",
       "      <th>Pertes</th>\n",
       "      <th>Production</th>\n",
       "      <th>Résidus</th>\n",
       "      <th>Semences</th>\n",
       "      <th>Traitement</th>\n",
       "      <th>Variation de stock</th>\n",
       "    </tr>\n",
       "  </thead>\n",
       "  <tbody>\n",
       "    <tr>\n",
       "      <th>0</th>\n",
       "      <td>0.500000</td>\n",
       "      <td>22.266667</td>\n",
       "      <td>135.250000</td>\n",
       "      <td>36.212667</td>\n",
       "      <td>8.982667</td>\n",
       "      <td>12.719000</td>\n",
       "      <td>717.650000</td>\n",
       "      <td>97.533333</td>\n",
       "      <td>150.133333</td>\n",
       "      <td>669.883333</td>\n",
       "      <td>18.283333</td>\n",
       "      <td>692.383333</td>\n",
       "      <td>-3.583333</td>\n",
       "      <td>0.0</td>\n",
       "      <td>10.250000</td>\n",
       "      <td>27.233333</td>\n",
       "    </tr>\n",
       "    <tr>\n",
       "      <th>1</th>\n",
       "      <td>0.046296</td>\n",
       "      <td>0.398148</td>\n",
       "      <td>37.194444</td>\n",
       "      <td>10.503611</td>\n",
       "      <td>2.370648</td>\n",
       "      <td>3.702685</td>\n",
       "      <td>251.324074</td>\n",
       "      <td>26.287037</td>\n",
       "      <td>43.768519</td>\n",
       "      <td>236.240741</td>\n",
       "      <td>10.925926</td>\n",
       "      <td>239.944444</td>\n",
       "      <td>-1.148148</td>\n",
       "      <td>0.0</td>\n",
       "      <td>4.777778</td>\n",
       "      <td>6.092593</td>\n",
       "    </tr>\n",
       "    <tr>\n",
       "      <th>2</th>\n",
       "      <td>-18.000000</td>\n",
       "      <td>32.000000</td>\n",
       "      <td>210.000000</td>\n",
       "      <td>53.510000</td>\n",
       "      <td>12.700000</td>\n",
       "      <td>22.260000</td>\n",
       "      <td>280.000000</td>\n",
       "      <td>663.000000</td>\n",
       "      <td>907.000000</td>\n",
       "      <td>391.000000</td>\n",
       "      <td>0.000000</td>\n",
       "      <td>24.000000</td>\n",
       "      <td>-125.000000</td>\n",
       "      <td>0.0</td>\n",
       "      <td>0.000000</td>\n",
       "      <td>-12.000000</td>\n",
       "    </tr>\n",
       "    <tr>\n",
       "      <th>3</th>\n",
       "      <td>0.000000</td>\n",
       "      <td>29.666667</td>\n",
       "      <td>160.666667</td>\n",
       "      <td>38.680000</td>\n",
       "      <td>11.613333</td>\n",
       "      <td>13.190000</td>\n",
       "      <td>15469.666667</td>\n",
       "      <td>2830.333333</td>\n",
       "      <td>192.666667</td>\n",
       "      <td>15200.000000</td>\n",
       "      <td>214.333333</td>\n",
       "      <td>18117.000000</td>\n",
       "      <td>-0.333333</td>\n",
       "      <td>0.0</td>\n",
       "      <td>26.000000</td>\n",
       "      <td>10.000000</td>\n",
       "    </tr>\n",
       "  </tbody>\n",
       "</table>\n",
       "</div>"
      ],
      "text/plain": [
       "Élément  alim_touriste  Autres utilisations  dispo_alim(Kcal/p/j)  \\\n",
       "0             0.500000            22.266667            135.250000   \n",
       "1             0.046296             0.398148             37.194444   \n",
       "2           -18.000000            32.000000            210.000000   \n",
       "3             0.000000            29.666667            160.666667   \n",
       "\n",
       "Élément  dispo_alim_qté(kg/p/j)  dispo_mg(g/p/j)  dispo_prot(g/p/j)  \\\n",
       "0                     36.212667         8.982667          12.719000   \n",
       "1                     10.503611         2.370648           3.702685   \n",
       "2                     53.510000        12.700000          22.260000   \n",
       "3                     38.680000        11.613333          13.190000   \n",
       "\n",
       "Élément  Disponibilité intérieure  Exportations - Quantité  \\\n",
       "0                      717.650000                97.533333   \n",
       "1                      251.324074                26.287037   \n",
       "2                      280.000000               663.000000   \n",
       "3                    15469.666667              2830.333333   \n",
       "\n",
       "Élément  Importations - Quantité    Nourriture      Pertes    Production  \\\n",
       "0                     150.133333    669.883333   18.283333    692.383333   \n",
       "1                      43.768519    236.240741   10.925926    239.944444   \n",
       "2                     907.000000    391.000000    0.000000     24.000000   \n",
       "3                     192.666667  15200.000000  214.333333  18117.000000   \n",
       "\n",
       "Élément     Résidus  Semences  Traitement  Variation de stock  \n",
       "0         -3.583333       0.0   10.250000           27.233333  \n",
       "1         -1.148148       0.0    4.777778            6.092593  \n",
       "2       -125.000000       0.0    0.000000          -12.000000  \n",
       "3         -0.333333       0.0   26.000000           10.000000  "
      ]
     },
     "execution_count": 90,
     "metadata": {},
     "output_type": "execute_result"
    }
   ],
   "source": [
    "df_pivot_copy['labels']= cluster2.labels_\n",
    "clusters_kmeans=cluster2.labels_\n",
    "statcluster_kmeans = df_pivot.groupby(clusters_kmeans).mean()\n",
    "statcluster_kmeans"
   ]
  },
  {
   "cell_type": "code",
   "execution_count": 91,
   "id": "9b7bcadb",
   "metadata": {
    "scrolled": true
   },
   "outputs": [
    {
     "data": {
      "text/plain": [
       "labels\n",
       "0     60\n",
       "1    108\n",
       "2      1\n",
       "3      3\n",
       "Name: labels, dtype: int64"
      ]
     },
     "execution_count": 91,
     "metadata": {},
     "output_type": "execute_result"
    }
   ],
   "source": [
    "countcluster_kmeans=df_pivot_copy.groupby(['labels'])['labels'].count()\n",
    "countcluster_kmeans"
   ]
  },
  {
   "cell_type": "code",
   "execution_count": 92,
   "id": "edd286b6",
   "metadata": {
    "scrolled": false
   },
   "outputs": [
    {
     "data": {
      "text/plain": [
       "<AxesSubplot:xlabel='Élément'>"
      ]
     },
     "execution_count": 92,
     "metadata": {},
     "output_type": "execute_result"
    },
    {
     "data": {
      "image/png": "[encoded data removed]",
      "text/plain": [
       "<Figure size 432x288 with 2 Axes>"
      ]
     },
     "metadata": {
      "needs_background": "light"
     },
     "output_type": "display_data"
    }
   ],
   "source": [
    "sns.heatmap(statcluster_kmeans,cmap=\"YlGnBu\")"
   ]
  },
  {
   "cell_type": "markdown",
   "id": "08ea4eac",
   "metadata": {},
   "source": [
    "Cette heatmap correspond donc  à la heatmap du CAH, le cluster ayant les couleurs les plus foncés sont celles qui sont le plus corrélés. Vérifions comme avec le CAH le nombre de pays par cluster pour bien justifier le choix de nos cluster."
   ]
  },
  {
   "cell_type": "markdown",
   "id": "de156cb0",
   "metadata": {},
   "source": [
    "#### Projection des individus avec 3 clusters"
   ]
  },
  {
   "cell_type": "code",
   "execution_count": 93,
   "id": "f05d1327",
   "metadata": {},
   "outputs": [
    {
     "data": {
      "text/plain": [
       "<matplotlib.collections.PathCollection at 0x25da9eba8e0>"
      ]
     },
     "execution_count": 93,
     "metadata": {},
     "output_type": "execute_result"
    },
    {
     "data": {
      "image/png": "[encoded data removed]",
      "text/plain": [
       "<Figure size 864x360 with 1 Axes>"
      ]
     },
     "metadata": {
      "needs_background": "light"
     },
     "output_type": "display_data"
    }
   ],
   "source": [
    "fig = plt.figure(figsize=(12,5))\n",
    "cls_f = cluster.KMeans(n_clusters=3)\n",
    "cluster2_f = cls_f.fit(X_norm)\n",
    "ax = fig.add_subplot(121)\n",
    "ax.scatter(X_trans[:,0], X_trans[:,1], c=cls_f.labels_)"
   ]
  },
  {
   "cell_type": "code",
   "execution_count": 94,
   "id": "2079469a",
   "metadata": {},
   "outputs": [
    {
     "data": {
      "text/plain": [
       "<matplotlib.collections.PathCollection at 0x25da4ba3700>"
      ]
     },
     "execution_count": 94,
     "metadata": {},
     "output_type": "execute_result"
    },
    {
     "data": {
      "image/png": "[encoded data removed]",
      "text/plain": [
       "<Figure size 864x360 with 1 Axes>"
      ]
     },
     "metadata": {
      "needs_background": "light"
     },
     "output_type": "display_data"
    }
   ],
   "source": [
    "fig = plt.figure(figsize=(12,5))\n",
    "cls_f = cluster.KMeans(n_clusters=3)\n",
    "cluster2_f = cls_f.fit(X_norm)\n",
    "ax = fig.add_subplot(121)\n",
    "ax.scatter(X_trans[:,2], X_trans[:,3], c=cls_f.labels_)"
   ]
  },
  {
   "cell_type": "code",
   "execution_count": 95,
   "id": "b8814a3a",
   "metadata": {},
   "outputs": [
    {
     "data": {
      "text/plain": [
       "<matplotlib.collections.PathCollection at 0x25dab9eb0d0>"
      ]
     },
     "execution_count": 95,
     "metadata": {},
     "output_type": "execute_result"
    },
    {
     "data": {
      "image/png": "[encoded data removed]",
      "text/plain": [
       "<Figure size 864x360 with 1 Axes>"
      ]
     },
     "metadata": {
      "needs_background": "light"
     },
     "output_type": "display_data"
    }
   ],
   "source": [
    "fig = plt.figure(figsize=(12,5))\n",
    "cls_f = cluster.KMeans(n_clusters=3)\n",
    "cluster2_f = cls_f.fit(X_norm)\n",
    "ax = fig.add_subplot(121)\n",
    "ax.scatter(X_trans[:,4], X_trans[:,5], c=cls_f.labels_)"
   ]
  },
  {
   "cell_type": "code",
   "execution_count": 96,
   "id": "b4d1efaa",
   "metadata": {},
   "outputs": [],
   "source": [
    "df_pivot_copy_kmeans = df_pivot.copy()"
   ]
  },
  {
   "cell_type": "code",
   "execution_count": 97,
   "id": "d907a82f",
   "metadata": {},
   "outputs": [
    {
     "data": {
      "text/html": [
       "<div>\n",
       "<style scoped>\n",
       "    .dataframe tbody tr th:only-of-type {\n",
       "        vertical-align: middle;\n",
       "    }\n",
       "\n",
       "    .dataframe tbody tr th {\n",
       "        vertical-align: top;\n",
       "    }\n",
       "\n",
       "    .dataframe thead th {\n",
       "        text-align: right;\n",
       "    }\n",
       "</style>\n",
       "<table border=\"1\" class=\"dataframe\">\n",
       "  <thead>\n",
       "    <tr style=\"text-align: right;\">\n",
       "      <th>Élément</th>\n",
       "      <th>alim_touriste</th>\n",
       "      <th>Autres utilisations</th>\n",
       "      <th>dispo_alim(Kcal/p/j)</th>\n",
       "      <th>dispo_alim_qté(kg/p/j)</th>\n",
       "      <th>dispo_mg(g/p/j)</th>\n",
       "      <th>dispo_prot(g/p/j)</th>\n",
       "      <th>Disponibilité intérieure</th>\n",
       "      <th>Exportations - Quantité</th>\n",
       "      <th>Importations - Quantité</th>\n",
       "      <th>Nourriture</th>\n",
       "      <th>Pertes</th>\n",
       "      <th>Production</th>\n",
       "      <th>Résidus</th>\n",
       "      <th>Semences</th>\n",
       "      <th>Traitement</th>\n",
       "      <th>Variation de stock</th>\n",
       "    </tr>\n",
       "  </thead>\n",
       "  <tbody>\n",
       "    <tr>\n",
       "      <th>0</th>\n",
       "      <td>0.116071</td>\n",
       "      <td>8.044643</td>\n",
       "      <td>38.785714</td>\n",
       "      <td>10.921250</td>\n",
       "      <td>2.476339</td>\n",
       "      <td>3.850268</td>\n",
       "      <td>260.535714</td>\n",
       "      <td>25.392857</td>\n",
       "      <td>45.803571</td>\n",
       "      <td>235.428571</td>\n",
       "      <td>13.366071</td>\n",
       "      <td>246.125000</td>\n",
       "      <td>-1.107143</td>\n",
       "      <td>0.0</td>\n",
       "      <td>4.607143</td>\n",
       "      <td>5.982143</td>\n",
       "    </tr>\n",
       "    <tr>\n",
       "      <th>1</th>\n",
       "      <td>0.070175</td>\n",
       "      <td>8.947368</td>\n",
       "      <td>140.315789</td>\n",
       "      <td>37.499649</td>\n",
       "      <td>9.304211</td>\n",
       "      <td>13.229123</td>\n",
       "      <td>724.596491</td>\n",
       "      <td>114.210526</td>\n",
       "      <td>166.877193</td>\n",
       "      <td>697.017544</td>\n",
       "      <td>13.684211</td>\n",
       "      <td>700.263158</td>\n",
       "      <td>-5.964912</td>\n",
       "      <td>0.0</td>\n",
       "      <td>10.789474</td>\n",
       "      <td>28.245614</td>\n",
       "    </tr>\n",
       "    <tr>\n",
       "      <th>2</th>\n",
       "      <td>0.000000</td>\n",
       "      <td>29.666667</td>\n",
       "      <td>160.666667</td>\n",
       "      <td>38.680000</td>\n",
       "      <td>11.613333</td>\n",
       "      <td>13.190000</td>\n",
       "      <td>15469.666667</td>\n",
       "      <td>2830.333333</td>\n",
       "      <td>192.666667</td>\n",
       "      <td>15200.000000</td>\n",
       "      <td>214.333333</td>\n",
       "      <td>18117.000000</td>\n",
       "      <td>-0.333333</td>\n",
       "      <td>0.0</td>\n",
       "      <td>26.000000</td>\n",
       "      <td>10.000000</td>\n",
       "    </tr>\n",
       "  </tbody>\n",
       "</table>\n",
       "</div>"
      ],
      "text/plain": [
       "Élément  alim_touriste  Autres utilisations  dispo_alim(Kcal/p/j)  \\\n",
       "0             0.116071             8.044643             38.785714   \n",
       "1             0.070175             8.947368            140.315789   \n",
       "2             0.000000            29.666667            160.666667   \n",
       "\n",
       "Élément  dispo_alim_qté(kg/p/j)  dispo_mg(g/p/j)  dispo_prot(g/p/j)  \\\n",
       "0                     10.921250         2.476339           3.850268   \n",
       "1                     37.499649         9.304211          13.229123   \n",
       "2                     38.680000        11.613333          13.190000   \n",
       "\n",
       "Élément  Disponibilité intérieure  Exportations - Quantité  \\\n",
       "0                      260.535714                25.392857   \n",
       "1                      724.596491               114.210526   \n",
       "2                    15469.666667              2830.333333   \n",
       "\n",
       "Élément  Importations - Quantité    Nourriture      Pertes    Production  \\\n",
       "0                      45.803571    235.428571   13.366071    246.125000   \n",
       "1                     166.877193    697.017544   13.684211    700.263158   \n",
       "2                     192.666667  15200.000000  214.333333  18117.000000   \n",
       "\n",
       "Élément   Résidus  Semences  Traitement  Variation de stock  \n",
       "0       -1.107143       0.0    4.607143            5.982143  \n",
       "1       -5.964912       0.0   10.789474           28.245614  \n",
       "2       -0.333333       0.0   26.000000           10.000000  "
      ]
     },
     "execution_count": 97,
     "metadata": {},
     "output_type": "execute_result"
    }
   ],
   "source": [
    "df_pivot_copy_kmeans['labels']= cluster2_f.labels_\n",
    "clusters_kmeans_f=cluster2_f.labels_\n",
    "statcluster_kmeans_f = df_pivot.groupby(clusters_kmeans_f).mean()\n",
    "statcluster_kmeans_f"
   ]
  },
  {
   "cell_type": "code",
   "execution_count": 109,
   "id": "e159fddc",
   "metadata": {
    "scrolled": true
   },
   "outputs": [
    {
     "data": {
      "image/png": "[encoded data removed]",
      "text/plain": [
       "<Figure size 432x288 with 2 Axes>"
      ]
     },
     "metadata": {
      "needs_background": "light"
     },
     "output_type": "display_data"
    }
   ],
   "source": [
    "heatmap_kmeans = sns.heatmap(statcluster_kmeans_f,cmap=\"YlGnBu\")\n",
    "fig = heatmap_kmeans.get_figure()\n",
    "fig.savefig('heatmap_kmeans.png')"
   ]
  },
  {
   "cell_type": "markdown",
   "id": "009188d9",
   "metadata": {},
   "source": [
    "### Conculsion"
   ]
  },
  {
   "cell_type": "markdown",
   "id": "fd1bb81d",
   "metadata": {},
   "source": [
    "On peut voir que les deux heatmaps sont très ressemblantes, pour moi il n'y a pas de différences entre les 2 méthodes de clustering cependant, je trouve que le CAH est beaucoup plus adapté à notre jeu de données.\n",
    "De plus j'aurais pu rajouté d'autres données(stabilité politique, PIB, ou encore population que je n'ai pas pu utilisé faute de temps, mais comme on a la méthode pour réaliser les clustering, il suffira d'ajouter des données et analyser encore une fois."
   ]
  },
  {
   "cell_type": "code",
   "execution_count": null,
   "id": "de4316cf",
   "metadata": {},
   "outputs": [],
   "source": []
  }
 ],
 "metadata": {
  "kernelspec": {
   "display_name": "Python 3",
   "language": "python",
   "name": "python3"
  },
  "language_info": {
   "codemirror_mode": {
    "name": "ipython",
    "version": 3
   },
   "file_extension": ".py",
   "mimetype": "text/x-python",
   "name": "python",
   "nbconvert_exporter": "python",
   "pygments_lexer": "ipython3",
   "version": "3.8.8"
  }
 },
 "nbformat": 4,
 "nbformat_minor": 5
}
